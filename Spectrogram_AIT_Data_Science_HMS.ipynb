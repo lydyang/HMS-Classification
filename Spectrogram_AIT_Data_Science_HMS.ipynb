{
  "cells": [
    {
      "cell_type": "markdown",
      "metadata": {
        "id": "view-in-github",
        "colab_type": "text"
      },
      "source": [
        "<a href=\"https://colab.research.google.com/github/lydyang/HMS-Classification/blob/main/Spectrogram_AIT_Data_Science_HMS.ipynb\" target=\"_parent\"><img src=\"https://colab.research.google.com/assets/colab-badge.svg\" alt=\"Open In Colab\"/></a>"
      ]
    },
    {
      "cell_type": "markdown",
      "metadata": {
        "id": "fy9UKZlL1p8J"
      },
      "source": [
        "# **HMS - Harmful Brain Activity Classification**\n",
        "Shirui Li, Falak Pabari, Lydia Yang, Echo Zhang\n",
        "\n",
        "Challenge found [here](https://www.kaggle.com/competitions/hms-harmful-brain-activity-classification/overview)."
      ]
    },
    {
      "cell_type": "markdown",
      "source": [
        "# **Data Preparation - EEG & Spectrogram**"
      ],
      "metadata": {
        "id": "NXd4qi6njHhn"
      }
    },
    {
      "cell_type": "code",
      "execution_count": null,
      "metadata": {
        "id": "z2zkphELnuH-"
      },
      "outputs": [],
      "source": [
        "!pip install opendatasets --upgrade --quiet"
      ]
    },
    {
      "cell_type": "code",
      "execution_count": null,
      "metadata": {
        "id": "8SXUf4SU_Nle"
      },
      "outputs": [],
      "source": [
        "import numpy as np\n",
        "import tensorflow as tf\n",
        "import opendatasets as od\n",
        "import random\n",
        "import os\n",
        "import pandas as pd\n",
        "import seaborn as sns\n",
        "import matplotlib.pyplot as plt\n",
        "import configparser\n",
        "import cv2\n",
        "from configparser import ConfigParser\n",
        "from pathlib import Path\n",
        "\n",
        "from sklearn.model_selection import train_test_split\n",
        "from tensorflow.keras.datasets import cifar10\n",
        "from tensorflow.keras.utils import to_categorical\n",
        "from tensorflow.keras.models import Sequential\n",
        "from tensorflow.keras.layers import Dense, Conv2D, MaxPool2D, Flatten, Dropout, BatchNormalization, Activation, Conv1D, MaxPooling1D\n",
        "from tensorflow.keras.initializers import HeNormal\n",
        "from tensorflow.keras.callbacks import EarlyStopping\n",
        "from tensorflow.keras.optimizers import SGD\n",
        "from sklearn.metrics import confusion_matrix, classification_report, balanced_accuracy_score"
      ]
    },
    {
      "cell_type": "markdown",
      "metadata": {
        "id": "4coT8nFi-xLX"
      },
      "source": [
        "Input Kaggle username and API key when prompted:\n",
        "\n",
        "username: \"lydddddd\"\n",
        "password: \"2ee9d5fcab6a9b81550b85c8d408d476\""
      ]
    },
    {
      "cell_type": "code",
      "execution_count": null,
      "metadata": {
        "colab": {
          "base_uri": "https://localhost:8080/"
        },
        "id": "MoLw-zcSpyQo",
        "outputId": "8b9628da-fb85-41ba-82e6-06d9f838f5ef"
      },
      "outputs": [
        {
          "output_type": "stream",
          "name": "stdout",
          "text": [
            "Please provide your Kaggle credentials to download this dataset. Learn more: http://bit.ly/kaggle-creds\n",
            "Your Kaggle username: lydddddd\n",
            "Your Kaggle Key: ··········\n",
            "Downloading hms-harmful-brain-activity-classification.zip to ./hms-harmful-brain-activity-classification\n"
          ]
        },
        {
          "output_type": "stream",
          "name": "stderr",
          "text": [
            "100%|██████████| 18.4G/18.4G [04:46<00:00, 68.9MB/s]\n"
          ]
        },
        {
          "output_type": "stream",
          "name": "stdout",
          "text": [
            "\n",
            "Extracting archive ./hms-harmful-brain-activity-classification/hms-harmful-brain-activity-classification.zip to ./hms-harmful-brain-activity-classification\n"
          ]
        }
      ],
      "source": [
        "dataset = 'https://www.kaggle.com/competitions/hms-harmful-brain-activity-classification/data'\n",
        "od.download(dataset)"
      ]
    },
    {
      "cell_type": "code",
      "execution_count": null,
      "metadata": {
        "id": "fz-LPfuHsQQO"
      },
      "outputs": [],
      "source": [
        "data_dir = './hms-harmful-brain-activity-classification'"
      ]
    },
    {
      "cell_type": "code",
      "source": [
        "# Source: https://www.geeksforgeeks.org/python-get-unique-values-list/\n",
        "def unique(list1):\n",
        "\n",
        "    # insert the list to the set\n",
        "    list_set = set(list1)\n",
        "    # convert the set to the list\n",
        "    unique_list = (list(list_set))\n",
        "    return unique_list"
      ],
      "metadata": {
        "id": "r4b2kxAWesCL"
      },
      "execution_count": null,
      "outputs": []
    },
    {
      "cell_type": "code",
      "execution_count": null,
      "metadata": {
        "id": "rRhO9b9enPS0"
      },
      "outputs": [],
      "source": [
        "# Retrieve id names in a list for correlation\n",
        "# id list format: eeg_id, spectrogram_id, patient_id, consensus\n",
        "label_mapping = {\n",
        "    'Seizure': 0,\n",
        "    'LPD': 1,\n",
        "    'GPD': 2,\n",
        "    'LRDA': 3,\n",
        "    'GRDA': 4,\n",
        "    'Other': 5\n",
        "}\n",
        "\n",
        "train_csv = pd.read_csv(data_dir + '/train.csv')\n",
        "\n",
        "eegids = train_csv['eeg_id'].tolist()\n",
        "spectids = train_csv['spectrogram_id'].tolist()\n",
        "patientids = train_csv['patient_id'].tolist()\n",
        "consensus = [label_mapping[x] for x in train_csv['expert_consensus'].tolist()]\n",
        "ids = unique(list(zip(eegids, spectids, patientids, consensus)))"
      ]
    },
    {
      "cell_type": "code",
      "source": [
        "# Extract x and y datatet for spectrograms\n",
        "rand_spectrogram = random.sample(ids, int(0.3*len(ids)))\n",
        "spectrogram_dir = [(data_dir+\"/\"+\"train_eegs/\"+str(x[0])+\".parquet\") for x in rand_spectrogram]\n",
        "x_spectrogram = [pd.read_parquet(file) for file in spectrogram_dir]\n",
        "y_spectrogram = [x[3] for x in rand_spectrogram]\n",
        "x_spectrogram[0]"
      ],
      "metadata": {
        "colab": {
          "base_uri": "https://localhost:8080/",
          "height": 439
        },
        "id": "7IvtpsFahABH",
        "outputId": "36dc4805-0f43-4f1e-e576-aae1027a0b65"
      },
      "execution_count": null,
      "outputs": [
        {
          "output_type": "execute_result",
          "data": {
            "text/plain": [
              "             Fp1         F3          C3         P3         F7         T3  \\\n",
              "0      77.139999  61.480000  268.290009  55.160000   7.860000  37.980000   \n",
              "1      73.650002  61.540001  152.410004  60.529999  15.300000  41.029999   \n",
              "2      52.259998  70.489998  110.370003  63.029999  18.440001  46.610001   \n",
              "3      46.799999  62.139999  235.490005  55.080002   3.050000  24.320000   \n",
              "4      71.940002  73.199997  187.529999  63.520000  14.770000  52.240002   \n",
              "...          ...        ...         ...        ...        ...        ...   \n",
              "10795  -9.800000  -1.880000  219.449997 -12.470000 -45.669998 -22.180000   \n",
              "10796   9.230000   1.000000  207.669998 -15.030000 -20.670000   0.510000   \n",
              "10797  -6.980000  11.860000  107.480003  -8.310000 -17.320000  -6.830000   \n",
              "10798   4.670000   7.730000  199.970001 -11.950000 -31.450001  -0.650000   \n",
              "10799 -15.220000   4.830000  260.869995 -13.500000 -40.090000  -2.400000   \n",
              "\n",
              "              T5         O1         Fz         Cz         Pz         Fp2  \\\n",
              "0     -13.360000 -31.209999  62.480000  58.610001  74.620003  100.389999   \n",
              "1      -6.600000 -24.990000  69.010002  63.119999  78.489998   92.400002   \n",
              "2      -2.250000 -23.410000  65.989998  61.939999  78.800003   92.040001   \n",
              "3     -12.560000 -29.910000  58.830002  55.540001  74.070000   75.400002   \n",
              "4      -7.370000 -25.700001  72.370003  68.589996  82.110001   46.830002   \n",
              "...          ...        ...        ...        ...        ...         ...   \n",
              "10795 -16.070000 -15.810000  -5.930000 -19.150000  10.020000  -16.969999   \n",
              "10796 -14.750000 -15.940000  -5.210000 -20.510000   8.630000    3.280000   \n",
              "10797 -14.480000 -14.220000  10.100000  -8.780000  17.090000    1.350000   \n",
              "10798 -18.590000 -16.500000   5.850000 -19.150000  13.130000  -10.130000   \n",
              "10799 -20.719999 -16.620001   5.610000 -10.040000  16.040001   -1.320000   \n",
              "\n",
              "               F4         C4         P4          F8         T4         T6  \\\n",
              "0       91.440002  71.930000  52.580002  100.400002  86.949997  77.029999   \n",
              "1       94.040001  75.230003  56.950001  103.150002  85.660004  78.110001   \n",
              "2      114.209999  73.190002  56.470001   97.820000  77.139999  81.580002   \n",
              "3       75.250000  69.580002  51.639999   97.400002  97.110001  77.870003   \n",
              "4      101.809998  84.519997  63.049999  104.820000  98.040001  81.790001   \n",
              "...           ...        ...        ...         ...        ...        ...   \n",
              "10795    8.940000 -28.600000 -32.709999   -9.460000  -8.190000 -16.219999   \n",
              "10796   -5.600000 -31.230000 -34.480000  -16.389999  -7.110000 -20.070000   \n",
              "10797    0.440000 -15.700000 -22.440001   -8.130000  15.820000 -12.870000   \n",
              "10798  -15.590000 -52.970001 -29.139999    5.920000  19.900000 -11.590000   \n",
              "10799   23.629999  -6.160000 -19.059999  -10.090000 -13.580000 -15.310000   \n",
              "\n",
              "              O2    EKG  \n",
              "0      45.860001 -17.09  \n",
              "1      48.560001 -16.60  \n",
              "2      50.150002 -14.43  \n",
              "3      45.849998 -13.49  \n",
              "4      49.230000 -10.41  \n",
              "...          ...    ...  \n",
              "10795  -4.920000 -30.49  \n",
              "10796  -8.380000 -32.59  \n",
              "10797  -2.590000 -33.09  \n",
              "10798  -3.230000 -35.43  \n",
              "10799  -5.390000 -34.98  \n",
              "\n",
              "[10800 rows x 20 columns]"
            ],
            "text/html": [
              "\n",
              "  <div id=\"df-36c1361f-6945-4b91-a5ed-dd2904c4d8cb\" class=\"colab-df-container\">\n",
              "    <div>\n",
              "<style scoped>\n",
              "    .dataframe tbody tr th:only-of-type {\n",
              "        vertical-align: middle;\n",
              "    }\n",
              "\n",
              "    .dataframe tbody tr th {\n",
              "        vertical-align: top;\n",
              "    }\n",
              "\n",
              "    .dataframe thead th {\n",
              "        text-align: right;\n",
              "    }\n",
              "</style>\n",
              "<table border=\"1\" class=\"dataframe\">\n",
              "  <thead>\n",
              "    <tr style=\"text-align: right;\">\n",
              "      <th></th>\n",
              "      <th>Fp1</th>\n",
              "      <th>F3</th>\n",
              "      <th>C3</th>\n",
              "      <th>P3</th>\n",
              "      <th>F7</th>\n",
              "      <th>T3</th>\n",
              "      <th>T5</th>\n",
              "      <th>O1</th>\n",
              "      <th>Fz</th>\n",
              "      <th>Cz</th>\n",
              "      <th>Pz</th>\n",
              "      <th>Fp2</th>\n",
              "      <th>F4</th>\n",
              "      <th>C4</th>\n",
              "      <th>P4</th>\n",
              "      <th>F8</th>\n",
              "      <th>T4</th>\n",
              "      <th>T6</th>\n",
              "      <th>O2</th>\n",
              "      <th>EKG</th>\n",
              "    </tr>\n",
              "  </thead>\n",
              "  <tbody>\n",
              "    <tr>\n",
              "      <th>0</th>\n",
              "      <td>77.139999</td>\n",
              "      <td>61.480000</td>\n",
              "      <td>268.290009</td>\n",
              "      <td>55.160000</td>\n",
              "      <td>7.860000</td>\n",
              "      <td>37.980000</td>\n",
              "      <td>-13.360000</td>\n",
              "      <td>-31.209999</td>\n",
              "      <td>62.480000</td>\n",
              "      <td>58.610001</td>\n",
              "      <td>74.620003</td>\n",
              "      <td>100.389999</td>\n",
              "      <td>91.440002</td>\n",
              "      <td>71.930000</td>\n",
              "      <td>52.580002</td>\n",
              "      <td>100.400002</td>\n",
              "      <td>86.949997</td>\n",
              "      <td>77.029999</td>\n",
              "      <td>45.860001</td>\n",
              "      <td>-17.09</td>\n",
              "    </tr>\n",
              "    <tr>\n",
              "      <th>1</th>\n",
              "      <td>73.650002</td>\n",
              "      <td>61.540001</td>\n",
              "      <td>152.410004</td>\n",
              "      <td>60.529999</td>\n",
              "      <td>15.300000</td>\n",
              "      <td>41.029999</td>\n",
              "      <td>-6.600000</td>\n",
              "      <td>-24.990000</td>\n",
              "      <td>69.010002</td>\n",
              "      <td>63.119999</td>\n",
              "      <td>78.489998</td>\n",
              "      <td>92.400002</td>\n",
              "      <td>94.040001</td>\n",
              "      <td>75.230003</td>\n",
              "      <td>56.950001</td>\n",
              "      <td>103.150002</td>\n",
              "      <td>85.660004</td>\n",
              "      <td>78.110001</td>\n",
              "      <td>48.560001</td>\n",
              "      <td>-16.60</td>\n",
              "    </tr>\n",
              "    <tr>\n",
              "      <th>2</th>\n",
              "      <td>52.259998</td>\n",
              "      <td>70.489998</td>\n",
              "      <td>110.370003</td>\n",
              "      <td>63.029999</td>\n",
              "      <td>18.440001</td>\n",
              "      <td>46.610001</td>\n",
              "      <td>-2.250000</td>\n",
              "      <td>-23.410000</td>\n",
              "      <td>65.989998</td>\n",
              "      <td>61.939999</td>\n",
              "      <td>78.800003</td>\n",
              "      <td>92.040001</td>\n",
              "      <td>114.209999</td>\n",
              "      <td>73.190002</td>\n",
              "      <td>56.470001</td>\n",
              "      <td>97.820000</td>\n",
              "      <td>77.139999</td>\n",
              "      <td>81.580002</td>\n",
              "      <td>50.150002</td>\n",
              "      <td>-14.43</td>\n",
              "    </tr>\n",
              "    <tr>\n",
              "      <th>3</th>\n",
              "      <td>46.799999</td>\n",
              "      <td>62.139999</td>\n",
              "      <td>235.490005</td>\n",
              "      <td>55.080002</td>\n",
              "      <td>3.050000</td>\n",
              "      <td>24.320000</td>\n",
              "      <td>-12.560000</td>\n",
              "      <td>-29.910000</td>\n",
              "      <td>58.830002</td>\n",
              "      <td>55.540001</td>\n",
              "      <td>74.070000</td>\n",
              "      <td>75.400002</td>\n",
              "      <td>75.250000</td>\n",
              "      <td>69.580002</td>\n",
              "      <td>51.639999</td>\n",
              "      <td>97.400002</td>\n",
              "      <td>97.110001</td>\n",
              "      <td>77.870003</td>\n",
              "      <td>45.849998</td>\n",
              "      <td>-13.49</td>\n",
              "    </tr>\n",
              "    <tr>\n",
              "      <th>4</th>\n",
              "      <td>71.940002</td>\n",
              "      <td>73.199997</td>\n",
              "      <td>187.529999</td>\n",
              "      <td>63.520000</td>\n",
              "      <td>14.770000</td>\n",
              "      <td>52.240002</td>\n",
              "      <td>-7.370000</td>\n",
              "      <td>-25.700001</td>\n",
              "      <td>72.370003</td>\n",
              "      <td>68.589996</td>\n",
              "      <td>82.110001</td>\n",
              "      <td>46.830002</td>\n",
              "      <td>101.809998</td>\n",
              "      <td>84.519997</td>\n",
              "      <td>63.049999</td>\n",
              "      <td>104.820000</td>\n",
              "      <td>98.040001</td>\n",
              "      <td>81.790001</td>\n",
              "      <td>49.230000</td>\n",
              "      <td>-10.41</td>\n",
              "    </tr>\n",
              "    <tr>\n",
              "      <th>...</th>\n",
              "      <td>...</td>\n",
              "      <td>...</td>\n",
              "      <td>...</td>\n",
              "      <td>...</td>\n",
              "      <td>...</td>\n",
              "      <td>...</td>\n",
              "      <td>...</td>\n",
              "      <td>...</td>\n",
              "      <td>...</td>\n",
              "      <td>...</td>\n",
              "      <td>...</td>\n",
              "      <td>...</td>\n",
              "      <td>...</td>\n",
              "      <td>...</td>\n",
              "      <td>...</td>\n",
              "      <td>...</td>\n",
              "      <td>...</td>\n",
              "      <td>...</td>\n",
              "      <td>...</td>\n",
              "      <td>...</td>\n",
              "    </tr>\n",
              "    <tr>\n",
              "      <th>10795</th>\n",
              "      <td>-9.800000</td>\n",
              "      <td>-1.880000</td>\n",
              "      <td>219.449997</td>\n",
              "      <td>-12.470000</td>\n",
              "      <td>-45.669998</td>\n",
              "      <td>-22.180000</td>\n",
              "      <td>-16.070000</td>\n",
              "      <td>-15.810000</td>\n",
              "      <td>-5.930000</td>\n",
              "      <td>-19.150000</td>\n",
              "      <td>10.020000</td>\n",
              "      <td>-16.969999</td>\n",
              "      <td>8.940000</td>\n",
              "      <td>-28.600000</td>\n",
              "      <td>-32.709999</td>\n",
              "      <td>-9.460000</td>\n",
              "      <td>-8.190000</td>\n",
              "      <td>-16.219999</td>\n",
              "      <td>-4.920000</td>\n",
              "      <td>-30.49</td>\n",
              "    </tr>\n",
              "    <tr>\n",
              "      <th>10796</th>\n",
              "      <td>9.230000</td>\n",
              "      <td>1.000000</td>\n",
              "      <td>207.669998</td>\n",
              "      <td>-15.030000</td>\n",
              "      <td>-20.670000</td>\n",
              "      <td>0.510000</td>\n",
              "      <td>-14.750000</td>\n",
              "      <td>-15.940000</td>\n",
              "      <td>-5.210000</td>\n",
              "      <td>-20.510000</td>\n",
              "      <td>8.630000</td>\n",
              "      <td>3.280000</td>\n",
              "      <td>-5.600000</td>\n",
              "      <td>-31.230000</td>\n",
              "      <td>-34.480000</td>\n",
              "      <td>-16.389999</td>\n",
              "      <td>-7.110000</td>\n",
              "      <td>-20.070000</td>\n",
              "      <td>-8.380000</td>\n",
              "      <td>-32.59</td>\n",
              "    </tr>\n",
              "    <tr>\n",
              "      <th>10797</th>\n",
              "      <td>-6.980000</td>\n",
              "      <td>11.860000</td>\n",
              "      <td>107.480003</td>\n",
              "      <td>-8.310000</td>\n",
              "      <td>-17.320000</td>\n",
              "      <td>-6.830000</td>\n",
              "      <td>-14.480000</td>\n",
              "      <td>-14.220000</td>\n",
              "      <td>10.100000</td>\n",
              "      <td>-8.780000</td>\n",
              "      <td>17.090000</td>\n",
              "      <td>1.350000</td>\n",
              "      <td>0.440000</td>\n",
              "      <td>-15.700000</td>\n",
              "      <td>-22.440001</td>\n",
              "      <td>-8.130000</td>\n",
              "      <td>15.820000</td>\n",
              "      <td>-12.870000</td>\n",
              "      <td>-2.590000</td>\n",
              "      <td>-33.09</td>\n",
              "    </tr>\n",
              "    <tr>\n",
              "      <th>10798</th>\n",
              "      <td>4.670000</td>\n",
              "      <td>7.730000</td>\n",
              "      <td>199.970001</td>\n",
              "      <td>-11.950000</td>\n",
              "      <td>-31.450001</td>\n",
              "      <td>-0.650000</td>\n",
              "      <td>-18.590000</td>\n",
              "      <td>-16.500000</td>\n",
              "      <td>5.850000</td>\n",
              "      <td>-19.150000</td>\n",
              "      <td>13.130000</td>\n",
              "      <td>-10.130000</td>\n",
              "      <td>-15.590000</td>\n",
              "      <td>-52.970001</td>\n",
              "      <td>-29.139999</td>\n",
              "      <td>5.920000</td>\n",
              "      <td>19.900000</td>\n",
              "      <td>-11.590000</td>\n",
              "      <td>-3.230000</td>\n",
              "      <td>-35.43</td>\n",
              "    </tr>\n",
              "    <tr>\n",
              "      <th>10799</th>\n",
              "      <td>-15.220000</td>\n",
              "      <td>4.830000</td>\n",
              "      <td>260.869995</td>\n",
              "      <td>-13.500000</td>\n",
              "      <td>-40.090000</td>\n",
              "      <td>-2.400000</td>\n",
              "      <td>-20.719999</td>\n",
              "      <td>-16.620001</td>\n",
              "      <td>5.610000</td>\n",
              "      <td>-10.040000</td>\n",
              "      <td>16.040001</td>\n",
              "      <td>-1.320000</td>\n",
              "      <td>23.629999</td>\n",
              "      <td>-6.160000</td>\n",
              "      <td>-19.059999</td>\n",
              "      <td>-10.090000</td>\n",
              "      <td>-13.580000</td>\n",
              "      <td>-15.310000</td>\n",
              "      <td>-5.390000</td>\n",
              "      <td>-34.98</td>\n",
              "    </tr>\n",
              "  </tbody>\n",
              "</table>\n",
              "<p>10800 rows × 20 columns</p>\n",
              "</div>\n",
              "    <div class=\"colab-df-buttons\">\n",
              "\n",
              "  <div class=\"colab-df-container\">\n",
              "    <button class=\"colab-df-convert\" onclick=\"convertToInteractive('df-36c1361f-6945-4b91-a5ed-dd2904c4d8cb')\"\n",
              "            title=\"Convert this dataframe to an interactive table.\"\n",
              "            style=\"display:none;\">\n",
              "\n",
              "  <svg xmlns=\"http://www.w3.org/2000/svg\" height=\"24px\" viewBox=\"0 -960 960 960\">\n",
              "    <path d=\"M120-120v-720h720v720H120Zm60-500h600v-160H180v160Zm220 220h160v-160H400v160Zm0 220h160v-160H400v160ZM180-400h160v-160H180v160Zm440 0h160v-160H620v160ZM180-180h160v-160H180v160Zm440 0h160v-160H620v160Z\"/>\n",
              "  </svg>\n",
              "    </button>\n",
              "\n",
              "  <style>\n",
              "    .colab-df-container {\n",
              "      display:flex;\n",
              "      gap: 12px;\n",
              "    }\n",
              "\n",
              "    .colab-df-convert {\n",
              "      background-color: #E8F0FE;\n",
              "      border: none;\n",
              "      border-radius: 50%;\n",
              "      cursor: pointer;\n",
              "      display: none;\n",
              "      fill: #1967D2;\n",
              "      height: 32px;\n",
              "      padding: 0 0 0 0;\n",
              "      width: 32px;\n",
              "    }\n",
              "\n",
              "    .colab-df-convert:hover {\n",
              "      background-color: #E2EBFA;\n",
              "      box-shadow: 0px 1px 2px rgba(60, 64, 67, 0.3), 0px 1px 3px 1px rgba(60, 64, 67, 0.15);\n",
              "      fill: #174EA6;\n",
              "    }\n",
              "\n",
              "    .colab-df-buttons div {\n",
              "      margin-bottom: 4px;\n",
              "    }\n",
              "\n",
              "    [theme=dark] .colab-df-convert {\n",
              "      background-color: #3B4455;\n",
              "      fill: #D2E3FC;\n",
              "    }\n",
              "\n",
              "    [theme=dark] .colab-df-convert:hover {\n",
              "      background-color: #434B5C;\n",
              "      box-shadow: 0px 1px 3px 1px rgba(0, 0, 0, 0.15);\n",
              "      filter: drop-shadow(0px 1px 2px rgba(0, 0, 0, 0.3));\n",
              "      fill: #FFFFFF;\n",
              "    }\n",
              "  </style>\n",
              "\n",
              "    <script>\n",
              "      const buttonEl =\n",
              "        document.querySelector('#df-36c1361f-6945-4b91-a5ed-dd2904c4d8cb button.colab-df-convert');\n",
              "      buttonEl.style.display =\n",
              "        google.colab.kernel.accessAllowed ? 'block' : 'none';\n",
              "\n",
              "      async function convertToInteractive(key) {\n",
              "        const element = document.querySelector('#df-36c1361f-6945-4b91-a5ed-dd2904c4d8cb');\n",
              "        const dataTable =\n",
              "          await google.colab.kernel.invokeFunction('convertToInteractive',\n",
              "                                                    [key], {});\n",
              "        if (!dataTable) return;\n",
              "\n",
              "        const docLinkHtml = 'Like what you see? Visit the ' +\n",
              "          '<a target=\"_blank\" href=https://colab.research.google.com/notebooks/data_table.ipynb>data table notebook</a>'\n",
              "          + ' to learn more about interactive tables.';\n",
              "        element.innerHTML = '';\n",
              "        dataTable['output_type'] = 'display_data';\n",
              "        await google.colab.output.renderOutput(dataTable, element);\n",
              "        const docLink = document.createElement('div');\n",
              "        docLink.innerHTML = docLinkHtml;\n",
              "        element.appendChild(docLink);\n",
              "      }\n",
              "    </script>\n",
              "  </div>\n",
              "\n",
              "\n",
              "<div id=\"df-5ca7b41a-6727-4765-a1a6-fdc4928e2deb\">\n",
              "  <button class=\"colab-df-quickchart\" onclick=\"quickchart('df-5ca7b41a-6727-4765-a1a6-fdc4928e2deb')\"\n",
              "            title=\"Suggest charts\"\n",
              "            style=\"display:none;\">\n",
              "\n",
              "<svg xmlns=\"http://www.w3.org/2000/svg\" height=\"24px\"viewBox=\"0 0 24 24\"\n",
              "     width=\"24px\">\n",
              "    <g>\n",
              "        <path d=\"M19 3H5c-1.1 0-2 .9-2 2v14c0 1.1.9 2 2 2h14c1.1 0 2-.9 2-2V5c0-1.1-.9-2-2-2zM9 17H7v-7h2v7zm4 0h-2V7h2v10zm4 0h-2v-4h2v4z\"/>\n",
              "    </g>\n",
              "</svg>\n",
              "  </button>\n",
              "\n",
              "<style>\n",
              "  .colab-df-quickchart {\n",
              "      --bg-color: #E8F0FE;\n",
              "      --fill-color: #1967D2;\n",
              "      --hover-bg-color: #E2EBFA;\n",
              "      --hover-fill-color: #174EA6;\n",
              "      --disabled-fill-color: #AAA;\n",
              "      --disabled-bg-color: #DDD;\n",
              "  }\n",
              "\n",
              "  [theme=dark] .colab-df-quickchart {\n",
              "      --bg-color: #3B4455;\n",
              "      --fill-color: #D2E3FC;\n",
              "      --hover-bg-color: #434B5C;\n",
              "      --hover-fill-color: #FFFFFF;\n",
              "      --disabled-bg-color: #3B4455;\n",
              "      --disabled-fill-color: #666;\n",
              "  }\n",
              "\n",
              "  .colab-df-quickchart {\n",
              "    background-color: var(--bg-color);\n",
              "    border: none;\n",
              "    border-radius: 50%;\n",
              "    cursor: pointer;\n",
              "    display: none;\n",
              "    fill: var(--fill-color);\n",
              "    height: 32px;\n",
              "    padding: 0;\n",
              "    width: 32px;\n",
              "  }\n",
              "\n",
              "  .colab-df-quickchart:hover {\n",
              "    background-color: var(--hover-bg-color);\n",
              "    box-shadow: 0 1px 2px rgba(60, 64, 67, 0.3), 0 1px 3px 1px rgba(60, 64, 67, 0.15);\n",
              "    fill: var(--button-hover-fill-color);\n",
              "  }\n",
              "\n",
              "  .colab-df-quickchart-complete:disabled,\n",
              "  .colab-df-quickchart-complete:disabled:hover {\n",
              "    background-color: var(--disabled-bg-color);\n",
              "    fill: var(--disabled-fill-color);\n",
              "    box-shadow: none;\n",
              "  }\n",
              "\n",
              "  .colab-df-spinner {\n",
              "    border: 2px solid var(--fill-color);\n",
              "    border-color: transparent;\n",
              "    border-bottom-color: var(--fill-color);\n",
              "    animation:\n",
              "      spin 1s steps(1) infinite;\n",
              "  }\n",
              "\n",
              "  @keyframes spin {\n",
              "    0% {\n",
              "      border-color: transparent;\n",
              "      border-bottom-color: var(--fill-color);\n",
              "      border-left-color: var(--fill-color);\n",
              "    }\n",
              "    20% {\n",
              "      border-color: transparent;\n",
              "      border-left-color: var(--fill-color);\n",
              "      border-top-color: var(--fill-color);\n",
              "    }\n",
              "    30% {\n",
              "      border-color: transparent;\n",
              "      border-left-color: var(--fill-color);\n",
              "      border-top-color: var(--fill-color);\n",
              "      border-right-color: var(--fill-color);\n",
              "    }\n",
              "    40% {\n",
              "      border-color: transparent;\n",
              "      border-right-color: var(--fill-color);\n",
              "      border-top-color: var(--fill-color);\n",
              "    }\n",
              "    60% {\n",
              "      border-color: transparent;\n",
              "      border-right-color: var(--fill-color);\n",
              "    }\n",
              "    80% {\n",
              "      border-color: transparent;\n",
              "      border-right-color: var(--fill-color);\n",
              "      border-bottom-color: var(--fill-color);\n",
              "    }\n",
              "    90% {\n",
              "      border-color: transparent;\n",
              "      border-bottom-color: var(--fill-color);\n",
              "    }\n",
              "  }\n",
              "</style>\n",
              "\n",
              "  <script>\n",
              "    async function quickchart(key) {\n",
              "      const quickchartButtonEl =\n",
              "        document.querySelector('#' + key + ' button');\n",
              "      quickchartButtonEl.disabled = true;  // To prevent multiple clicks.\n",
              "      quickchartButtonEl.classList.add('colab-df-spinner');\n",
              "      try {\n",
              "        const charts = await google.colab.kernel.invokeFunction(\n",
              "            'suggestCharts', [key], {});\n",
              "      } catch (error) {\n",
              "        console.error('Error during call to suggestCharts:', error);\n",
              "      }\n",
              "      quickchartButtonEl.classList.remove('colab-df-spinner');\n",
              "      quickchartButtonEl.classList.add('colab-df-quickchart-complete');\n",
              "    }\n",
              "    (() => {\n",
              "      let quickchartButtonEl =\n",
              "        document.querySelector('#df-5ca7b41a-6727-4765-a1a6-fdc4928e2deb button');\n",
              "      quickchartButtonEl.style.display =\n",
              "        google.colab.kernel.accessAllowed ? 'block' : 'none';\n",
              "    })();\n",
              "  </script>\n",
              "</div>\n",
              "    </div>\n",
              "  </div>\n"
            ],
            "application/vnd.google.colaboratory.intrinsic+json": {
              "type": "dataframe",
              "summary": "{\n  \"name\": \"x_spectrogram[0]\",\n  \"rows\": 10800,\n  \"fields\": [\n    {\n      \"column\": \"Fp1\",\n      \"properties\": {\n        \"dtype\": \"float32\",\n        \"num_unique_values\": 7535,\n        \"samples\": [\n          -24.729999542236328,\n          -123.20999908447266,\n          -61.2400016784668\n        ],\n        \"semantic_type\": \"\",\n        \"description\": \"\"\n      }\n    },\n    {\n      \"column\": \"F3\",\n      \"properties\": {\n        \"dtype\": \"float32\",\n        \"num_unique_values\": 7237,\n        \"samples\": [\n          -22.389999389648438,\n          -37.5,\n          82.55000305175781\n        ],\n        \"semantic_type\": \"\",\n        \"description\": \"\"\n      }\n    },\n    {\n      \"column\": \"C3\",\n      \"properties\": {\n        \"dtype\": \"float32\",\n        \"num_unique_values\": 9495,\n        \"samples\": [\n          -127.55999755859375,\n          -8.529999732971191,\n          13.699999809265137\n        ],\n        \"semantic_type\": \"\",\n        \"description\": \"\"\n      }\n    },\n    {\n      \"column\": \"P3\",\n      \"properties\": {\n        \"dtype\": \"float32\",\n        \"num_unique_values\": 6670,\n        \"samples\": [\n          -37.970001220703125,\n          -38.849998474121094,\n          -56.029998779296875\n        ],\n        \"semantic_type\": \"\",\n        \"description\": \"\"\n      }\n    },\n    {\n      \"column\": \"F7\",\n      \"properties\": {\n        \"dtype\": \"float32\",\n        \"num_unique_values\": 6863,\n        \"samples\": [\n          -49.130001068115234,\n          -93.72000122070312,\n          -54.2400016784668\n        ],\n        \"semantic_type\": \"\",\n        \"description\": \"\"\n      }\n    },\n    {\n      \"column\": \"T3\",\n      \"properties\": {\n        \"dtype\": \"float32\",\n        \"num_unique_values\": 7064,\n        \"samples\": [\n          -4.050000190734863,\n          -14.729999542236328,\n          -22.1200008392334\n        ],\n        \"semantic_type\": \"\",\n        \"description\": \"\"\n      }\n    },\n    {\n      \"column\": \"T5\",\n      \"properties\": {\n        \"dtype\": \"float32\",\n        \"num_unique_values\": 5615,\n        \"samples\": [\n          -40.25,\n          -18.1299991607666,\n          -6.46999979019165\n        ],\n        \"semantic_type\": \"\",\n        \"description\": \"\"\n      }\n    },\n    {\n      \"column\": \"O1\",\n      \"properties\": {\n        \"dtype\": \"float32\",\n        \"num_unique_values\": 4920,\n        \"samples\": [\n          -41.13999938964844,\n          -13.720000267028809,\n          -41.15999984741211\n        ],\n        \"semantic_type\": \"\",\n        \"description\": \"\"\n      }\n    },\n    {\n      \"column\": \"Fz\",\n      \"properties\": {\n        \"dtype\": \"float32\",\n        \"num_unique_values\": 7299,\n        \"samples\": [\n          23.6200008392334,\n          -59.5,\n          -51.380001068115234\n        ],\n        \"semantic_type\": \"\",\n        \"description\": \"\"\n      }\n    },\n    {\n      \"column\": \"Cz\",\n      \"properties\": {\n        \"dtype\": \"float32\",\n        \"num_unique_values\": 7209,\n        \"samples\": [\n          -41.869998931884766,\n          -70.91999816894531,\n          -50.849998474121094\n        ],\n        \"semantic_type\": \"\",\n        \"description\": \"\"\n      }\n    },\n    {\n      \"column\": \"Pz\",\n      \"properties\": {\n        \"dtype\": \"float32\",\n        \"num_unique_values\": 6970,\n        \"samples\": [\n          58.72999954223633,\n          24.959999084472656,\n          123.2699966430664\n        ],\n        \"semantic_type\": \"\",\n        \"description\": \"\"\n      }\n    },\n    {\n      \"column\": \"Fp2\",\n      \"properties\": {\n        \"dtype\": \"float32\",\n        \"num_unique_values\": 7567,\n        \"samples\": [\n          46.9900016784668,\n          -110.55999755859375,\n          144.86000061035156\n        ],\n        \"semantic_type\": \"\",\n        \"description\": \"\"\n      }\n    },\n    {\n      \"column\": \"F4\",\n      \"properties\": {\n        \"dtype\": \"float32\",\n        \"num_unique_values\": 7654,\n        \"samples\": [\n          -7.929999828338623,\n          0.5199999809265137,\n          -35.540000915527344\n        ],\n        \"semantic_type\": \"\",\n        \"description\": \"\"\n      }\n    },\n    {\n      \"column\": \"C4\",\n      \"properties\": {\n        \"dtype\": \"float32\",\n        \"num_unique_values\": 7413,\n        \"samples\": [\n          -15.380000114440918,\n          -5.03000020980835,\n          -62.119998931884766\n        ],\n        \"semantic_type\": \"\",\n        \"description\": \"\"\n      }\n    },\n    {\n      \"column\": \"P4\",\n      \"properties\": {\n        \"dtype\": \"float32\",\n        \"num_unique_values\": 6986,\n        \"samples\": [\n          -24.43000030517578,\n          -8.210000038146973,\n          -66.47000122070312\n        ],\n        \"semantic_type\": \"\",\n        \"description\": \"\"\n      }\n    },\n    {\n      \"column\": \"F8\",\n      \"properties\": {\n        \"dtype\": \"float32\",\n        \"num_unique_values\": 7532,\n        \"samples\": [\n          -26.450000762939453,\n          19.940000534057617,\n          -161.42999267578125\n        ],\n        \"semantic_type\": \"\",\n        \"description\": \"\"\n      }\n    },\n    {\n      \"column\": \"T4\",\n      \"properties\": {\n        \"dtype\": \"float32\",\n        \"num_unique_values\": 7361,\n        \"samples\": [\n          -3.700000047683716,\n          -43.619998931884766,\n          78.87000274658203\n        ],\n        \"semantic_type\": \"\",\n        \"description\": \"\"\n      }\n    },\n    {\n      \"column\": \"T6\",\n      \"properties\": {\n        \"dtype\": \"float32\",\n        \"num_unique_values\": 7796,\n        \"samples\": [\n          4.199999809265137,\n          -43.93000030517578,\n          20.989999771118164\n        ],\n        \"semantic_type\": \"\",\n        \"description\": \"\"\n      }\n    },\n    {\n      \"column\": \"O2\",\n      \"properties\": {\n        \"dtype\": \"float32\",\n        \"num_unique_values\": 5901,\n        \"samples\": [\n          -10.329999923706055,\n          42.27000045776367,\n          32.16999816894531\n        ],\n        \"semantic_type\": \"\",\n        \"description\": \"\"\n      }\n    },\n    {\n      \"column\": \"EKG\",\n      \"properties\": {\n        \"dtype\": \"float32\",\n        \"num_unique_values\": 8495,\n        \"samples\": [\n          -102.62999725341797,\n          59.619998931884766,\n          5.260000228881836\n        ],\n        \"semantic_type\": \"\",\n        \"description\": \"\"\n      }\n    }\n  ]\n}"
            }
          },
          "metadata": {},
          "execution_count": 7
        }
      ]
    },
    {
      "cell_type": "code",
      "source": [
        "rand_eeg = random.sample(ids, int(0.005*len(ids)))\n",
        "eeg_dir = [(data_dir+\"/\"+\"train_eegs/\"+str(x[0])+\".parquet\") for x in rand_eeg]\n",
        "x_eeg = [pd.read_parquet(file) for file in eeg_dir]\n",
        "y_eeg = [x[3] for x in rand_eeg]\n",
        "x_eeg[0]"
      ],
      "metadata": {
        "colab": {
          "base_uri": "https://localhost:8080/",
          "height": 439
        },
        "id": "vqSZdUzMhvQE",
        "outputId": "c2973e4c-59f9-4e83-8d4c-0fd2972f1e99"
      },
      "execution_count": null,
      "outputs": [
        {
          "output_type": "execute_result",
          "data": {
            "text/plain": [
              "             Fp1         F3    C3    P3         F7         T3         T5  \\\n",
              "0      13.600000   4.410000 -3.11  0.52  -2.970000   0.780000  17.040001   \n",
              "1      15.070000   6.320000 -3.40  0.44  -2.890000   1.630000  16.590000   \n",
              "2      28.700001   9.490000 -1.13  3.61   0.460000   4.510000  15.860000   \n",
              "3      15.440000  10.150000  0.79  5.68  -0.130000   4.490000  19.240000   \n",
              "4      12.700000   6.840000 -0.63  4.03  -2.370000   2.920000  16.230000   \n",
              "...          ...        ...   ...   ...        ...        ...        ...   \n",
              "41595 -15.700000 -10.520000 -3.92 -5.83 -26.670000 -14.280000   4.280000   \n",
              "41596  -6.680000 -10.770000 -3.74 -4.08 -26.030001 -13.870000   4.790000   \n",
              "41597 -15.410000 -15.420000 -4.61 -4.60 -29.200001 -14.820000   5.810000   \n",
              "41598 -26.340000 -19.139999 -7.68 -7.64 -33.470001 -18.700001   2.930000   \n",
              "41599 -13.680000 -19.530001 -8.22 -7.39 -32.549999 -19.540001   1.180000   \n",
              "\n",
              "              O1         Fz         Cz         Pz        Fp2         F4  \\\n",
              "0      22.330000 -61.500000 -60.040001 -28.500000 -31.790001 -55.020000   \n",
              "1      20.219999 -58.160000 -58.270000 -28.440001 -37.230000 -39.389999   \n",
              "2      22.879999 -52.060001 -53.639999 -24.670000 -31.350000 -37.009998   \n",
              "3      25.160000 -52.810001 -49.799999 -21.670000 -36.000000 -51.790001   \n",
              "4      22.889999 -57.080002 -52.459999 -23.700001 -40.160000 -40.990002   \n",
              "...          ...        ...        ...        ...        ...        ...   \n",
              "41595   9.540000 -43.110001 -30.590000 -12.300000  -2.500000 -18.730000   \n",
              "41596   9.930000 -42.560001 -32.869999 -10.200000   6.130000 -24.549999   \n",
              "41597   9.840000 -44.930000 -32.299999  -9.140000  -2.370000 -25.150000   \n",
              "41598   8.210000 -51.480000 -34.430000 -12.030000 -11.780000 -27.870001   \n",
              "41599   8.130000 -48.509998 -35.310001 -10.220000  -7.740000 -27.320000   \n",
              "\n",
              "              C4         P4         F8         T4         T6     O2    EKG  \n",
              "0     -63.849998 -59.139999 -32.130001 -33.470001 -23.889999   4.80 -10.97  \n",
              "1     -63.520000 -59.119999 -34.150002 -34.820000 -25.639999   3.91 -10.34  \n",
              "2     -60.470001 -55.209999 -33.200001 -32.230000 -23.110001   6.39  -7.53  \n",
              "3     -57.189999 -52.349998 -30.930000 -29.639999 -19.680000   9.65  -7.69  \n",
              "4     -60.220001 -55.029999 -32.560001 -31.930000 -22.330000   8.11  -6.76  \n",
              "...          ...        ...        ...        ...        ...    ...    ...  \n",
              "41595 -24.350000 -29.690001  -8.560000 -19.240000  -8.310000  13.93  -7.56  \n",
              "41596 -24.660000 -28.120001  -9.840000 -19.900000 -10.330000  13.56  -6.53  \n",
              "41597 -24.389999 -26.520000  -9.460000 -18.440001  -7.780000  15.66  -8.59  \n",
              "41598 -27.690001 -28.540001 -13.450000 -22.030001  -9.460000  13.52  -9.90  \n",
              "41599 -26.040001 -27.740000 -12.320000 -21.900000  -8.830000  13.95  -8.19  \n",
              "\n",
              "[41600 rows x 20 columns]"
            ],
            "text/html": [
              "\n",
              "  <div id=\"df-ede63c23-a64d-4cf5-a29a-e760a625744f\" class=\"colab-df-container\">\n",
              "    <div>\n",
              "<style scoped>\n",
              "    .dataframe tbody tr th:only-of-type {\n",
              "        vertical-align: middle;\n",
              "    }\n",
              "\n",
              "    .dataframe tbody tr th {\n",
              "        vertical-align: top;\n",
              "    }\n",
              "\n",
              "    .dataframe thead th {\n",
              "        text-align: right;\n",
              "    }\n",
              "</style>\n",
              "<table border=\"1\" class=\"dataframe\">\n",
              "  <thead>\n",
              "    <tr style=\"text-align: right;\">\n",
              "      <th></th>\n",
              "      <th>Fp1</th>\n",
              "      <th>F3</th>\n",
              "      <th>C3</th>\n",
              "      <th>P3</th>\n",
              "      <th>F7</th>\n",
              "      <th>T3</th>\n",
              "      <th>T5</th>\n",
              "      <th>O1</th>\n",
              "      <th>Fz</th>\n",
              "      <th>Cz</th>\n",
              "      <th>Pz</th>\n",
              "      <th>Fp2</th>\n",
              "      <th>F4</th>\n",
              "      <th>C4</th>\n",
              "      <th>P4</th>\n",
              "      <th>F8</th>\n",
              "      <th>T4</th>\n",
              "      <th>T6</th>\n",
              "      <th>O2</th>\n",
              "      <th>EKG</th>\n",
              "    </tr>\n",
              "  </thead>\n",
              "  <tbody>\n",
              "    <tr>\n",
              "      <th>0</th>\n",
              "      <td>13.600000</td>\n",
              "      <td>4.410000</td>\n",
              "      <td>-3.11</td>\n",
              "      <td>0.52</td>\n",
              "      <td>-2.970000</td>\n",
              "      <td>0.780000</td>\n",
              "      <td>17.040001</td>\n",
              "      <td>22.330000</td>\n",
              "      <td>-61.500000</td>\n",
              "      <td>-60.040001</td>\n",
              "      <td>-28.500000</td>\n",
              "      <td>-31.790001</td>\n",
              "      <td>-55.020000</td>\n",
              "      <td>-63.849998</td>\n",
              "      <td>-59.139999</td>\n",
              "      <td>-32.130001</td>\n",
              "      <td>-33.470001</td>\n",
              "      <td>-23.889999</td>\n",
              "      <td>4.80</td>\n",
              "      <td>-10.97</td>\n",
              "    </tr>\n",
              "    <tr>\n",
              "      <th>1</th>\n",
              "      <td>15.070000</td>\n",
              "      <td>6.320000</td>\n",
              "      <td>-3.40</td>\n",
              "      <td>0.44</td>\n",
              "      <td>-2.890000</td>\n",
              "      <td>1.630000</td>\n",
              "      <td>16.590000</td>\n",
              "      <td>20.219999</td>\n",
              "      <td>-58.160000</td>\n",
              "      <td>-58.270000</td>\n",
              "      <td>-28.440001</td>\n",
              "      <td>-37.230000</td>\n",
              "      <td>-39.389999</td>\n",
              "      <td>-63.520000</td>\n",
              "      <td>-59.119999</td>\n",
              "      <td>-34.150002</td>\n",
              "      <td>-34.820000</td>\n",
              "      <td>-25.639999</td>\n",
              "      <td>3.91</td>\n",
              "      <td>-10.34</td>\n",
              "    </tr>\n",
              "    <tr>\n",
              "      <th>2</th>\n",
              "      <td>28.700001</td>\n",
              "      <td>9.490000</td>\n",
              "      <td>-1.13</td>\n",
              "      <td>3.61</td>\n",
              "      <td>0.460000</td>\n",
              "      <td>4.510000</td>\n",
              "      <td>15.860000</td>\n",
              "      <td>22.879999</td>\n",
              "      <td>-52.060001</td>\n",
              "      <td>-53.639999</td>\n",
              "      <td>-24.670000</td>\n",
              "      <td>-31.350000</td>\n",
              "      <td>-37.009998</td>\n",
              "      <td>-60.470001</td>\n",
              "      <td>-55.209999</td>\n",
              "      <td>-33.200001</td>\n",
              "      <td>-32.230000</td>\n",
              "      <td>-23.110001</td>\n",
              "      <td>6.39</td>\n",
              "      <td>-7.53</td>\n",
              "    </tr>\n",
              "    <tr>\n",
              "      <th>3</th>\n",
              "      <td>15.440000</td>\n",
              "      <td>10.150000</td>\n",
              "      <td>0.79</td>\n",
              "      <td>5.68</td>\n",
              "      <td>-0.130000</td>\n",
              "      <td>4.490000</td>\n",
              "      <td>19.240000</td>\n",
              "      <td>25.160000</td>\n",
              "      <td>-52.810001</td>\n",
              "      <td>-49.799999</td>\n",
              "      <td>-21.670000</td>\n",
              "      <td>-36.000000</td>\n",
              "      <td>-51.790001</td>\n",
              "      <td>-57.189999</td>\n",
              "      <td>-52.349998</td>\n",
              "      <td>-30.930000</td>\n",
              "      <td>-29.639999</td>\n",
              "      <td>-19.680000</td>\n",
              "      <td>9.65</td>\n",
              "      <td>-7.69</td>\n",
              "    </tr>\n",
              "    <tr>\n",
              "      <th>4</th>\n",
              "      <td>12.700000</td>\n",
              "      <td>6.840000</td>\n",
              "      <td>-0.63</td>\n",
              "      <td>4.03</td>\n",
              "      <td>-2.370000</td>\n",
              "      <td>2.920000</td>\n",
              "      <td>16.230000</td>\n",
              "      <td>22.889999</td>\n",
              "      <td>-57.080002</td>\n",
              "      <td>-52.459999</td>\n",
              "      <td>-23.700001</td>\n",
              "      <td>-40.160000</td>\n",
              "      <td>-40.990002</td>\n",
              "      <td>-60.220001</td>\n",
              "      <td>-55.029999</td>\n",
              "      <td>-32.560001</td>\n",
              "      <td>-31.930000</td>\n",
              "      <td>-22.330000</td>\n",
              "      <td>8.11</td>\n",
              "      <td>-6.76</td>\n",
              "    </tr>\n",
              "    <tr>\n",
              "      <th>...</th>\n",
              "      <td>...</td>\n",
              "      <td>...</td>\n",
              "      <td>...</td>\n",
              "      <td>...</td>\n",
              "      <td>...</td>\n",
              "      <td>...</td>\n",
              "      <td>...</td>\n",
              "      <td>...</td>\n",
              "      <td>...</td>\n",
              "      <td>...</td>\n",
              "      <td>...</td>\n",
              "      <td>...</td>\n",
              "      <td>...</td>\n",
              "      <td>...</td>\n",
              "      <td>...</td>\n",
              "      <td>...</td>\n",
              "      <td>...</td>\n",
              "      <td>...</td>\n",
              "      <td>...</td>\n",
              "      <td>...</td>\n",
              "    </tr>\n",
              "    <tr>\n",
              "      <th>41595</th>\n",
              "      <td>-15.700000</td>\n",
              "      <td>-10.520000</td>\n",
              "      <td>-3.92</td>\n",
              "      <td>-5.83</td>\n",
              "      <td>-26.670000</td>\n",
              "      <td>-14.280000</td>\n",
              "      <td>4.280000</td>\n",
              "      <td>9.540000</td>\n",
              "      <td>-43.110001</td>\n",
              "      <td>-30.590000</td>\n",
              "      <td>-12.300000</td>\n",
              "      <td>-2.500000</td>\n",
              "      <td>-18.730000</td>\n",
              "      <td>-24.350000</td>\n",
              "      <td>-29.690001</td>\n",
              "      <td>-8.560000</td>\n",
              "      <td>-19.240000</td>\n",
              "      <td>-8.310000</td>\n",
              "      <td>13.93</td>\n",
              "      <td>-7.56</td>\n",
              "    </tr>\n",
              "    <tr>\n",
              "      <th>41596</th>\n",
              "      <td>-6.680000</td>\n",
              "      <td>-10.770000</td>\n",
              "      <td>-3.74</td>\n",
              "      <td>-4.08</td>\n",
              "      <td>-26.030001</td>\n",
              "      <td>-13.870000</td>\n",
              "      <td>4.790000</td>\n",
              "      <td>9.930000</td>\n",
              "      <td>-42.560001</td>\n",
              "      <td>-32.869999</td>\n",
              "      <td>-10.200000</td>\n",
              "      <td>6.130000</td>\n",
              "      <td>-24.549999</td>\n",
              "      <td>-24.660000</td>\n",
              "      <td>-28.120001</td>\n",
              "      <td>-9.840000</td>\n",
              "      <td>-19.900000</td>\n",
              "      <td>-10.330000</td>\n",
              "      <td>13.56</td>\n",
              "      <td>-6.53</td>\n",
              "    </tr>\n",
              "    <tr>\n",
              "      <th>41597</th>\n",
              "      <td>-15.410000</td>\n",
              "      <td>-15.420000</td>\n",
              "      <td>-4.61</td>\n",
              "      <td>-4.60</td>\n",
              "      <td>-29.200001</td>\n",
              "      <td>-14.820000</td>\n",
              "      <td>5.810000</td>\n",
              "      <td>9.840000</td>\n",
              "      <td>-44.930000</td>\n",
              "      <td>-32.299999</td>\n",
              "      <td>-9.140000</td>\n",
              "      <td>-2.370000</td>\n",
              "      <td>-25.150000</td>\n",
              "      <td>-24.389999</td>\n",
              "      <td>-26.520000</td>\n",
              "      <td>-9.460000</td>\n",
              "      <td>-18.440001</td>\n",
              "      <td>-7.780000</td>\n",
              "      <td>15.66</td>\n",
              "      <td>-8.59</td>\n",
              "    </tr>\n",
              "    <tr>\n",
              "      <th>41598</th>\n",
              "      <td>-26.340000</td>\n",
              "      <td>-19.139999</td>\n",
              "      <td>-7.68</td>\n",
              "      <td>-7.64</td>\n",
              "      <td>-33.470001</td>\n",
              "      <td>-18.700001</td>\n",
              "      <td>2.930000</td>\n",
              "      <td>8.210000</td>\n",
              "      <td>-51.480000</td>\n",
              "      <td>-34.430000</td>\n",
              "      <td>-12.030000</td>\n",
              "      <td>-11.780000</td>\n",
              "      <td>-27.870001</td>\n",
              "      <td>-27.690001</td>\n",
              "      <td>-28.540001</td>\n",
              "      <td>-13.450000</td>\n",
              "      <td>-22.030001</td>\n",
              "      <td>-9.460000</td>\n",
              "      <td>13.52</td>\n",
              "      <td>-9.90</td>\n",
              "    </tr>\n",
              "    <tr>\n",
              "      <th>41599</th>\n",
              "      <td>-13.680000</td>\n",
              "      <td>-19.530001</td>\n",
              "      <td>-8.22</td>\n",
              "      <td>-7.39</td>\n",
              "      <td>-32.549999</td>\n",
              "      <td>-19.540001</td>\n",
              "      <td>1.180000</td>\n",
              "      <td>8.130000</td>\n",
              "      <td>-48.509998</td>\n",
              "      <td>-35.310001</td>\n",
              "      <td>-10.220000</td>\n",
              "      <td>-7.740000</td>\n",
              "      <td>-27.320000</td>\n",
              "      <td>-26.040001</td>\n",
              "      <td>-27.740000</td>\n",
              "      <td>-12.320000</td>\n",
              "      <td>-21.900000</td>\n",
              "      <td>-8.830000</td>\n",
              "      <td>13.95</td>\n",
              "      <td>-8.19</td>\n",
              "    </tr>\n",
              "  </tbody>\n",
              "</table>\n",
              "<p>41600 rows × 20 columns</p>\n",
              "</div>\n",
              "    <div class=\"colab-df-buttons\">\n",
              "\n",
              "  <div class=\"colab-df-container\">\n",
              "    <button class=\"colab-df-convert\" onclick=\"convertToInteractive('df-ede63c23-a64d-4cf5-a29a-e760a625744f')\"\n",
              "            title=\"Convert this dataframe to an interactive table.\"\n",
              "            style=\"display:none;\">\n",
              "\n",
              "  <svg xmlns=\"http://www.w3.org/2000/svg\" height=\"24px\" viewBox=\"0 -960 960 960\">\n",
              "    <path d=\"M120-120v-720h720v720H120Zm60-500h600v-160H180v160Zm220 220h160v-160H400v160Zm0 220h160v-160H400v160ZM180-400h160v-160H180v160Zm440 0h160v-160H620v160ZM180-180h160v-160H180v160Zm440 0h160v-160H620v160Z\"/>\n",
              "  </svg>\n",
              "    </button>\n",
              "\n",
              "  <style>\n",
              "    .colab-df-container {\n",
              "      display:flex;\n",
              "      gap: 12px;\n",
              "    }\n",
              "\n",
              "    .colab-df-convert {\n",
              "      background-color: #E8F0FE;\n",
              "      border: none;\n",
              "      border-radius: 50%;\n",
              "      cursor: pointer;\n",
              "      display: none;\n",
              "      fill: #1967D2;\n",
              "      height: 32px;\n",
              "      padding: 0 0 0 0;\n",
              "      width: 32px;\n",
              "    }\n",
              "\n",
              "    .colab-df-convert:hover {\n",
              "      background-color: #E2EBFA;\n",
              "      box-shadow: 0px 1px 2px rgba(60, 64, 67, 0.3), 0px 1px 3px 1px rgba(60, 64, 67, 0.15);\n",
              "      fill: #174EA6;\n",
              "    }\n",
              "\n",
              "    .colab-df-buttons div {\n",
              "      margin-bottom: 4px;\n",
              "    }\n",
              "\n",
              "    [theme=dark] .colab-df-convert {\n",
              "      background-color: #3B4455;\n",
              "      fill: #D2E3FC;\n",
              "    }\n",
              "\n",
              "    [theme=dark] .colab-df-convert:hover {\n",
              "      background-color: #434B5C;\n",
              "      box-shadow: 0px 1px 3px 1px rgba(0, 0, 0, 0.15);\n",
              "      filter: drop-shadow(0px 1px 2px rgba(0, 0, 0, 0.3));\n",
              "      fill: #FFFFFF;\n",
              "    }\n",
              "  </style>\n",
              "\n",
              "    <script>\n",
              "      const buttonEl =\n",
              "        document.querySelector('#df-ede63c23-a64d-4cf5-a29a-e760a625744f button.colab-df-convert');\n",
              "      buttonEl.style.display =\n",
              "        google.colab.kernel.accessAllowed ? 'block' : 'none';\n",
              "\n",
              "      async function convertToInteractive(key) {\n",
              "        const element = document.querySelector('#df-ede63c23-a64d-4cf5-a29a-e760a625744f');\n",
              "        const dataTable =\n",
              "          await google.colab.kernel.invokeFunction('convertToInteractive',\n",
              "                                                    [key], {});\n",
              "        if (!dataTable) return;\n",
              "\n",
              "        const docLinkHtml = 'Like what you see? Visit the ' +\n",
              "          '<a target=\"_blank\" href=https://colab.research.google.com/notebooks/data_table.ipynb>data table notebook</a>'\n",
              "          + ' to learn more about interactive tables.';\n",
              "        element.innerHTML = '';\n",
              "        dataTable['output_type'] = 'display_data';\n",
              "        await google.colab.output.renderOutput(dataTable, element);\n",
              "        const docLink = document.createElement('div');\n",
              "        docLink.innerHTML = docLinkHtml;\n",
              "        element.appendChild(docLink);\n",
              "      }\n",
              "    </script>\n",
              "  </div>\n",
              "\n",
              "\n",
              "<div id=\"df-1726882e-e0a2-42e7-bff7-aea7b6b9c057\">\n",
              "  <button class=\"colab-df-quickchart\" onclick=\"quickchart('df-1726882e-e0a2-42e7-bff7-aea7b6b9c057')\"\n",
              "            title=\"Suggest charts\"\n",
              "            style=\"display:none;\">\n",
              "\n",
              "<svg xmlns=\"http://www.w3.org/2000/svg\" height=\"24px\"viewBox=\"0 0 24 24\"\n",
              "     width=\"24px\">\n",
              "    <g>\n",
              "        <path d=\"M19 3H5c-1.1 0-2 .9-2 2v14c0 1.1.9 2 2 2h14c1.1 0 2-.9 2-2V5c0-1.1-.9-2-2-2zM9 17H7v-7h2v7zm4 0h-2V7h2v10zm4 0h-2v-4h2v4z\"/>\n",
              "    </g>\n",
              "</svg>\n",
              "  </button>\n",
              "\n",
              "<style>\n",
              "  .colab-df-quickchart {\n",
              "      --bg-color: #E8F0FE;\n",
              "      --fill-color: #1967D2;\n",
              "      --hover-bg-color: #E2EBFA;\n",
              "      --hover-fill-color: #174EA6;\n",
              "      --disabled-fill-color: #AAA;\n",
              "      --disabled-bg-color: #DDD;\n",
              "  }\n",
              "\n",
              "  [theme=dark] .colab-df-quickchart {\n",
              "      --bg-color: #3B4455;\n",
              "      --fill-color: #D2E3FC;\n",
              "      --hover-bg-color: #434B5C;\n",
              "      --hover-fill-color: #FFFFFF;\n",
              "      --disabled-bg-color: #3B4455;\n",
              "      --disabled-fill-color: #666;\n",
              "  }\n",
              "\n",
              "  .colab-df-quickchart {\n",
              "    background-color: var(--bg-color);\n",
              "    border: none;\n",
              "    border-radius: 50%;\n",
              "    cursor: pointer;\n",
              "    display: none;\n",
              "    fill: var(--fill-color);\n",
              "    height: 32px;\n",
              "    padding: 0;\n",
              "    width: 32px;\n",
              "  }\n",
              "\n",
              "  .colab-df-quickchart:hover {\n",
              "    background-color: var(--hover-bg-color);\n",
              "    box-shadow: 0 1px 2px rgba(60, 64, 67, 0.3), 0 1px 3px 1px rgba(60, 64, 67, 0.15);\n",
              "    fill: var(--button-hover-fill-color);\n",
              "  }\n",
              "\n",
              "  .colab-df-quickchart-complete:disabled,\n",
              "  .colab-df-quickchart-complete:disabled:hover {\n",
              "    background-color: var(--disabled-bg-color);\n",
              "    fill: var(--disabled-fill-color);\n",
              "    box-shadow: none;\n",
              "  }\n",
              "\n",
              "  .colab-df-spinner {\n",
              "    border: 2px solid var(--fill-color);\n",
              "    border-color: transparent;\n",
              "    border-bottom-color: var(--fill-color);\n",
              "    animation:\n",
              "      spin 1s steps(1) infinite;\n",
              "  }\n",
              "\n",
              "  @keyframes spin {\n",
              "    0% {\n",
              "      border-color: transparent;\n",
              "      border-bottom-color: var(--fill-color);\n",
              "      border-left-color: var(--fill-color);\n",
              "    }\n",
              "    20% {\n",
              "      border-color: transparent;\n",
              "      border-left-color: var(--fill-color);\n",
              "      border-top-color: var(--fill-color);\n",
              "    }\n",
              "    30% {\n",
              "      border-color: transparent;\n",
              "      border-left-color: var(--fill-color);\n",
              "      border-top-color: var(--fill-color);\n",
              "      border-right-color: var(--fill-color);\n",
              "    }\n",
              "    40% {\n",
              "      border-color: transparent;\n",
              "      border-right-color: var(--fill-color);\n",
              "      border-top-color: var(--fill-color);\n",
              "    }\n",
              "    60% {\n",
              "      border-color: transparent;\n",
              "      border-right-color: var(--fill-color);\n",
              "    }\n",
              "    80% {\n",
              "      border-color: transparent;\n",
              "      border-right-color: var(--fill-color);\n",
              "      border-bottom-color: var(--fill-color);\n",
              "    }\n",
              "    90% {\n",
              "      border-color: transparent;\n",
              "      border-bottom-color: var(--fill-color);\n",
              "    }\n",
              "  }\n",
              "</style>\n",
              "\n",
              "  <script>\n",
              "    async function quickchart(key) {\n",
              "      const quickchartButtonEl =\n",
              "        document.querySelector('#' + key + ' button');\n",
              "      quickchartButtonEl.disabled = true;  // To prevent multiple clicks.\n",
              "      quickchartButtonEl.classList.add('colab-df-spinner');\n",
              "      try {\n",
              "        const charts = await google.colab.kernel.invokeFunction(\n",
              "            'suggestCharts', [key], {});\n",
              "      } catch (error) {\n",
              "        console.error('Error during call to suggestCharts:', error);\n",
              "      }\n",
              "      quickchartButtonEl.classList.remove('colab-df-spinner');\n",
              "      quickchartButtonEl.classList.add('colab-df-quickchart-complete');\n",
              "    }\n",
              "    (() => {\n",
              "      let quickchartButtonEl =\n",
              "        document.querySelector('#df-1726882e-e0a2-42e7-bff7-aea7b6b9c057 button');\n",
              "      quickchartButtonEl.style.display =\n",
              "        google.colab.kernel.accessAllowed ? 'block' : 'none';\n",
              "    })();\n",
              "  </script>\n",
              "</div>\n",
              "    </div>\n",
              "  </div>\n"
            ],
            "application/vnd.google.colaboratory.intrinsic+json": {
              "type": "dataframe",
              "summary": "{\n  \"name\": \"x_eeg[0]\",\n  \"rows\": 41600,\n  \"fields\": [\n    {\n      \"column\": \"Fp1\",\n      \"properties\": {\n        \"dtype\": \"float32\",\n        \"num_unique_values\": 12736,\n        \"samples\": [\n          19.260000228881836,\n          -30.149999618530273,\n          44.06999969482422\n        ],\n        \"semantic_type\": \"\",\n        \"description\": \"\"\n      }\n    },\n    {\n      \"column\": \"F3\",\n      \"properties\": {\n        \"dtype\": \"float32\",\n        \"num_unique_values\": 11934,\n        \"samples\": [\n          -20.559999465942383,\n          68.05999755859375,\n          42.88999938964844\n        ],\n        \"semantic_type\": \"\",\n        \"description\": \"\"\n      }\n    },\n    {\n      \"column\": \"C3\",\n      \"properties\": {\n        \"dtype\": \"float32\",\n        \"num_unique_values\": 12220,\n        \"samples\": [\n          36.70000076293945,\n          -49.099998474121094,\n          31.049999237060547\n        ],\n        \"semantic_type\": \"\",\n        \"description\": \"\"\n      }\n    },\n    {\n      \"column\": \"P3\",\n      \"properties\": {\n        \"dtype\": \"float32\",\n        \"num_unique_values\": 11768,\n        \"samples\": [\n          77.62999725341797,\n          -28.760000228881836,\n          57.529998779296875\n        ],\n        \"semantic_type\": \"\",\n        \"description\": \"\"\n      }\n    },\n    {\n      \"column\": \"F7\",\n      \"properties\": {\n        \"dtype\": \"float32\",\n        \"num_unique_values\": 11803,\n        \"samples\": [\n          39.970001220703125,\n          -30.889999389648438,\n          50.02000045776367\n        ],\n        \"semantic_type\": \"\",\n        \"description\": \"\"\n      }\n    },\n    {\n      \"column\": \"T3\",\n      \"properties\": {\n        \"dtype\": \"float32\",\n        \"num_unique_values\": 10968,\n        \"samples\": [\n          7.380000114440918,\n          28.389999389648438,\n          -24.860000610351562\n        ],\n        \"semantic_type\": \"\",\n        \"description\": \"\"\n      }\n    },\n    {\n      \"column\": \"T5\",\n      \"properties\": {\n        \"dtype\": \"float32\",\n        \"num_unique_values\": 9266,\n        \"samples\": [\n          -18.290000915527344,\n          -7.579999923706055,\n          -16.860000610351562\n        ],\n        \"semantic_type\": \"\",\n        \"description\": \"\"\n      }\n    },\n    {\n      \"column\": \"O1\",\n      \"properties\": {\n        \"dtype\": \"float32\",\n        \"num_unique_values\": 10107,\n        \"samples\": [\n          -46.369998931884766,\n          29.760000228881836,\n          2.9700000286102295\n        ],\n        \"semantic_type\": \"\",\n        \"description\": \"\"\n      }\n    },\n    {\n      \"column\": \"Fz\",\n      \"properties\": {\n        \"dtype\": \"float32\",\n        \"num_unique_values\": 11408,\n        \"samples\": [\n          -53.189998626708984,\n          -57.209999084472656,\n          -22.3799991607666\n        ],\n        \"semantic_type\": \"\",\n        \"description\": \"\"\n      }\n    },\n    {\n      \"column\": \"Cz\",\n      \"properties\": {\n        \"dtype\": \"float32\",\n        \"num_unique_values\": 11951,\n        \"samples\": [\n          39.81999969482422,\n          16.639999389648438,\n          -22.850000381469727\n        ],\n        \"semantic_type\": \"\",\n        \"description\": \"\"\n      }\n    },\n    {\n      \"column\": \"Pz\",\n      \"properties\": {\n        \"dtype\": \"float32\",\n        \"num_unique_values\": 11552,\n        \"samples\": [\n          -7.099999904632568,\n          -76.04000091552734,\n          -23.90999984741211\n        ],\n        \"semantic_type\": \"\",\n        \"description\": \"\"\n      }\n    },\n    {\n      \"column\": \"Fp2\",\n      \"properties\": {\n        \"dtype\": \"float32\",\n        \"num_unique_values\": 12289,\n        \"samples\": [\n          62.41999816894531,\n          21.1299991607666,\n          47.77000045776367\n        ],\n        \"semantic_type\": \"\",\n        \"description\": \"\"\n      }\n    },\n    {\n      \"column\": \"F4\",\n      \"properties\": {\n        \"dtype\": \"float32\",\n        \"num_unique_values\": 11575,\n        \"samples\": [\n          16.579999923706055,\n          -38.16999816894531,\n          12.5\n        ],\n        \"semantic_type\": \"\",\n        \"description\": \"\"\n      }\n    },\n    {\n      \"column\": \"C4\",\n      \"properties\": {\n        \"dtype\": \"float32\",\n        \"num_unique_values\": 12373,\n        \"samples\": [\n          -57.4900016784668,\n          40.2400016784668,\n          28.3799991607666\n        ],\n        \"semantic_type\": \"\",\n        \"description\": \"\"\n      }\n    },\n    {\n      \"column\": \"P4\",\n      \"properties\": {\n        \"dtype\": \"float32\",\n        \"num_unique_values\": 11958,\n        \"samples\": [\n          -0.5799999833106995,\n          15.789999961853027,\n          -24.979999542236328\n        ],\n        \"semantic_type\": \"\",\n        \"description\": \"\"\n      }\n    },\n    {\n      \"column\": \"F8\",\n      \"properties\": {\n        \"dtype\": \"float32\",\n        \"num_unique_values\": 9890,\n        \"samples\": [\n          2.4200000762939453,\n          -60.5099983215332,\n          31.530000686645508\n        ],\n        \"semantic_type\": \"\",\n        \"description\": \"\"\n      }\n    },\n    {\n      \"column\": \"T4\",\n      \"properties\": {\n        \"dtype\": \"float32\",\n        \"num_unique_values\": 9558,\n        \"samples\": [\n          -60.459999084472656,\n          -0.46000000834465027,\n          -34.560001373291016\n        ],\n        \"semantic_type\": \"\",\n        \"description\": \"\"\n      }\n    },\n    {\n      \"column\": \"T6\",\n      \"properties\": {\n        \"dtype\": \"float32\",\n        \"num_unique_values\": 10659,\n        \"samples\": [\n          -20.079999923706055,\n          -9.1899995803833,\n          -16.389999389648438\n        ],\n        \"semantic_type\": \"\",\n        \"description\": \"\"\n      }\n    },\n    {\n      \"column\": \"O2\",\n      \"properties\": {\n        \"dtype\": \"float32\",\n        \"num_unique_values\": 11723,\n        \"samples\": [\n          -8.640000343322754,\n          -51.38999938964844,\n          -25.09000015258789\n        ],\n        \"semantic_type\": \"\",\n        \"description\": \"\"\n      }\n    },\n    {\n      \"column\": \"EKG\",\n      \"properties\": {\n        \"dtype\": \"float32\",\n        \"num_unique_values\": 1488,\n        \"samples\": [\n          -2.569999933242798,\n          -5.019999980926514,\n          -8.010000228881836\n        ],\n        \"semantic_type\": \"\",\n        \"description\": \"\"\n      }\n    }\n  ]\n}"
            }
          },
          "metadata": {},
          "execution_count": 8
        }
      ]
    },
    {
      "cell_type": "markdown",
      "metadata": {
        "id": "2dVAjjwJe7hC"
      },
      "source": [
        "1. histogram to see the distribution of the the first dimension\n",
        "2. exclude outliers and find the max\n",
        "3. 0 pad the rest accordign to the max (tensorflow/keras https://www.tensorflow.org/api_docs/python/tf/keras/layers/ZeroPadding1D)\n",
        "4. pad the end of the sequence (right_pad)."
      ]
    },
    {
      "cell_type": "code",
      "source": [
        "def get_array_1stdim(train_datatype):\n",
        "  '''Get the first dimension data into an array. train_datatype should be egg or spectrogram'''\n",
        "  list_1stdim = []\n",
        "\n",
        "  for elem in train_datatype:\n",
        "    list_1stdim.append(elem.shape[0])\n",
        "\n",
        "  return np.array(list_1stdim)"
      ],
      "metadata": {
        "id": "4zMJ8gc7mc7r"
      },
      "execution_count": null,
      "outputs": []
    },
    {
      "cell_type": "code",
      "source": [
        "# Histogram\n",
        "def get_array_1stdim(train_datatype):\n",
        "  '''Get the first dimension data into an array. train_datatype should be egg or spectrogram'''\n",
        "  list_1stdim = []\n",
        "\n",
        "  for elem in train_datatype:\n",
        "    list_1stdim.append(elem.shape[0])\n",
        "\n",
        "  return np.array(list_1stdim)\n",
        "\n",
        "def make_hist_part(array_1stdim, title):\n",
        "  '''Plotting a histogram of the first dim data'''\n",
        "  plt.hist(array_1stdim, bins=100, range=[0, 12000], color='skyblue', edgecolor='black')\n",
        "\n",
        "  plt.xlabel('Values')\n",
        "  plt.ylabel('Frequency')\n",
        "  plt.title('Distribution of the First Dimension ' + title)\n",
        "\n",
        "  plt.show()\n",
        "\n",
        "def make_hist_whole(array_1stdim, title):\n",
        "  '''Plotting a histogram of the first dim data'''\n",
        "  plt.hist(array_1stdim, bins=100, color='skyblue', edgecolor='black')\n",
        "\n",
        "  plt.xlabel('Values')\n",
        "  plt.ylabel('Frequency')\n",
        "  plt.title('Distribution of the First Dimension ' + title)\n",
        "\n",
        "  plt.show()"
      ],
      "metadata": {
        "id": "9bwdLUP7mdlZ"
      },
      "execution_count": null,
      "outputs": []
    },
    {
      "cell_type": "code",
      "source": [
        "make_hist_part(get_array_1stdim(x_eeg), \"EEG\")"
      ],
      "metadata": {
        "colab": {
          "base_uri": "https://localhost:8080/",
          "height": 472
        },
        "id": "_NfwDRW7vu1D",
        "outputId": "f1c89bd4-8ddd-4a77-dff1-c5d25b47ff32"
      },
      "execution_count": null,
      "outputs": [
        {
          "output_type": "display_data",
          "data": {
            "text/plain": [
              "<Figure size 640x480 with 1 Axes>"
            ],
            "image/png": "[encoded data removed]"
          },
          "metadata": {}
        }
      ]
    },
    {
      "cell_type": "code",
      "source": [
        "make_hist_whole(get_array_1stdim(x_eeg), \"EEG\")"
      ],
      "metadata": {
        "colab": {
          "base_uri": "https://localhost:8080/",
          "height": 472
        },
        "id": "7vVT7NFe9S9-",
        "outputId": "6e6cf8c7-032f-4002-f801-07b35ed8a708"
      },
      "execution_count": null,
      "outputs": [
        {
          "output_type": "display_data",
          "data": {
            "text/plain": [
              "<Figure size 640x480 with 1 Axes>"
            ],
            "image/png": "[encoded data removed]"
          },
          "metadata": {}
        }
      ]
    },
    {
      "cell_type": "code",
      "source": [
        "make_hist_part(get_array_1stdim(x_spectrogram), \"Spectrogram\")"
      ],
      "metadata": {
        "colab": {
          "base_uri": "https://localhost:8080/",
          "height": 472
        },
        "id": "nFhycEG3nAXV",
        "outputId": "90124905-b37f-401e-8b15-db0cd1ef434f"
      },
      "execution_count": null,
      "outputs": [
        {
          "output_type": "display_data",
          "data": {
            "text/plain": [
              "<Figure size 640x480 with 1 Axes>"
            ],
            "image/png": "[encoded data removed]"
          },
          "metadata": {}
        }
      ]
    },
    {
      "cell_type": "code",
      "source": [
        "make_hist_whole(get_array_1stdim(x_spectrogram), \"Spectrogram\")"
      ],
      "metadata": {
        "colab": {
          "base_uri": "https://localhost:8080/",
          "height": 472
        },
        "id": "LkLMgwVa9ZxH",
        "outputId": "b155b48c-97e7-4c98-81a9-9e769cacc063"
      },
      "execution_count": null,
      "outputs": [
        {
          "output_type": "display_data",
          "data": {
            "text/plain": [
              "<Figure size 640x480 with 1 Axes>"
            ],
            "image/png": "[encoded data removed]"
          },
          "metadata": {}
        }
      ]
    },
    {
      "cell_type": "code",
      "source": [
        "# Boxplot\n",
        "def make_boxplot(array_1stdim):\n",
        "  '''Making a boxplot of the first dim data'''\n",
        "  fig = plt.figure(figsize =(10, 7))\n",
        "\n",
        "  plt.boxplot(array_1stdim)\n",
        "\n",
        "  plt.show()\n",
        "make_boxplot(get_array_1stdim(x_eeg))"
      ],
      "metadata": {
        "colab": {
          "base_uri": "https://localhost:8080/",
          "height": 595
        },
        "id": "d29KmnMcmgQp",
        "outputId": "85d0fe73-0d6c-464f-8ed3-458ba48023bb"
      },
      "execution_count": null,
      "outputs": [
        {
          "output_type": "display_data",
          "data": {
            "text/plain": [
              "<Figure size 1000x700 with 1 Axes>"
            ],
            "image/png": "[encoded data removed]"
          },
          "metadata": {}
        }
      ]
    },
    {
      "cell_type": "code",
      "source": [
        "def trim(value, x, y):\n",
        "  new_x = []\n",
        "  new_y = []\n",
        "\n",
        "  # make new traiin\n",
        "  for i in range(len(x)):\n",
        "    if x[i].shape[0] <= value:\n",
        "      new_x.append(x[i])\n",
        "      new_y.append(y[i])\n",
        "\n",
        "  return new_x, new_y"
      ],
      "metadata": {
        "id": "mp_55MLimitQ"
      },
      "execution_count": null,
      "outputs": []
    },
    {
      "cell_type": "code",
      "source": [
        "x_eeg, y_eeg = trim(10000, x_eeg, y_eeg)"
      ],
      "metadata": {
        "id": "0NzYagySwpLB"
      },
      "execution_count": null,
      "outputs": []
    },
    {
      "cell_type": "code",
      "source": [
        "print(x_eeg[0], y_eeg[0])"
      ],
      "metadata": {
        "colab": {
          "base_uri": "https://localhost:8080/"
        },
        "id": "Re2kAl6xZB5s",
        "outputId": "8c8aa6f9-5704-45a4-d62b-f66e8f6cef11"
      },
      "execution_count": null,
      "outputs": [
        {
          "output_type": "stream",
          "name": "stdout",
          "text": [
            "            Fp1         F3         C3         P3     F7         T3         T5  \\\n",
            "0     27.650000 -20.740000 -57.689999 -40.410000  -9.84 -26.049999 -34.029999   \n",
            "1     31.370001 -19.410000 -57.950001 -40.139999  -8.77 -26.580000 -33.759998   \n",
            "2     14.620000 -26.850000 -59.549999 -41.740002 -10.90 -26.049999 -35.360001   \n",
            "3     19.940001 -23.660000 -58.220001 -41.200001 -10.90 -26.850000 -34.290001   \n",
            "4     32.430000 -19.410000 -57.419998 -39.880001  -8.51 -26.580000 -34.029999   \n",
            "...         ...        ...        ...        ...    ...        ...        ...   \n",
            "9995   5.580000 -20.469999 -52.639999 -27.910000  -8.77 -22.860001 -26.850000   \n",
            "9996  18.080000 -16.480000 -51.840000 -27.120001  -8.24 -23.930000 -26.580000   \n",
            "9997  15.950000 -18.870001 -53.169998 -27.379999 -10.10 -24.459999 -26.850000   \n",
            "9998  -5.320000 -26.580000 -55.560001 -29.770000 -13.56 -25.520000 -27.910000   \n",
            "9999  10.370000 -22.059999 -53.970001 -29.510000 -11.43 -26.049999 -28.180000   \n",
            "\n",
            "         O1         Fz         Cz         Pz        Fp2         F4         C4  \\\n",
            "0    -13.03  21.799999 -34.560001   5.320000   4.520000 -12.760000 -19.410000   \n",
            "1    -13.82  23.129999 -34.029999   6.110000   8.240000 -11.170000 -18.870001   \n",
            "2    -15.68  13.290000 -35.619999   3.460000 -13.290000 -17.280001 -20.200001   \n",
            "3    -14.36  17.809999 -33.759998   5.050000  -7.180000 -14.090000 -19.410000   \n",
            "4    -13.82  23.930000 -33.230000   6.110000   9.570000 -11.170000 -19.139999   \n",
            "...     ...        ...        ...        ...        ...        ...        ...   \n",
            "9995   6.11  21.530001 -23.660000  18.340000 -17.809999  -8.240000 -10.900000   \n",
            "9996   6.91  29.770000 -19.670000  21.270000  -5.050000  -2.390000  -7.980000   \n",
            "9997   6.65  27.650000 -21.799999  18.870001  -5.320000  -2.390000  -7.180000   \n",
            "9998   5.05  17.549999 -24.719999  18.080000 -21.000000  -7.980000  -9.570000   \n",
            "9999   5.58  24.459999 -23.389999  18.340000  -9.570000  -3.720000  -7.980000   \n",
            "\n",
            "             P4     F8         T4         T6         O2    EKG  \n",
            "0    -38.279999  14.36 -35.090000 -34.560001   8.240000   9.30  \n",
            "1    -38.549999  15.42 -35.090000 -34.029999  10.630000   1.33  \n",
            "2    -39.080002  11.43 -35.360001 -34.560001  -3.990000   6.91  \n",
            "3    -38.009998  13.29 -34.560001 -34.029999   5.050000  -1.06  \n",
            "4    -37.480000  15.15 -35.360001 -32.959999  11.960000 -12.22  \n",
            "...         ...    ...        ...        ...        ...    ...  \n",
            "9995 -23.129999   6.11 -31.629999 -20.740000  20.740000  -9.04  \n",
            "9996 -22.059999   9.57 -28.980000 -18.340000  29.770000 -21.27  \n",
            "9997 -21.530001   9.04 -27.379999 -17.549999  30.040001 -20.74  \n",
            "9998 -22.330000   7.44 -26.049999 -17.809999  19.940001 -13.56  \n",
            "9999 -21.799999  11.17 -24.459999 -16.480000  25.250000 -23.93  \n",
            "\n",
            "[10000 rows x 20 columns] 1\n"
          ]
        }
      ]
    },
    {
      "cell_type": "code",
      "source": [
        "print(len(x_eeg))"
      ],
      "metadata": {
        "colab": {
          "base_uri": "https://localhost:8080/"
        },
        "id": "_H31x--zab8_",
        "outputId": "81530ef2-924a-4aab-b682-71a89e9af865"
      },
      "execution_count": null,
      "outputs": [
        {
          "output_type": "stream",
          "name": "stdout",
          "text": [
            "27\n"
          ]
        }
      ]
    },
    {
      "cell_type": "code",
      "source": [
        "x_spectrogram, y_spectrogram = trim(10000, x_spectrogram, y_spectrogram)"
      ],
      "metadata": {
        "id": "VfygQMDdwq5s"
      },
      "execution_count": null,
      "outputs": []
    },
    {
      "cell_type": "markdown",
      "source": [
        "# **Splitting Train-Test Dataset - EEG**"
      ],
      "metadata": {
        "id": "T9QE2VWc4Fz9"
      }
    },
    {
      "cell_type": "code",
      "source": [
        "for L in x_eeg:\n",
        "  L.fillna(0,inplace=True)"
      ],
      "metadata": {
        "id": "zuDRUAgypAcX"
      },
      "execution_count": null,
      "outputs": []
    },
    {
      "cell_type": "code",
      "source": [
        "train_ratio  = 0.8\n",
        "train_length = len(x_eeg) # length of the training data\n",
        "print(train_length)\n",
        "train_split  = int(train_length*train_ratio) # where to split the training and validation data\n",
        "print(train_split)\n",
        "temp_x_train_eeg, temp_y_train_eeg = x_eeg[:train_split], y_eeg[:train_split]\n",
        "print(len(temp_x_train_eeg), len(temp_y_train_eeg))\n",
        "x_test_eeg, y_test_eeg = x_eeg[train_split:], y_eeg[train_split:]\n",
        "print(len(x_test_eeg), len(y_test_eeg))"
      ],
      "metadata": {
        "colab": {
          "base_uri": "https://localhost:8080/"
        },
        "id": "W-coaCdWdFoV",
        "outputId": "6ecab19a-ae55-488a-b8d1-343f533f556b"
      },
      "execution_count": null,
      "outputs": [
        {
          "output_type": "stream",
          "name": "stdout",
          "text": [
            "27\n",
            "21\n",
            "21 21\n",
            "6 6\n"
          ]
        }
      ]
    },
    {
      "cell_type": "code",
      "source": [
        "train_ratio  = 0.8\n",
        "train_length = len(temp_x_train_eeg) # length of the training data\n",
        "print(train_length)\n",
        "train_split  = int(train_length*train_ratio) # where to split the training and validation data\n",
        "print(train_split)\n",
        "x_train_eeg, y_train_eeg = temp_x_train_eeg[:train_split], temp_y_train_eeg[:train_split]\n",
        "print(len(x_train_eeg), len(y_train_eeg))\n",
        "x_valid_eeg, y_valid_eeg = temp_x_train_eeg[train_split:], temp_y_train_eeg[train_split:]\n",
        "print(len(x_valid_eeg), len(y_valid_eeg))"
      ],
      "metadata": {
        "colab": {
          "base_uri": "https://localhost:8080/"
        },
        "id": "xhNXXHiDeaFg",
        "outputId": "d4d035d9-ff93-4a7a-ebfc-fd5762810b43"
      },
      "execution_count": null,
      "outputs": [
        {
          "output_type": "stream",
          "name": "stdout",
          "text": [
            "21\n",
            "16\n",
            "16 16\n",
            "5 5\n"
          ]
        }
      ]
    },
    {
      "cell_type": "code",
      "source": [
        "x_valid_eeg[0]"
      ],
      "metadata": {
        "colab": {
          "base_uri": "https://localhost:8080/",
          "height": 439
        },
        "id": "3sU6V4jQo9jy",
        "outputId": "bfc13310-d2f0-4e15-ef34-bd2717a217e6"
      },
      "execution_count": null,
      "outputs": [
        {
          "output_type": "execute_result",
          "data": {
            "text/plain": [
              "             Fp1          F3          C3          P3          F7          T3  \\\n",
              "0     148.979996  146.529999  130.020004  126.500000  173.369995  125.739998   \n",
              "1     154.850006  169.990005  157.050003  166.020004  198.279999  154.889999   \n",
              "2     161.479996  166.880005  159.399994  146.059998  207.899994  169.570007   \n",
              "3     187.440002  177.860001  166.990005  157.529999  215.649994  174.520004   \n",
              "4     183.880005  182.460007  166.910004  178.009995  217.580002  171.979996   \n",
              "...          ...         ...         ...         ...         ...         ...   \n",
              "9995   65.660004   46.799999   15.990000    5.030000   64.209999   43.950001   \n",
              "9996   35.970001   38.639999    7.500000   18.010000   46.730000   29.490000   \n",
              "9997   31.879999   32.279999    3.930000    6.950000   45.520000   33.459999   \n",
              "9998   51.820000   35.750000    4.800000   -3.700000   53.070000   36.849998   \n",
              "9999   37.840000   33.820000    0.950000    9.710000   42.299999   25.510000   \n",
              "\n",
              "              T5          O1          Fz          Cz          Pz         Fp2  \\\n",
              "0     104.699997   96.930000   94.830002  149.339996  138.860001   88.910004   \n",
              "1     156.820007  136.779999  112.160004  182.080002  159.270004   98.709999   \n",
              "2     130.470001  122.040001  109.250000  159.000000  170.649994  102.370003   \n",
              "3     141.820007  132.279999  118.830002  169.619995  178.039993  130.020004   \n",
              "4     171.119995  155.690002  118.040001  185.220001  170.869995  126.919998   \n",
              "...          ...         ...         ...         ...         ...         ...   \n",
              "9995   12.130000   -8.300000   34.439999   13.300000    5.930000   72.070000   \n",
              "9996   36.110001   10.080000   22.340000   22.610001   -4.920000   48.299999   \n",
              "9997   23.780001   -0.210000   17.520000    9.860000   -4.140000   41.980000   \n",
              "9998    1.200000  -14.540000   25.379999    2.250000    2.500000   56.930000   \n",
              "9999   25.490000   -2.420000   18.660000   13.870000   -7.830000   46.009998   \n",
              "\n",
              "              F4          C4          P4          F8          T4          T6  \\\n",
              "0      81.220001  120.320000  126.559998   58.349998   79.889999   93.559998   \n",
              "1     117.000000  143.089996  150.970001   82.919998  128.660004  142.199997   \n",
              "2      84.620003  142.500000  157.820007   99.400002   94.480003  123.150002   \n",
              "3      86.769997  145.679993  165.789993  103.639999   98.610001  127.550003   \n",
              "4     112.339996  140.509995  164.270004  112.540001  135.529999  160.630005   \n",
              "...          ...         ...         ...         ...         ...         ...   \n",
              "9995   20.059999    4.180000    8.300000   33.139999    4.760000    2.930000   \n",
              "9996   35.130001   -4.330000    2.160000   13.590000   30.040001   24.080000   \n",
              "9997   22.160000   -3.970000    0.940000    8.820000   16.420000   16.540001   \n",
              "9998   10.300000   -0.160000    3.940000   26.379999   -3.760000   -2.970000   \n",
              "9999   26.570000   -7.130000   -3.420000   15.020000   21.469999    9.040000   \n",
              "\n",
              "              O2         EKG  \n",
              "0     107.959999 -441.970001  \n",
              "1     138.080002  -71.089996  \n",
              "2     137.369995 -173.630005  \n",
              "3     147.970001 -477.399994  \n",
              "4     160.449997 -210.500000  \n",
              "...          ...         ...  \n",
              "9995    0.420000 -285.239990  \n",
              "9996    5.930000   -9.980000  \n",
              "9997    0.870000  -19.830000  \n",
              "9998   -4.990000 -268.040009  \n",
              "9999   -4.780000  -76.540001  \n",
              "\n",
              "[10000 rows x 20 columns]"
            ],
            "text/html": [
              "\n",
              "  <div id=\"df-ef33af84-8e6a-4538-a175-aafbc16b48c9\" class=\"colab-df-container\">\n",
              "    <div>\n",
              "<style scoped>\n",
              "    .dataframe tbody tr th:only-of-type {\n",
              "        vertical-align: middle;\n",
              "    }\n",
              "\n",
              "    .dataframe tbody tr th {\n",
              "        vertical-align: top;\n",
              "    }\n",
              "\n",
              "    .dataframe thead th {\n",
              "        text-align: right;\n",
              "    }\n",
              "</style>\n",
              "<table border=\"1\" class=\"dataframe\">\n",
              "  <thead>\n",
              "    <tr style=\"text-align: right;\">\n",
              "      <th></th>\n",
              "      <th>Fp1</th>\n",
              "      <th>F3</th>\n",
              "      <th>C3</th>\n",
              "      <th>P3</th>\n",
              "      <th>F7</th>\n",
              "      <th>T3</th>\n",
              "      <th>T5</th>\n",
              "      <th>O1</th>\n",
              "      <th>Fz</th>\n",
              "      <th>Cz</th>\n",
              "      <th>Pz</th>\n",
              "      <th>Fp2</th>\n",
              "      <th>F4</th>\n",
              "      <th>C4</th>\n",
              "      <th>P4</th>\n",
              "      <th>F8</th>\n",
              "      <th>T4</th>\n",
              "      <th>T6</th>\n",
              "      <th>O2</th>\n",
              "      <th>EKG</th>\n",
              "    </tr>\n",
              "  </thead>\n",
              "  <tbody>\n",
              "    <tr>\n",
              "      <th>0</th>\n",
              "      <td>148.979996</td>\n",
              "      <td>146.529999</td>\n",
              "      <td>130.020004</td>\n",
              "      <td>126.500000</td>\n",
              "      <td>173.369995</td>\n",
              "      <td>125.739998</td>\n",
              "      <td>104.699997</td>\n",
              "      <td>96.930000</td>\n",
              "      <td>94.830002</td>\n",
              "      <td>149.339996</td>\n",
              "      <td>138.860001</td>\n",
              "      <td>88.910004</td>\n",
              "      <td>81.220001</td>\n",
              "      <td>120.320000</td>\n",
              "      <td>126.559998</td>\n",
              "      <td>58.349998</td>\n",
              "      <td>79.889999</td>\n",
              "      <td>93.559998</td>\n",
              "      <td>107.959999</td>\n",
              "      <td>-441.970001</td>\n",
              "    </tr>\n",
              "    <tr>\n",
              "      <th>1</th>\n",
              "      <td>154.850006</td>\n",
              "      <td>169.990005</td>\n",
              "      <td>157.050003</td>\n",
              "      <td>166.020004</td>\n",
              "      <td>198.279999</td>\n",
              "      <td>154.889999</td>\n",
              "      <td>156.820007</td>\n",
              "      <td>136.779999</td>\n",
              "      <td>112.160004</td>\n",
              "      <td>182.080002</td>\n",
              "      <td>159.270004</td>\n",
              "      <td>98.709999</td>\n",
              "      <td>117.000000</td>\n",
              "      <td>143.089996</td>\n",
              "      <td>150.970001</td>\n",
              "      <td>82.919998</td>\n",
              "      <td>128.660004</td>\n",
              "      <td>142.199997</td>\n",
              "      <td>138.080002</td>\n",
              "      <td>-71.089996</td>\n",
              "    </tr>\n",
              "    <tr>\n",
              "      <th>2</th>\n",
              "      <td>161.479996</td>\n",
              "      <td>166.880005</td>\n",
              "      <td>159.399994</td>\n",
              "      <td>146.059998</td>\n",
              "      <td>207.899994</td>\n",
              "      <td>169.570007</td>\n",
              "      <td>130.470001</td>\n",
              "      <td>122.040001</td>\n",
              "      <td>109.250000</td>\n",
              "      <td>159.000000</td>\n",
              "      <td>170.649994</td>\n",
              "      <td>102.370003</td>\n",
              "      <td>84.620003</td>\n",
              "      <td>142.500000</td>\n",
              "      <td>157.820007</td>\n",
              "      <td>99.400002</td>\n",
              "      <td>94.480003</td>\n",
              "      <td>123.150002</td>\n",
              "      <td>137.369995</td>\n",
              "      <td>-173.630005</td>\n",
              "    </tr>\n",
              "    <tr>\n",
              "      <th>3</th>\n",
              "      <td>187.440002</td>\n",
              "      <td>177.860001</td>\n",
              "      <td>166.990005</td>\n",
              "      <td>157.529999</td>\n",
              "      <td>215.649994</td>\n",
              "      <td>174.520004</td>\n",
              "      <td>141.820007</td>\n",
              "      <td>132.279999</td>\n",
              "      <td>118.830002</td>\n",
              "      <td>169.619995</td>\n",
              "      <td>178.039993</td>\n",
              "      <td>130.020004</td>\n",
              "      <td>86.769997</td>\n",
              "      <td>145.679993</td>\n",
              "      <td>165.789993</td>\n",
              "      <td>103.639999</td>\n",
              "      <td>98.610001</td>\n",
              "      <td>127.550003</td>\n",
              "      <td>147.970001</td>\n",
              "      <td>-477.399994</td>\n",
              "    </tr>\n",
              "    <tr>\n",
              "      <th>4</th>\n",
              "      <td>183.880005</td>\n",
              "      <td>182.460007</td>\n",
              "      <td>166.910004</td>\n",
              "      <td>178.009995</td>\n",
              "      <td>217.580002</td>\n",
              "      <td>171.979996</td>\n",
              "      <td>171.119995</td>\n",
              "      <td>155.690002</td>\n",
              "      <td>118.040001</td>\n",
              "      <td>185.220001</td>\n",
              "      <td>170.869995</td>\n",
              "      <td>126.919998</td>\n",
              "      <td>112.339996</td>\n",
              "      <td>140.509995</td>\n",
              "      <td>164.270004</td>\n",
              "      <td>112.540001</td>\n",
              "      <td>135.529999</td>\n",
              "      <td>160.630005</td>\n",
              "      <td>160.449997</td>\n",
              "      <td>-210.500000</td>\n",
              "    </tr>\n",
              "    <tr>\n",
              "      <th>...</th>\n",
              "      <td>...</td>\n",
              "      <td>...</td>\n",
              "      <td>...</td>\n",
              "      <td>...</td>\n",
              "      <td>...</td>\n",
              "      <td>...</td>\n",
              "      <td>...</td>\n",
              "      <td>...</td>\n",
              "      <td>...</td>\n",
              "      <td>...</td>\n",
              "      <td>...</td>\n",
              "      <td>...</td>\n",
              "      <td>...</td>\n",
              "      <td>...</td>\n",
              "      <td>...</td>\n",
              "      <td>...</td>\n",
              "      <td>...</td>\n",
              "      <td>...</td>\n",
              "      <td>...</td>\n",
              "      <td>...</td>\n",
              "    </tr>\n",
              "    <tr>\n",
              "      <th>9995</th>\n",
              "      <td>65.660004</td>\n",
              "      <td>46.799999</td>\n",
              "      <td>15.990000</td>\n",
              "      <td>5.030000</td>\n",
              "      <td>64.209999</td>\n",
              "      <td>43.950001</td>\n",
              "      <td>12.130000</td>\n",
              "      <td>-8.300000</td>\n",
              "      <td>34.439999</td>\n",
              "      <td>13.300000</td>\n",
              "      <td>5.930000</td>\n",
              "      <td>72.070000</td>\n",
              "      <td>20.059999</td>\n",
              "      <td>4.180000</td>\n",
              "      <td>8.300000</td>\n",
              "      <td>33.139999</td>\n",
              "      <td>4.760000</td>\n",
              "      <td>2.930000</td>\n",
              "      <td>0.420000</td>\n",
              "      <td>-285.239990</td>\n",
              "    </tr>\n",
              "    <tr>\n",
              "      <th>9996</th>\n",
              "      <td>35.970001</td>\n",
              "      <td>38.639999</td>\n",
              "      <td>7.500000</td>\n",
              "      <td>18.010000</td>\n",
              "      <td>46.730000</td>\n",
              "      <td>29.490000</td>\n",
              "      <td>36.110001</td>\n",
              "      <td>10.080000</td>\n",
              "      <td>22.340000</td>\n",
              "      <td>22.610001</td>\n",
              "      <td>-4.920000</td>\n",
              "      <td>48.299999</td>\n",
              "      <td>35.130001</td>\n",
              "      <td>-4.330000</td>\n",
              "      <td>2.160000</td>\n",
              "      <td>13.590000</td>\n",
              "      <td>30.040001</td>\n",
              "      <td>24.080000</td>\n",
              "      <td>5.930000</td>\n",
              "      <td>-9.980000</td>\n",
              "    </tr>\n",
              "    <tr>\n",
              "      <th>9997</th>\n",
              "      <td>31.879999</td>\n",
              "      <td>32.279999</td>\n",
              "      <td>3.930000</td>\n",
              "      <td>6.950000</td>\n",
              "      <td>45.520000</td>\n",
              "      <td>33.459999</td>\n",
              "      <td>23.780001</td>\n",
              "      <td>-0.210000</td>\n",
              "      <td>17.520000</td>\n",
              "      <td>9.860000</td>\n",
              "      <td>-4.140000</td>\n",
              "      <td>41.980000</td>\n",
              "      <td>22.160000</td>\n",
              "      <td>-3.970000</td>\n",
              "      <td>0.940000</td>\n",
              "      <td>8.820000</td>\n",
              "      <td>16.420000</td>\n",
              "      <td>16.540001</td>\n",
              "      <td>0.870000</td>\n",
              "      <td>-19.830000</td>\n",
              "    </tr>\n",
              "    <tr>\n",
              "      <th>9998</th>\n",
              "      <td>51.820000</td>\n",
              "      <td>35.750000</td>\n",
              "      <td>4.800000</td>\n",
              "      <td>-3.700000</td>\n",
              "      <td>53.070000</td>\n",
              "      <td>36.849998</td>\n",
              "      <td>1.200000</td>\n",
              "      <td>-14.540000</td>\n",
              "      <td>25.379999</td>\n",
              "      <td>2.250000</td>\n",
              "      <td>2.500000</td>\n",
              "      <td>56.930000</td>\n",
              "      <td>10.300000</td>\n",
              "      <td>-0.160000</td>\n",
              "      <td>3.940000</td>\n",
              "      <td>26.379999</td>\n",
              "      <td>-3.760000</td>\n",
              "      <td>-2.970000</td>\n",
              "      <td>-4.990000</td>\n",
              "      <td>-268.040009</td>\n",
              "    </tr>\n",
              "    <tr>\n",
              "      <th>9999</th>\n",
              "      <td>37.840000</td>\n",
              "      <td>33.820000</td>\n",
              "      <td>0.950000</td>\n",
              "      <td>9.710000</td>\n",
              "      <td>42.299999</td>\n",
              "      <td>25.510000</td>\n",
              "      <td>25.490000</td>\n",
              "      <td>-2.420000</td>\n",
              "      <td>18.660000</td>\n",
              "      <td>13.870000</td>\n",
              "      <td>-7.830000</td>\n",
              "      <td>46.009998</td>\n",
              "      <td>26.570000</td>\n",
              "      <td>-7.130000</td>\n",
              "      <td>-3.420000</td>\n",
              "      <td>15.020000</td>\n",
              "      <td>21.469999</td>\n",
              "      <td>9.040000</td>\n",
              "      <td>-4.780000</td>\n",
              "      <td>-76.540001</td>\n",
              "    </tr>\n",
              "  </tbody>\n",
              "</table>\n",
              "<p>10000 rows × 20 columns</p>\n",
              "</div>\n",
              "    <div class=\"colab-df-buttons\">\n",
              "\n",
              "  <div class=\"colab-df-container\">\n",
              "    <button class=\"colab-df-convert\" onclick=\"convertToInteractive('df-ef33af84-8e6a-4538-a175-aafbc16b48c9')\"\n",
              "            title=\"Convert this dataframe to an interactive table.\"\n",
              "            style=\"display:none;\">\n",
              "\n",
              "  <svg xmlns=\"http://www.w3.org/2000/svg\" height=\"24px\" viewBox=\"0 -960 960 960\">\n",
              "    <path d=\"M120-120v-720h720v720H120Zm60-500h600v-160H180v160Zm220 220h160v-160H400v160Zm0 220h160v-160H400v160ZM180-400h160v-160H180v160Zm440 0h160v-160H620v160ZM180-180h160v-160H180v160Zm440 0h160v-160H620v160Z\"/>\n",
              "  </svg>\n",
              "    </button>\n",
              "\n",
              "  <style>\n",
              "    .colab-df-container {\n",
              "      display:flex;\n",
              "      gap: 12px;\n",
              "    }\n",
              "\n",
              "    .colab-df-convert {\n",
              "      background-color: #E8F0FE;\n",
              "      border: none;\n",
              "      border-radius: 50%;\n",
              "      cursor: pointer;\n",
              "      display: none;\n",
              "      fill: #1967D2;\n",
              "      height: 32px;\n",
              "      padding: 0 0 0 0;\n",
              "      width: 32px;\n",
              "    }\n",
              "\n",
              "    .colab-df-convert:hover {\n",
              "      background-color: #E2EBFA;\n",
              "      box-shadow: 0px 1px 2px rgba(60, 64, 67, 0.3), 0px 1px 3px 1px rgba(60, 64, 67, 0.15);\n",
              "      fill: #174EA6;\n",
              "    }\n",
              "\n",
              "    .colab-df-buttons div {\n",
              "      margin-bottom: 4px;\n",
              "    }\n",
              "\n",
              "    [theme=dark] .colab-df-convert {\n",
              "      background-color: #3B4455;\n",
              "      fill: #D2E3FC;\n",
              "    }\n",
              "\n",
              "    [theme=dark] .colab-df-convert:hover {\n",
              "      background-color: #434B5C;\n",
              "      box-shadow: 0px 1px 3px 1px rgba(0, 0, 0, 0.15);\n",
              "      filter: drop-shadow(0px 1px 2px rgba(0, 0, 0, 0.3));\n",
              "      fill: #FFFFFF;\n",
              "    }\n",
              "  </style>\n",
              "\n",
              "    <script>\n",
              "      const buttonEl =\n",
              "        document.querySelector('#df-ef33af84-8e6a-4538-a175-aafbc16b48c9 button.colab-df-convert');\n",
              "      buttonEl.style.display =\n",
              "        google.colab.kernel.accessAllowed ? 'block' : 'none';\n",
              "\n",
              "      async function convertToInteractive(key) {\n",
              "        const element = document.querySelector('#df-ef33af84-8e6a-4538-a175-aafbc16b48c9');\n",
              "        const dataTable =\n",
              "          await google.colab.kernel.invokeFunction('convertToInteractive',\n",
              "                                                    [key], {});\n",
              "        if (!dataTable) return;\n",
              "\n",
              "        const docLinkHtml = 'Like what you see? Visit the ' +\n",
              "          '<a target=\"_blank\" href=https://colab.research.google.com/notebooks/data_table.ipynb>data table notebook</a>'\n",
              "          + ' to learn more about interactive tables.';\n",
              "        element.innerHTML = '';\n",
              "        dataTable['output_type'] = 'display_data';\n",
              "        await google.colab.output.renderOutput(dataTable, element);\n",
              "        const docLink = document.createElement('div');\n",
              "        docLink.innerHTML = docLinkHtml;\n",
              "        element.appendChild(docLink);\n",
              "      }\n",
              "    </script>\n",
              "  </div>\n",
              "\n",
              "\n",
              "<div id=\"df-1cab2eca-90b4-4f3b-bf16-e08c822d3879\">\n",
              "  <button class=\"colab-df-quickchart\" onclick=\"quickchart('df-1cab2eca-90b4-4f3b-bf16-e08c822d3879')\"\n",
              "            title=\"Suggest charts\"\n",
              "            style=\"display:none;\">\n",
              "\n",
              "<svg xmlns=\"http://www.w3.org/2000/svg\" height=\"24px\"viewBox=\"0 0 24 24\"\n",
              "     width=\"24px\">\n",
              "    <g>\n",
              "        <path d=\"M19 3H5c-1.1 0-2 .9-2 2v14c0 1.1.9 2 2 2h14c1.1 0 2-.9 2-2V5c0-1.1-.9-2-2-2zM9 17H7v-7h2v7zm4 0h-2V7h2v10zm4 0h-2v-4h2v4z\"/>\n",
              "    </g>\n",
              "</svg>\n",
              "  </button>\n",
              "\n",
              "<style>\n",
              "  .colab-df-quickchart {\n",
              "      --bg-color: #E8F0FE;\n",
              "      --fill-color: #1967D2;\n",
              "      --hover-bg-color: #E2EBFA;\n",
              "      --hover-fill-color: #174EA6;\n",
              "      --disabled-fill-color: #AAA;\n",
              "      --disabled-bg-color: #DDD;\n",
              "  }\n",
              "\n",
              "  [theme=dark] .colab-df-quickchart {\n",
              "      --bg-color: #3B4455;\n",
              "      --fill-color: #D2E3FC;\n",
              "      --hover-bg-color: #434B5C;\n",
              "      --hover-fill-color: #FFFFFF;\n",
              "      --disabled-bg-color: #3B4455;\n",
              "      --disabled-fill-color: #666;\n",
              "  }\n",
              "\n",
              "  .colab-df-quickchart {\n",
              "    background-color: var(--bg-color);\n",
              "    border: none;\n",
              "    border-radius: 50%;\n",
              "    cursor: pointer;\n",
              "    display: none;\n",
              "    fill: var(--fill-color);\n",
              "    height: 32px;\n",
              "    padding: 0;\n",
              "    width: 32px;\n",
              "  }\n",
              "\n",
              "  .colab-df-quickchart:hover {\n",
              "    background-color: var(--hover-bg-color);\n",
              "    box-shadow: 0 1px 2px rgba(60, 64, 67, 0.3), 0 1px 3px 1px rgba(60, 64, 67, 0.15);\n",
              "    fill: var(--button-hover-fill-color);\n",
              "  }\n",
              "\n",
              "  .colab-df-quickchart-complete:disabled,\n",
              "  .colab-df-quickchart-complete:disabled:hover {\n",
              "    background-color: var(--disabled-bg-color);\n",
              "    fill: var(--disabled-fill-color);\n",
              "    box-shadow: none;\n",
              "  }\n",
              "\n",
              "  .colab-df-spinner {\n",
              "    border: 2px solid var(--fill-color);\n",
              "    border-color: transparent;\n",
              "    border-bottom-color: var(--fill-color);\n",
              "    animation:\n",
              "      spin 1s steps(1) infinite;\n",
              "  }\n",
              "\n",
              "  @keyframes spin {\n",
              "    0% {\n",
              "      border-color: transparent;\n",
              "      border-bottom-color: var(--fill-color);\n",
              "      border-left-color: var(--fill-color);\n",
              "    }\n",
              "    20% {\n",
              "      border-color: transparent;\n",
              "      border-left-color: var(--fill-color);\n",
              "      border-top-color: var(--fill-color);\n",
              "    }\n",
              "    30% {\n",
              "      border-color: transparent;\n",
              "      border-left-color: var(--fill-color);\n",
              "      border-top-color: var(--fill-color);\n",
              "      border-right-color: var(--fill-color);\n",
              "    }\n",
              "    40% {\n",
              "      border-color: transparent;\n",
              "      border-right-color: var(--fill-color);\n",
              "      border-top-color: var(--fill-color);\n",
              "    }\n",
              "    60% {\n",
              "      border-color: transparent;\n",
              "      border-right-color: var(--fill-color);\n",
              "    }\n",
              "    80% {\n",
              "      border-color: transparent;\n",
              "      border-right-color: var(--fill-color);\n",
              "      border-bottom-color: var(--fill-color);\n",
              "    }\n",
              "    90% {\n",
              "      border-color: transparent;\n",
              "      border-bottom-color: var(--fill-color);\n",
              "    }\n",
              "  }\n",
              "</style>\n",
              "\n",
              "  <script>\n",
              "    async function quickchart(key) {\n",
              "      const quickchartButtonEl =\n",
              "        document.querySelector('#' + key + ' button');\n",
              "      quickchartButtonEl.disabled = true;  // To prevent multiple clicks.\n",
              "      quickchartButtonEl.classList.add('colab-df-spinner');\n",
              "      try {\n",
              "        const charts = await google.colab.kernel.invokeFunction(\n",
              "            'suggestCharts', [key], {});\n",
              "      } catch (error) {\n",
              "        console.error('Error during call to suggestCharts:', error);\n",
              "      }\n",
              "      quickchartButtonEl.classList.remove('colab-df-spinner');\n",
              "      quickchartButtonEl.classList.add('colab-df-quickchart-complete');\n",
              "    }\n",
              "    (() => {\n",
              "      let quickchartButtonEl =\n",
              "        document.querySelector('#df-1cab2eca-90b4-4f3b-bf16-e08c822d3879 button');\n",
              "      quickchartButtonEl.style.display =\n",
              "        google.colab.kernel.accessAllowed ? 'block' : 'none';\n",
              "    })();\n",
              "  </script>\n",
              "</div>\n",
              "    </div>\n",
              "  </div>\n"
            ],
            "application/vnd.google.colaboratory.intrinsic+json": {
              "type": "dataframe",
              "summary": "{\n  \"name\": \"x_valid_eeg[0]\",\n  \"rows\": 10000,\n  \"fields\": [\n    {\n      \"column\": \"Fp1\",\n      \"properties\": {\n        \"dtype\": \"float32\",\n        \"num_unique_values\": 8292,\n        \"samples\": [\n          -55.11000061035156,\n          -52.91999816894531,\n          -53.36000061035156\n        ],\n        \"semantic_type\": \"\",\n        \"description\": \"\"\n      }\n    },\n    {\n      \"column\": \"F3\",\n      \"properties\": {\n        \"dtype\": \"float32\",\n        \"num_unique_values\": 8172,\n        \"samples\": [\n          -87.0,\n          86.16999816894531,\n          27.350000381469727\n        ],\n        \"semantic_type\": \"\",\n        \"description\": \"\"\n      }\n    },\n    {\n      \"column\": \"C3\",\n      \"properties\": {\n        \"dtype\": \"float32\",\n        \"num_unique_values\": 8069,\n        \"samples\": [\n          -24.760000228881836,\n          -146.19000244140625,\n          -86.58000183105469\n        ],\n        \"semantic_type\": \"\",\n        \"description\": \"\"\n      }\n    },\n    {\n      \"column\": \"P3\",\n      \"properties\": {\n        \"dtype\": \"float32\",\n        \"num_unique_values\": 8069,\n        \"samples\": [\n          -8.670000076293945,\n          -75.4800033569336,\n          -124.29000091552734\n        ],\n        \"semantic_type\": \"\",\n        \"description\": \"\"\n      }\n    },\n    {\n      \"column\": \"F7\",\n      \"properties\": {\n        \"dtype\": \"float32\",\n        \"num_unique_values\": 8288,\n        \"samples\": [\n          -25.920000076293945,\n          -19.309999465942383,\n          -48.529998779296875\n        ],\n        \"semantic_type\": \"\",\n        \"description\": \"\"\n      }\n    },\n    {\n      \"column\": \"T3\",\n      \"properties\": {\n        \"dtype\": \"float32\",\n        \"num_unique_values\": 7974,\n        \"samples\": [\n          48.599998474121094,\n          -65.2699966430664,\n          90.13999938964844\n        ],\n        \"semantic_type\": \"\",\n        \"description\": \"\"\n      }\n    },\n    {\n      \"column\": \"T5\",\n      \"properties\": {\n        \"dtype\": \"float32\",\n        \"num_unique_values\": 7875,\n        \"samples\": [\n          26.149999618530273,\n          8.90999984741211,\n          -10.369999885559082\n        ],\n        \"semantic_type\": \"\",\n        \"description\": \"\"\n      }\n    },\n    {\n      \"column\": \"O1\",\n      \"properties\": {\n        \"dtype\": \"float32\",\n        \"num_unique_values\": 7919,\n        \"samples\": [\n          -23.729999542236328,\n          -116.58999633789062,\n          5.53000020980835\n        ],\n        \"semantic_type\": \"\",\n        \"description\": \"\"\n      }\n    },\n    {\n      \"column\": \"Fz\",\n      \"properties\": {\n        \"dtype\": \"float32\",\n        \"num_unique_values\": 8133,\n        \"samples\": [\n          89.61000061035156,\n          -101.08999633789062,\n          34.869998931884766\n        ],\n        \"semantic_type\": \"\",\n        \"description\": \"\"\n      }\n    },\n    {\n      \"column\": \"Cz\",\n      \"properties\": {\n        \"dtype\": \"float32\",\n        \"num_unique_values\": 8002,\n        \"samples\": [\n          39.470001220703125,\n          -57.380001068115234,\n          46.040000915527344\n        ],\n        \"semantic_type\": \"\",\n        \"description\": \"\"\n      }\n    },\n    {\n      \"column\": \"Pz\",\n      \"properties\": {\n        \"dtype\": \"float32\",\n        \"num_unique_values\": 8029,\n        \"samples\": [\n          -48.5099983215332,\n          -7.46999979019165,\n          -59.08000183105469\n        ],\n        \"semantic_type\": \"\",\n        \"description\": \"\"\n      }\n    },\n    {\n      \"column\": \"Fp2\",\n      \"properties\": {\n        \"dtype\": \"float32\",\n        \"num_unique_values\": 8269,\n        \"samples\": [\n          51.880001068115234,\n          -27.889999389648438,\n          -43.20000076293945\n        ],\n        \"semantic_type\": \"\",\n        \"description\": \"\"\n      }\n    },\n    {\n      \"column\": \"F4\",\n      \"properties\": {\n        \"dtype\": \"float32\",\n        \"num_unique_values\": 8132,\n        \"samples\": [\n          4.059999942779541,\n          17.219999313354492,\n          -57.54999923706055\n        ],\n        \"semantic_type\": \"\",\n        \"description\": \"\"\n      }\n    },\n    {\n      \"column\": \"C4\",\n      \"properties\": {\n        \"dtype\": \"float32\",\n        \"num_unique_values\": 7992,\n        \"samples\": [\n          -12.569999694824219,\n          -70.16000366210938,\n          -107.80000305175781\n        ],\n        \"semantic_type\": \"\",\n        \"description\": \"\"\n      }\n    },\n    {\n      \"column\": \"P4\",\n      \"properties\": {\n        \"dtype\": \"float32\",\n        \"num_unique_values\": 7912,\n        \"samples\": [\n          -121.06999969482422,\n          -27.049999237060547,\n          -10.329999923706055\n        ],\n        \"semantic_type\": \"\",\n        \"description\": \"\"\n      }\n    },\n    {\n      \"column\": \"F8\",\n      \"properties\": {\n        \"dtype\": \"float32\",\n        \"num_unique_values\": 8042,\n        \"samples\": [\n          -44.40999984741211,\n          -1.340000033378601,\n          -62.45000076293945\n        ],\n        \"semantic_type\": \"\",\n        \"description\": \"\"\n      }\n    },\n    {\n      \"column\": \"T4\",\n      \"properties\": {\n        \"dtype\": \"float32\",\n        \"num_unique_values\": 7815,\n        \"samples\": [\n          3.4600000381469727,\n          -8.979999542236328,\n          -29.059999465942383\n        ],\n        \"semantic_type\": \"\",\n        \"description\": \"\"\n      }\n    },\n    {\n      \"column\": \"T6\",\n      \"properties\": {\n        \"dtype\": \"float32\",\n        \"num_unique_values\": 7812,\n        \"samples\": [\n          -117.44000244140625,\n          -57.93000030517578,\n          -4.550000190734863\n        ],\n        \"semantic_type\": \"\",\n        \"description\": \"\"\n      }\n    },\n    {\n      \"column\": \"O2\",\n      \"properties\": {\n        \"dtype\": \"float32\",\n        \"num_unique_values\": 7834,\n        \"samples\": [\n          1.0800000429153442,\n          -14.84000015258789,\n          48.13999938964844\n        ],\n        \"semantic_type\": \"\",\n        \"description\": \"\"\n      }\n    },\n    {\n      \"column\": \"EKG\",\n      \"properties\": {\n        \"dtype\": \"float32\",\n        \"num_unique_values\": 9281,\n        \"samples\": [\n          67.54000091552734,\n          16.200000762939453,\n          100.30000305175781\n        ],\n        \"semantic_type\": \"\",\n        \"description\": \"\"\n      }\n    }\n  ]\n}"
            }
          },
          "metadata": {},
          "execution_count": 24
        }
      ]
    },
    {
      "cell_type": "code",
      "source": [
        "x_train_eeg = np.array(x_train_eeg)\n",
        "x_test_eeg = np.array(x_test_eeg)\n",
        "x_valid_eeg = np.array(x_valid_eeg)\n",
        "\n",
        "y_train_eeg = np.array(y_train_eeg)\n",
        "y_test_eeg = np.array(y_test_eeg)\n",
        "y_valid_eeg = np.array(y_valid_eeg)"
      ],
      "metadata": {
        "id": "o2AhgOfKryqv"
      },
      "execution_count": null,
      "outputs": []
    },
    {
      "cell_type": "code",
      "source": [
        "mean = x_train_eeg.mean(axis=0)\n",
        "std  = x_train_eeg.std(axis=0)\n",
        "x_train_eeg = (x_train_eeg-mean)/std\n",
        "x_valid_eeg = (x_valid_eeg-mean)/std\n",
        "x_test_eeg  = (x_test_eeg-mean)/std"
      ],
      "metadata": {
        "id": "_OngNmHa31fu"
      },
      "execution_count": null,
      "outputs": []
    },
    {
      "cell_type": "code",
      "source": [
        "print(mean,std)"
      ],
      "metadata": {
        "colab": {
          "base_uri": "https://localhost:8080/"
        },
        "id": "Fx32f-GRY11j",
        "outputId": "28956a32-c2f3-4f9c-c118-f39b580fd4b0"
      },
      "execution_count": null,
      "outputs": [
        {
          "output_type": "stream",
          "name": "stdout",
          "text": [
            "[[1321.3444   1340.9081   1304.1213   ... 1254.3643   1261.\n",
            "   -65.06125 ]\n",
            " [ 944.005     874.12506   890.4037   ...  937.2694    940.375\n",
            "    22.559376]\n",
            " [ 758.5737    832.98816   823.935    ...  701.7987    701.80743\n",
            "    86.66688 ]\n",
            " ...\n",
            " [1061.2068   1050.3987   1021.1005   ... 1005.39185   973.7975\n",
            "    91.82937 ]\n",
            " [1174.453    1184.9745   1269.2235   ... 1307.5806   1343.5795\n",
            "  -131.49686 ]\n",
            " [1136.286    1119.7292   1079.5599   ... 1070.0443   1054.3776\n",
            "    55.465626]] [[5099.542   5232.1636  4955.419   ... 4717.2236  4599.041    365.11197]\n",
            " [3642.7363  3443.0312  3545.352   ... 3779.5105  3840.0762   126.12616]\n",
            " [2957.4458  3292.6038  3432.627   ... 3143.5781  3235.2473   336.6969 ]\n",
            " ...\n",
            " [4201.6865  4168.446   4205.8403  ... 4328.34    4371.5884   253.95299]\n",
            " [4583.4385  4649.3374  4891.4854  ... 5074.357   5158.517    471.32892]\n",
            " [4538.348   4493.595   4159.8984  ... 4001.2546  3898.1106   345.3937 ]]\n"
          ]
        }
      ]
    },
    {
      "cell_type": "code",
      "source": [
        "# Ensure there are no NaNs or infinite values\n",
        "print(\"NaNs in x_eeg:\", np.isnan(x_eeg).any())\n",
        "print(\"Infs in x_eeg:\", np.isinf(x_eeg).any())\n",
        "print(\"NaNs in y_eeg:\", np.isnan(y_eeg).any())\n",
        "print(\"Infs in y_eeg:\", np.isinf(y_eeg).any())"
      ],
      "metadata": {
        "colab": {
          "base_uri": "https://localhost:8080/"
        },
        "id": "y4pcuyRggs9P",
        "outputId": "9ffc7e3b-c7a7-40bc-872d-627360e56409"
      },
      "execution_count": null,
      "outputs": [
        {
          "output_type": "stream",
          "name": "stdout",
          "text": [
            "NaNs in x_eeg: False\n",
            "Infs in x_eeg: False\n",
            "NaNs in y_eeg: False\n",
            "Infs in y_eeg: False\n"
          ]
        }
      ]
    },
    {
      "cell_type": "code",
      "source": [
        "for i in x_eeg:\n",
        "    i = np.nan_to_num(i, nan=0.0)\n",
        "    # if True in np.isnan(i):\n",
        "    #     print(f\"NaN/Inf found in sample {i}\")"
      ],
      "metadata": {
        "id": "tySpQZMYg6DR"
      },
      "execution_count": null,
      "outputs": []
    },
    {
      "cell_type": "code",
      "source": [
        "from collections import Counter\n",
        "thing = y_train_eeg.tolist()\n",
        "values, counts = np.unique(thing, return_counts=True)\n",
        "print(values)\n",
        "print(counts)"
      ],
      "metadata": {
        "colab": {
          "base_uri": "https://localhost:8080/"
        },
        "id": "xmenZSFSj7fI",
        "outputId": "8a432b78-965a-43cd-8257-2a4fec4e1c2e"
      },
      "execution_count": null,
      "outputs": [
        {
          "output_type": "stream",
          "name": "stdout",
          "text": [
            "[0 1 3 4 5]\n",
            "[1 4 1 1 9]\n"
          ]
        }
      ]
    },
    {
      "cell_type": "code",
      "source": [
        "nb_classes = len(np.unique(y_train_eeg))\n",
        "print(nb_classes)\n",
        "nb_classes = 6\n",
        "y_train_eeg = to_categorical(y_train_eeg, nb_classes)\n",
        "y_valid_eeg = to_categorical(y_valid_eeg, nb_classes)\n",
        "y_test_eeg  = to_categorical(y_test_eeg, nb_classes)"
      ],
      "metadata": {
        "id": "uT9uTNbL32C2",
        "colab": {
          "base_uri": "https://localhost:8080/"
        },
        "outputId": "0dfd4c3d-8e37-4a09-d851-e57e4c128deb"
      },
      "execution_count": null,
      "outputs": [
        {
          "output_type": "stream",
          "name": "stdout",
          "text": [
            "5\n"
          ]
        }
      ]
    },
    {
      "cell_type": "markdown",
      "source": [
        "# **Training the Model - EEG**"
      ],
      "metadata": {
        "id": "cdKMFfOSs0Hj"
      }
    },
    {
      "cell_type": "code",
      "source": [
        "x_train_eeg.shape"
      ],
      "metadata": {
        "colab": {
          "base_uri": "https://localhost:8080/"
        },
        "id": "K3IttsBMs4Z_",
        "outputId": "d793eabc-67b1-4d0a-8383-cf77048080c6"
      },
      "execution_count": null,
      "outputs": [
        {
          "output_type": "execute_result",
          "data": {
            "text/plain": [
              "(16, 10000, 20)"
            ]
          },
          "metadata": {},
          "execution_count": 32
        }
      ]
    },
    {
      "cell_type": "code",
      "source": [
        "y_train_eeg.shape"
      ],
      "metadata": {
        "colab": {
          "base_uri": "https://localhost:8080/"
        },
        "id": "3pIpNYLmz_Of",
        "outputId": "e138d9bb-5dab-4939-8dd9-74ba65f7dd98"
      },
      "execution_count": null,
      "outputs": [
        {
          "output_type": "execute_result",
          "data": {
            "text/plain": [
              "(16, 6)"
            ]
          },
          "metadata": {},
          "execution_count": 33
        }
      ]
    },
    {
      "cell_type": "code",
      "source": [
        "# Early Stopping Method\n",
        "es = EarlyStopping(patience = 5, monitor = 'val_accuracy', restore_best_weights=True)\n",
        "rate = 0.1"
      ],
      "metadata": {
        "id": "fpmUzskQtD4c"
      },
      "execution_count": null,
      "outputs": []
    },
    {
      "cell_type": "code",
      "source": [
        "nb_filter       = 3   # number of filter/kernels in the convolutional layers\n",
        "filter_length   = 5  # length of the filter/kernel in the convolutional layers\n",
        "window_size     = x_train_eeg.shape[1] # the window size defined by the dataset\n",
        "nb_features     = x_train_eeg.shape[2] # the number of features of the input data (number of dimensions)\n",
        "nb_outputs      = y_train_eeg.shape[1] # the number of outputs (defined by the target data)"
      ],
      "metadata": {
        "id": "c7XXTgbptItD"
      },
      "execution_count": null,
      "outputs": []
    },
    {
      "cell_type": "code",
      "source": [
        "model = Sequential()\n",
        "\n",
        "# First convolutional block\n",
        "model.add(Conv1D(filters=nb_filter*3, kernel_size=filter_length, activation='relu', kernel_initializer='he_normal', input_shape=(window_size, nb_features)))\n",
        "model.add(BatchNormalization())\n",
        "model.add(MaxPooling1D(pool_size=2, strides=2, padding=\"valid\"))\n",
        "model.add(Dropout(rate))\n",
        "\n",
        "# Second convolutional block\n",
        "model.add(Conv1D(filters=nb_filter*3, kernel_size=filter_length, activation='relu', kernel_initializer='he_normal'))\n",
        "model.add(BatchNormalization())\n",
        "model.add(MaxPooling1D(pool_size=2, strides=2))\n",
        "model.add(Dropout(rate))\n",
        "\n",
        "# Third convolutional block (additional layer)\n",
        "model.add(Conv1D(filters=nb_filter*3, kernel_size=filter_length, activation='relu', kernel_initializer='he_normal'))\n",
        "model.add(BatchNormalization())\n",
        "model.add(MaxPooling1D(pool_size=2, strides=2))\n",
        "model.add(Dropout(rate))\n",
        "\n",
        "# Flatten and fully connected layers\n",
        "model.add(Flatten())\n",
        "model.add(Dense(128, activation='relu', kernel_initializer='he_normal', kernel_regularizer=tf.keras.regularizers.l2(0.01)))\n",
        "model.add(Dropout(rate))\n",
        "model.add(Dense(nb_outputs, activation='softmax', kernel_initializer='he_normal', kernel_regularizer=tf.keras.regularizers.l2(0.01)))"
      ],
      "metadata": {
        "id": "-XOkoKZltMoQ"
      },
      "execution_count": null,
      "outputs": []
    },
    {
      "cell_type": "code",
      "source": [
        "model.compile(loss='categorical_crossentropy', optimizer='adam', metrics=['accuracy'])"
      ],
      "metadata": {
        "id": "pDeRbfa6tOuw"
      },
      "execution_count": null,
      "outputs": []
    },
    {
      "cell_type": "code",
      "source": [
        "network_history = model.fit(x_train_eeg, y_train_eeg,\n",
        "                            validation_data=(x_valid_eeg,y_valid_eeg),\n",
        "                            batch_size=16,\n",
        "                            epochs=100,\n",
        "                            verbose=1,\n",
        "                            callbacks=[es])"
      ],
      "metadata": {
        "id": "0DSODqYctQii",
        "colab": {
          "base_uri": "https://localhost:8080/"
        },
        "outputId": "e8b39d39-21ab-4e36-ccb4-2d8878dfe12d"
      },
      "execution_count": null,
      "outputs": [
        {
          "output_type": "stream",
          "name": "stdout",
          "text": [
            "Epoch 1/100\n",
            "1/1 [==============================] - 9s 9s/step - loss: 5.1843 - accuracy: 0.1250 - val_loss: 10.0386 - val_accuracy: 0.4000\n",
            "Epoch 2/100\n",
            "1/1 [==============================] - 0s 71ms/step - loss: 5.3939 - accuracy: 0.6250 - val_loss: 13.3327 - val_accuracy: 0.4000\n",
            "Epoch 3/100\n",
            "1/1 [==============================] - 0s 67ms/step - loss: 3.0644 - accuracy: 0.8125 - val_loss: 15.9357 - val_accuracy: 0.4000\n",
            "Epoch 4/100\n",
            "1/1 [==============================] - 0s 90ms/step - loss: 3.4228 - accuracy: 0.8125 - val_loss: 18.0793 - val_accuracy: 0.4000\n",
            "Epoch 5/100\n",
            "1/1 [==============================] - 0s 81ms/step - loss: 2.7952 - accuracy: 0.9375 - val_loss: 19.6532 - val_accuracy: 0.4000\n",
            "Epoch 6/100\n",
            "1/1 [==============================] - 0s 101ms/step - loss: 2.8126 - accuracy: 0.9375 - val_loss: 20.6347 - val_accuracy: 0.4000\n"
          ]
        }
      ]
    },
    {
      "cell_type": "markdown",
      "source": [
        "# **Evaluation - EEG**"
      ],
      "metadata": {
        "id": "YBRW4-r7V6yO"
      }
    },
    {
      "cell_type": "code",
      "source": [
        "x_test_eeg.shape"
      ],
      "metadata": {
        "colab": {
          "base_uri": "https://localhost:8080/"
        },
        "id": "FHcodLbTm08d",
        "outputId": "d7b612fc-bb48-4642-b322-853c22c01ea5"
      },
      "execution_count": null,
      "outputs": [
        {
          "output_type": "execute_result",
          "data": {
            "text/plain": [
              "(6, 10000, 20)"
            ]
          },
          "metadata": {},
          "execution_count": 39
        }
      ]
    },
    {
      "cell_type": "code",
      "source": [
        "y_test_eeg.shape"
      ],
      "metadata": {
        "colab": {
          "base_uri": "https://localhost:8080/"
        },
        "id": "wqr_-vJBm5Pw",
        "outputId": "0d48f5de-3e4d-44e8-9942-a2488c132321"
      },
      "execution_count": null,
      "outputs": [
        {
          "output_type": "execute_result",
          "data": {
            "text/plain": [
              "(6, 6)"
            ]
          },
          "metadata": {},
          "execution_count": 40
        }
      ]
    },
    {
      "cell_type": "code",
      "source": [
        "eval = model.evaluate(x_test_eeg,y_test_eeg)\n",
        "print(\"Test loss:\",eval[0])\n",
        "print(\"Test accuracy:\",eval[1])"
      ],
      "metadata": {
        "colab": {
          "base_uri": "https://localhost:8080/"
        },
        "id": "WcTr-m1AmWFG",
        "outputId": "1e010de0-6608-4702-8cae-12c7a2ce76e5"
      },
      "execution_count": null,
      "outputs": [
        {
          "output_type": "stream",
          "name": "stdout",
          "text": [
            "1/1 [==============================] - 0s 157ms/step - loss: 11.8549 - accuracy: 0.6667\n",
            "Test loss: 11.854876518249512\n",
            "Test accuracy: 0.6666666865348816\n"
          ]
        }
      ]
    },
    {
      "cell_type": "code",
      "source": [
        "preds = model.predict(x_test_eeg)"
      ],
      "metadata": {
        "colab": {
          "base_uri": "https://localhost:8080/"
        },
        "id": "PML8HfCssG4-",
        "outputId": "bd9f3299-89d9-4f34-d4ec-77345e9e985a"
      },
      "execution_count": null,
      "outputs": [
        {
          "output_type": "stream",
          "name": "stdout",
          "text": [
            "1/1 [==============================] - 0s 167ms/step\n"
          ]
        }
      ]
    },
    {
      "cell_type": "code",
      "source": [
        "print(classification_report(np.argmax(y_test_eeg,1),np.argmax(preds,1)))"
      ],
      "metadata": {
        "colab": {
          "base_uri": "https://localhost:8080/"
        },
        "id": "u6SBv1Y7sIZ-",
        "outputId": "4801bd4f-240a-4a72-e474-b10479987cf5"
      },
      "execution_count": null,
      "outputs": [
        {
          "output_type": "stream",
          "name": "stdout",
          "text": [
            "              precision    recall  f1-score   support\n",
            "\n",
            "           1       0.00      0.00      0.00         1\n",
            "           2       0.00      0.00      0.00         1\n",
            "           5       0.67      1.00      0.80         4\n",
            "\n",
            "    accuracy                           0.67         6\n",
            "   macro avg       0.22      0.33      0.27         6\n",
            "weighted avg       0.44      0.67      0.53         6\n",
            "\n"
          ]
        },
        {
          "output_type": "stream",
          "name": "stderr",
          "text": [
            "/usr/local/lib/python3.10/dist-packages/sklearn/metrics/_classification.py:1344: UndefinedMetricWarning: Precision and F-score are ill-defined and being set to 0.0 in labels with no predicted samples. Use `zero_division` parameter to control this behavior.\n",
            "  _warn_prf(average, modifier, msg_start, len(result))\n",
            "/usr/local/lib/python3.10/dist-packages/sklearn/metrics/_classification.py:1344: UndefinedMetricWarning: Precision and F-score are ill-defined and being set to 0.0 in labels with no predicted samples. Use `zero_division` parameter to control this behavior.\n",
            "  _warn_prf(average, modifier, msg_start, len(result))\n",
            "/usr/local/lib/python3.10/dist-packages/sklearn/metrics/_classification.py:1344: UndefinedMetricWarning: Precision and F-score are ill-defined and being set to 0.0 in labels with no predicted samples. Use `zero_division` parameter to control this behavior.\n",
            "  _warn_prf(average, modifier, msg_start, len(result))\n"
          ]
        }
      ]
    },
    {
      "cell_type": "code",
      "source": [
        "balanced_accuracy_score(np.argmax(y_test_eeg,1),np.argmax(preds,1))"
      ],
      "metadata": {
        "colab": {
          "base_uri": "https://localhost:8080/"
        },
        "id": "sRDVTj4hsJnG",
        "outputId": "d22f39b7-49a1-4f4c-d24f-dfdab7f02681"
      },
      "execution_count": null,
      "outputs": [
        {
          "output_type": "execute_result",
          "data": {
            "text/plain": [
              "0.3333333333333333"
            ]
          },
          "metadata": {},
          "execution_count": 44
        }
      ]
    },
    {
      "cell_type": "code",
      "source": [
        "conf=confusion_matrix(np.argmax(y_test_eeg,1),np.argmax(preds,1))\n",
        "sns.heatmap(conf, annot=True, fmt='d', vmax=100)"
      ],
      "metadata": {
        "colab": {
          "base_uri": "https://localhost:8080/",
          "height": 452
        },
        "id": "NCNOso92r7aZ",
        "outputId": "9db1ec98-a941-4729-8ecc-e17bec1c2272"
      },
      "execution_count": null,
      "outputs": [
        {
          "output_type": "execute_result",
          "data": {
            "text/plain": [
              "<Axes: >"
            ]
          },
          "metadata": {},
          "execution_count": 45
        },
        {
          "output_type": "display_data",
          "data": {
            "text/plain": [
              "<Figure size 640x480 with 2 Axes>"
            ],
            "image/png": "[encoded data removed]"
          },
          "metadata": {}
        }
      ]
    },
    {
      "cell_type": "markdown",
      "source": [
        "# **Splitting Train-Test Dataset - Spectrogram**"
      ],
      "metadata": {
        "id": "O7RpLL0-s4Dm"
      }
    },
    {
      "cell_type": "code",
      "source": [
        "for L in x_spectrogram:\n",
        "  L.fillna(0,inplace=True)"
      ],
      "metadata": {
        "id": "qUHgRgPEs7wW"
      },
      "execution_count": null,
      "outputs": []
    },
    {
      "cell_type": "code",
      "source": [
        "train_ratio  = 0.8\n",
        "train_length = len(x_spectrogram) # length of the training data\n",
        "print(train_length)\n",
        "train_split  = int(train_length*train_ratio) # where to split the training and validation data\n",
        "print(train_split)\n",
        "temp_x_train_spectrogram, temp_y_train_spectrogram = x_spectrogram[:train_split], y_spectrogram[:train_split]\n",
        "print(len(temp_x_train_spectrogram), len(temp_y_train_spectrogram))\n",
        "x_test_spectrogram, y_test_spectrogram = x_spectrogram[train_split:], y_spectrogram[train_split:]\n",
        "print(len(x_test_spectrogram), len(y_test_spectrogram))"
      ],
      "metadata": {
        "colab": {
          "base_uri": "https://localhost:8080/"
        },
        "id": "xmGmaevstEk7",
        "outputId": "80785ad6-c2b4-4831-890b-40d82a65e190"
      },
      "execution_count": null,
      "outputs": [
        {
          "output_type": "stream",
          "name": "stdout",
          "text": [
            "1899\n",
            "1519\n",
            "1519 1519\n",
            "380 380\n"
          ]
        }
      ]
    },
    {
      "cell_type": "code",
      "source": [
        "train_ratio  = 0.8\n",
        "train_length = len(temp_x_train_spectrogram) # length of the training data\n",
        "print(train_length)\n",
        "train_split  = int(train_length*train_ratio) # where to split the training and validation data\n",
        "print(train_split)\n",
        "x_train_spectrogram, y_train_spectrogram = temp_x_train_spectrogram[:train_split], temp_y_train_spectrogram[:train_split]\n",
        "print(len(x_train_spectrogram), len(y_train_spectrogram))\n",
        "x_valid_spectrogram, y_valid_spectrogram = temp_x_train_spectrogram[train_split:], temp_y_train_spectrogram[train_split:]\n",
        "print(len(x_valid_spectrogram), len(y_valid_spectrogram))"
      ],
      "metadata": {
        "colab": {
          "base_uri": "https://localhost:8080/"
        },
        "id": "na0DEDaatWJi",
        "outputId": "d71207ea-fc73-41aa-a1b2-95297d27f13f"
      },
      "execution_count": null,
      "outputs": [
        {
          "output_type": "stream",
          "name": "stdout",
          "text": [
            "1519\n",
            "1215\n",
            "1215 1215\n",
            "304 304\n"
          ]
        }
      ]
    },
    {
      "cell_type": "code",
      "source": [
        "x_train_spectrogram = np.array(x_train_spectrogram)\n",
        "x_test_spectrogram = np.array(x_test_spectrogram)\n",
        "x_valid_spectrogram = np.array(x_valid_spectrogram)\n",
        "\n",
        "y_train_spectrogram = np.array(y_train_spectrogram)\n",
        "y_test_spectrogram = np.array(y_test_spectrogram)\n",
        "y_valid_spectrogram = np.array(y_valid_spectrogram)"
      ],
      "metadata": {
        "id": "FFKhNoRDtsvW"
      },
      "execution_count": null,
      "outputs": []
    },
    {
      "cell_type": "code",
      "source": [
        "y_train_spectrogram"
      ],
      "metadata": {
        "colab": {
          "base_uri": "https://localhost:8080/"
        },
        "id": "swUtBW4-vYLI",
        "outputId": "85d69a86-3c38-40df-c856-592a96e4107b"
      },
      "execution_count": null,
      "outputs": [
        {
          "output_type": "execute_result",
          "data": {
            "text/plain": [
              "array([5, 1, 5, ..., 0, 5, 5])"
            ]
          },
          "metadata": {},
          "execution_count": 50
        }
      ]
    },
    {
      "cell_type": "code",
      "source": [
        "thing = y_train_spectrogram.tolist()\n",
        "values, counts = np.unique(thing, return_counts=True)\n",
        "print(values)\n",
        "print(counts)"
      ],
      "metadata": {
        "colab": {
          "base_uri": "https://localhost:8080/"
        },
        "id": "z1ppYJ6Oz0ef",
        "outputId": "3e0d6357-ae6a-4ca2-cb3e-82c740817e85"
      },
      "execution_count": null,
      "outputs": [
        {
          "output_type": "stream",
          "name": "stdout",
          "text": [
            "[0 1 2 3 4 5]\n",
            "[ 81 171 124  35 103 701]\n"
          ]
        }
      ]
    },
    {
      "cell_type": "code",
      "source": [
        "# nb_classes = len(np.unique(y_train_spectrogram))\n",
        "nb_classes = 6\n",
        "print(nb_classes)\n",
        "y_train_spectrogram = to_categorical(y_train_spectrogram, nb_classes)\n",
        "y_valid_spectrogram = to_categorical(y_valid_spectrogram, nb_classes)\n",
        "y_test_spectrogram  = to_categorical(y_test_spectrogram, nb_classes)"
      ],
      "metadata": {
        "colab": {
          "base_uri": "https://localhost:8080/"
        },
        "id": "-04vGREPt_RX",
        "outputId": "db176b1c-8172-4d77-e179-e0c6aa94659f"
      },
      "execution_count": null,
      "outputs": [
        {
          "output_type": "stream",
          "name": "stdout",
          "text": [
            "6\n"
          ]
        }
      ]
    },
    {
      "cell_type": "markdown",
      "source": [
        "# **Training the Model - Spectrogram**"
      ],
      "metadata": {
        "id": "JFT1t_9xxGfr"
      }
    },
    {
      "cell_type": "code",
      "source": [
        "x_train_spectrogram.shape"
      ],
      "metadata": {
        "colab": {
          "base_uri": "https://localhost:8080/"
        },
        "id": "PD_z3t9Qsq51",
        "outputId": "822d5f18-f921-45dc-b51a-ee7714da0ebb"
      },
      "execution_count": null,
      "outputs": [
        {
          "output_type": "execute_result",
          "data": {
            "text/plain": [
              "(1215, 10000, 20)"
            ]
          },
          "metadata": {},
          "execution_count": 53
        }
      ]
    },
    {
      "cell_type": "code",
      "source": [
        "y_train_spectrogram.shape"
      ],
      "metadata": {
        "colab": {
          "base_uri": "https://localhost:8080/"
        },
        "id": "XFc-ZbrVsv1H",
        "outputId": "ed73d045-9169-4a11-fa7e-3a3664a6554d"
      },
      "execution_count": null,
      "outputs": [
        {
          "output_type": "execute_result",
          "data": {
            "text/plain": [
              "(1215, 6)"
            ]
          },
          "metadata": {},
          "execution_count": 54
        }
      ]
    },
    {
      "cell_type": "code",
      "source": [
        "# Early Stopping Method\n",
        "es = EarlyStopping(patience = 5, monitor = 'val_accuracy', restore_best_weights=True)\n",
        "rate = 0.1"
      ],
      "metadata": {
        "id": "FAgQMThGsxgW"
      },
      "execution_count": null,
      "outputs": []
    },
    {
      "cell_type": "code",
      "source": [
        "nb_filter       = 3   # number of filter/kernels in the convolutional layers\n",
        "filter_length   = 5  # length of the filter/kernel in the convolutional layers\n",
        "window_size     = x_train_spectrogram.shape[1] # the window size defined by the dataset\n",
        "nb_features     = x_train_spectrogram.shape[2] # the number of features of the input data (number of dimensions)\n",
        "nb_outputs      = y_train_spectrogram.shape[1] # the number of outputs (defined by the target data)"
      ],
      "metadata": {
        "id": "Dws-Rx12uG_K"
      },
      "execution_count": null,
      "outputs": []
    },
    {
      "cell_type": "code",
      "source": [
        "model = Sequential()\n",
        "\n",
        "# First convolutional block\n",
        "model.add(Conv1D(filters=nb_filter*3, kernel_size=filter_length, activation='relu', kernel_initializer='he_normal', input_shape=(window_size, nb_features)))\n",
        "model.add(BatchNormalization())\n",
        "model.add(MaxPooling1D(pool_size=2, strides=2, padding=\"valid\"))\n",
        "model.add(Dropout(rate))\n",
        "\n",
        "# Second convolutional block\n",
        "model.add(Conv1D(filters=nb_filter*3, kernel_size=filter_length, activation='relu', kernel_initializer='he_normal'))\n",
        "model.add(BatchNormalization())\n",
        "model.add(MaxPooling1D(pool_size=2, strides=2))\n",
        "model.add(Dropout(rate))\n",
        "\n",
        "# Third convolutional block (additional layer)\n",
        "model.add(Conv1D(filters=nb_filter*3, kernel_size=filter_length, activation='relu', kernel_initializer='he_normal'))\n",
        "model.add(BatchNormalization())\n",
        "model.add(MaxPooling1D(pool_size=2, strides=2))\n",
        "model.add(Dropout(rate))\n",
        "\n",
        "# Flatten and fully connected layers\n",
        "model.add(Flatten())\n",
        "model.add(Dense(128, activation='relu', kernel_initializer='he_normal', kernel_regularizer=tf.keras.regularizers.l2(0.01)))\n",
        "model.add(Dropout(rate))\n",
        "model.add(Dense(nb_outputs, activation='softmax', kernel_initializer='he_normal', kernel_regularizer=tf.keras.regularizers.l2(0.01)))"
      ],
      "metadata": {
        "id": "JjM3Hb0fuJR5"
      },
      "execution_count": null,
      "outputs": []
    },
    {
      "cell_type": "code",
      "source": [
        "model.compile(loss='categorical_crossentropy', optimizer='adam', metrics=['accuracy'])"
      ],
      "metadata": {
        "id": "0qDH9lRIuNuX"
      },
      "execution_count": null,
      "outputs": []
    },
    {
      "cell_type": "code",
      "source": [
        "network_history = model.fit(x_train_spectrogram, y_train_spectrogram,\n",
        "                            validation_data=(x_valid_spectrogram, y_valid_spectrogram),\n",
        "                            batch_size=32,\n",
        "                            epochs=100,\n",
        "                            verbose=1,\n",
        "                            callbacks=[es])"
      ],
      "metadata": {
        "colab": {
          "base_uri": "https://localhost:8080/"
        },
        "id": "XPWrIvNOuPS7",
        "outputId": "c56e3df9-7cea-4741-e37f-452b278162a2"
      },
      "execution_count": null,
      "outputs": [
        {
          "output_type": "stream",
          "name": "stdout",
          "text": [
            "Epoch 1/100\n",
            "38/38 [==============================] - 6s 61ms/step - loss: 6.0390 - accuracy: 0.4519 - val_loss: 8.6232 - val_accuracy: 0.4539\n",
            "Epoch 2/100\n",
            "38/38 [==============================] - 1s 33ms/step - loss: 4.8184 - accuracy: 0.5391 - val_loss: 5.4650 - val_accuracy: 0.4770\n",
            "Epoch 3/100\n",
            "38/38 [==============================] - 1s 30ms/step - loss: 3.8288 - accuracy: 0.5621 - val_loss: 3.8088 - val_accuracy: 0.5526\n",
            "Epoch 4/100\n",
            "38/38 [==============================] - 1s 29ms/step - loss: 3.4115 - accuracy: 0.5671 - val_loss: 3.4501 - val_accuracy: 0.5197\n",
            "Epoch 5/100\n",
            "38/38 [==============================] - 1s 34ms/step - loss: 3.0298 - accuracy: 0.5918 - val_loss: 3.6778 - val_accuracy: 0.2007\n",
            "Epoch 6/100\n",
            "38/38 [==============================] - 1s 31ms/step - loss: 2.7688 - accuracy: 0.5770 - val_loss: 3.0710 - val_accuracy: 0.3125\n",
            "Epoch 7/100\n",
            "38/38 [==============================] - 1s 30ms/step - loss: 2.5220 - accuracy: 0.5835 - val_loss: 3.3317 - val_accuracy: 0.2862\n",
            "Epoch 8/100\n",
            "38/38 [==============================] - 1s 37ms/step - loss: 2.3653 - accuracy: 0.5984 - val_loss: 3.6352 - val_accuracy: 0.1974\n"
          ]
        }
      ]
    },
    {
      "cell_type": "markdown",
      "source": [
        "# **Evaluation - Spectrogram**"
      ],
      "metadata": {
        "id": "OMQK8kgZV3Yv"
      }
    },
    {
      "cell_type": "code",
      "source": [
        "x_test_spectrogram.shape"
      ],
      "metadata": {
        "colab": {
          "base_uri": "https://localhost:8080/"
        },
        "id": "l0H-DZTMuU_7",
        "outputId": "eb50fbbe-1c53-4159-b97e-6997f7bf287b"
      },
      "execution_count": null,
      "outputs": [
        {
          "output_type": "execute_result",
          "data": {
            "text/plain": [
              "(380, 10000, 20)"
            ]
          },
          "metadata": {},
          "execution_count": 60
        }
      ]
    },
    {
      "cell_type": "code",
      "source": [
        "y_test_spectrogram.shape"
      ],
      "metadata": {
        "colab": {
          "base_uri": "https://localhost:8080/"
        },
        "id": "MxIv_YcDud2v",
        "outputId": "249e2819-3d70-43a0-cf40-ac1642b9437e"
      },
      "execution_count": null,
      "outputs": [
        {
          "output_type": "execute_result",
          "data": {
            "text/plain": [
              "(380, 6)"
            ]
          },
          "metadata": {},
          "execution_count": 61
        }
      ]
    },
    {
      "cell_type": "code",
      "source": [
        "eval = model.evaluate(x_test_spectrogram,y_test_spectrogram)\n",
        "print(\"Test loss:\",eval[0])\n",
        "print(\"Test accuracy:\",eval[1])"
      ],
      "metadata": {
        "colab": {
          "base_uri": "https://localhost:8080/"
        },
        "id": "h1EUbNo9ugW2",
        "outputId": "857eab04-0c77-4cab-ffe8-9274865213a8"
      },
      "execution_count": null,
      "outputs": [
        {
          "output_type": "stream",
          "name": "stdout",
          "text": [
            "12/12 [==============================] - 0s 37ms/step - loss: 3.9664 - accuracy: 0.5553\n",
            "Test loss: 3.9663946628570557\n",
            "Test accuracy: 0.5552631616592407\n"
          ]
        }
      ]
    },
    {
      "cell_type": "code",
      "source": [
        "preds = model.predict(x_test_spectrogram)"
      ],
      "metadata": {
        "colab": {
          "base_uri": "https://localhost:8080/"
        },
        "id": "mGGTjxoqukyk",
        "outputId": "d7097b7a-8846-4663-85fa-59a0620ce980"
      },
      "execution_count": null,
      "outputs": [
        {
          "output_type": "stream",
          "name": "stdout",
          "text": [
            "12/12 [==============================] - 0s 15ms/step\n"
          ]
        }
      ]
    },
    {
      "cell_type": "code",
      "source": [
        "print(classification_report(np.argmax(y_test_spectrogram,1),np.argmax(preds,1)))"
      ],
      "metadata": {
        "colab": {
          "base_uri": "https://localhost:8080/"
        },
        "id": "c7zaWBeCumMh",
        "outputId": "aee4e265-f3ac-4429-e546-799dfb7cfaac"
      },
      "execution_count": null,
      "outputs": [
        {
          "output_type": "stream",
          "name": "stdout",
          "text": [
            "              precision    recall  f1-score   support\n",
            "\n",
            "           0       0.17      0.07      0.10        27\n",
            "           1       0.29      0.05      0.09        38\n",
            "           2       0.20      0.05      0.08        41\n",
            "           3       0.00      0.00      0.00        15\n",
            "           4       0.00      0.00      0.00        31\n",
            "           5       0.59      0.90      0.71       228\n",
            "\n",
            "    accuracy                           0.56       380\n",
            "   macro avg       0.21      0.18      0.16       380\n",
            "weighted avg       0.42      0.56      0.45       380\n",
            "\n"
          ]
        }
      ]
    },
    {
      "cell_type": "code",
      "source": [
        "balanced_accuracy_score(np.argmax(y_test_spectrogram,1),np.argmax(preds,1))"
      ],
      "metadata": {
        "colab": {
          "base_uri": "https://localhost:8080/"
        },
        "id": "xsMGttssuqMD",
        "outputId": "a2160a71-a632-4b32-a627-f38782ff4869"
      },
      "execution_count": null,
      "outputs": [
        {
          "output_type": "execute_result",
          "data": {
            "text/plain": [
              "0.1791014913073107"
            ]
          },
          "metadata": {},
          "execution_count": 65
        }
      ]
    },
    {
      "cell_type": "code",
      "source": [
        "conf=confusion_matrix(np.argmax(y_test_spectrogram,1),np.argmax(preds,1))\n",
        "sns.heatmap(conf, annot=True, fmt='d', vmax=100)"
      ],
      "metadata": {
        "colab": {
          "base_uri": "https://localhost:8080/",
          "height": 452
        },
        "id": "nlKhmvIYusn2",
        "outputId": "ae3755dd-f55e-49b1-feed-e06d5c030f56"
      },
      "execution_count": null,
      "outputs": [
        {
          "output_type": "execute_result",
          "data": {
            "text/plain": [
              "<Axes: >"
            ]
          },
          "metadata": {},
          "execution_count": 66
        },
        {
          "output_type": "display_data",
          "data": {
            "text/plain": [
              "<Figure size 640x480 with 2 Axes>"
            ],
            "image/png": "[encoded data removed]"
          },
          "metadata": {}
        }
      ]
    }
  ],
  "metadata": {
    "colab": {
      "provenance": [],
      "gpuType": "T4",
      "include_colab_link": true
    },
    "kernelspec": {
      "display_name": "Python 3",
      "name": "python3"
    },
    "language_info": {
      "name": "python"
    },
    "accelerator": "GPU"
  },
  "nbformat": 4,
  "nbformat_minor": 0
}