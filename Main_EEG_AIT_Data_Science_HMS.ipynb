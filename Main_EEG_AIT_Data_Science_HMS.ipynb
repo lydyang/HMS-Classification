{
  "cells": [
    {
      "cell_type": "markdown",
      "metadata": {
        "id": "view-in-github",
        "colab_type": "text"
      },
      "source": [
        "<a href=\"https://colab.research.google.com/github/lydyang/HMS-Classification/blob/main/Main_EEG_AIT_Data_Science_HMS.ipynb\" target=\"_parent\"><img src=\"https://colab.research.google.com/assets/colab-badge.svg\" alt=\"Open In Colab\"/></a>"
      ]
    },
    {
      "cell_type": "markdown",
      "metadata": {
        "id": "fy9UKZlL1p8J"
      },
      "source": [
        "# **HMS - Harmful Brain Activity Classification**\n",
        "Shirui Li, Falak Pabari, Lydia Yang, Echo Zhang\n",
        "\n",
        "Challenge found [here](https://www.kaggle.com/competitions/hms-harmful-brain-activity-classification/overview).\n",
        "\n",
        "The goal of this challenge is to classify patients data into one of six categories of harmful brain activity:\n",
        "*   SZ - seizure (sudden, uncontrolled)\n",
        "*   LPD - lateralized periodic discharges.\n",
        "*   GPD - generalized periodic discharges\n",
        "*   LRDA - lateralized rhythmic delta activity\n",
        "*   GRDA - generalized rhythmic delta activity\n",
        "*   Other\n",
        "\n",
        "The dataset gives both EEG and Spectrogram data and we will use both types of data to develop two models to check which type of data will give us more accuracy."
      ]
    },
    {
      "cell_type": "markdown",
      "source": [
        "NOTE: Due to the Google Colab RAM limits, we are only able to load either eeg or spectrogram and run the models. If you have more storage, you can choose to load more of the data in the code cell below. The outputs of the EEG model are here and the outputs of the Spectrogram model are in another notebook."
      ],
      "metadata": {
        "id": "2N54nr1PgFyt"
      }
    },
    {
      "cell_type": "markdown",
      "source": [
        "# **Data Preparation - EEG & Spectrogram**"
      ],
      "metadata": {
        "id": "NXd4qi6njHhn"
      }
    },
    {
      "cell_type": "code",
      "source": [
        "# Values to load the data\n",
        "eeg_load = 0.3\n",
        "spectrogram_load = 0.005"
      ],
      "metadata": {
        "id": "UyZBCyoxhOkL"
      },
      "execution_count": null,
      "outputs": []
    },
    {
      "cell_type": "code",
      "execution_count": null,
      "metadata": {
        "id": "z2zkphELnuH-"
      },
      "outputs": [],
      "source": [
        "!pip install opendatasets --upgrade --quiet"
      ]
    },
    {
      "cell_type": "code",
      "execution_count": null,
      "metadata": {
        "id": "8SXUf4SU_Nle"
      },
      "outputs": [],
      "source": [
        "import numpy as np\n",
        "import tensorflow as tf\n",
        "import opendatasets as od\n",
        "import random\n",
        "import os\n",
        "import pandas as pd\n",
        "import seaborn as sns\n",
        "import matplotlib.pyplot as plt\n",
        "import configparser\n",
        "import cv2\n",
        "from configparser import ConfigParser\n",
        "from pathlib import Path\n",
        "\n",
        "from sklearn.model_selection import train_test_split\n",
        "from tensorflow.keras.datasets import cifar10\n",
        "from tensorflow.keras.utils import to_categorical\n",
        "from tensorflow.keras.models import Sequential\n",
        "from tensorflow.keras.layers import Dense, Conv2D, MaxPool2D, Flatten, Dropout, BatchNormalization, Activation, Conv1D, MaxPooling1D\n",
        "from tensorflow.keras.initializers import HeNormal\n",
        "from tensorflow.keras.callbacks import EarlyStopping\n",
        "from tensorflow.keras.optimizers import SGD\n",
        "from sklearn.metrics import confusion_matrix, classification_report, balanced_accuracy_score"
      ]
    },
    {
      "cell_type": "markdown",
      "metadata": {
        "id": "4coT8nFi-xLX"
      },
      "source": [
        "Input Kaggle username and API key when prompted:\n",
        "\n",
        "username: \"lydddddd\"\n",
        "password: \"2ee9d5fcab6a9b81550b85c8d408d476\""
      ]
    },
    {
      "cell_type": "code",
      "execution_count": null,
      "metadata": {
        "colab": {
          "base_uri": "https://localhost:8080/"
        },
        "id": "MoLw-zcSpyQo",
        "outputId": "27d50ba7-64a6-428b-d531-4084f45776bc"
      },
      "outputs": [
        {
          "output_type": "stream",
          "name": "stdout",
          "text": [
            "Please provide your Kaggle credentials to download this dataset. Learn more: http://bit.ly/kaggle-creds\n",
            "Your Kaggle username: lydddddd\n",
            "Your Kaggle Key: ··········\n",
            "Downloading hms-harmful-brain-activity-classification.zip to ./hms-harmful-brain-activity-classification\n"
          ]
        },
        {
          "output_type": "stream",
          "name": "stderr",
          "text": [
            "100%|██████████| 18.4G/18.4G [03:04<00:00, 107MB/s] \n"
          ]
        },
        {
          "output_type": "stream",
          "name": "stdout",
          "text": [
            "\n",
            "Extracting archive ./hms-harmful-brain-activity-classification/hms-harmful-brain-activity-classification.zip to ./hms-harmful-brain-activity-classification\n"
          ]
        }
      ],
      "source": [
        "dataset = 'https://www.kaggle.com/competitions/hms-harmful-brain-activity-classification/data'\n",
        "od.download(dataset)"
      ]
    },
    {
      "cell_type": "code",
      "execution_count": null,
      "metadata": {
        "id": "fz-LPfuHsQQO"
      },
      "outputs": [],
      "source": [
        "data_dir = './hms-harmful-brain-activity-classification'"
      ]
    },
    {
      "cell_type": "code",
      "source": [
        "# Source: https://www.geeksforgeeks.org/python-get-unique-values-list/\n",
        "def unique(list1):\n",
        "\n",
        "    # insert the list to the set\n",
        "    list_set = set(list1)\n",
        "    # convert the set to the list\n",
        "    unique_list = (list(list_set))\n",
        "    return unique_list"
      ],
      "metadata": {
        "id": "r4b2kxAWesCL"
      },
      "execution_count": null,
      "outputs": []
    },
    {
      "cell_type": "code",
      "execution_count": null,
      "metadata": {
        "id": "rRhO9b9enPS0"
      },
      "outputs": [],
      "source": [
        "# Retrieve id names in a list for correlation\n",
        "# id list format: eeg_id, spectrogram_id, patient_id, consensus\n",
        "label_mapping = {\n",
        "    'Seizure': 0,\n",
        "    'LPD': 1,\n",
        "    'GPD': 2,\n",
        "    'LRDA': 3,\n",
        "    'GRDA': 4,\n",
        "    'Other': 5\n",
        "}\n",
        "\n",
        "train_csv = pd.read_csv(data_dir + '/train.csv')\n",
        "\n",
        "eegids = train_csv['eeg_id'].tolist()\n",
        "spectids = train_csv['spectrogram_id'].tolist()\n",
        "patientids = train_csv['patient_id'].tolist()\n",
        "consensus = [label_mapping[x] for x in train_csv['expert_consensus'].tolist()]\n",
        "ids = unique(list(zip(eegids, spectids, patientids, consensus)))"
      ]
    },
    {
      "cell_type": "code",
      "source": [
        "# Extract x and y datatet for spectrograms\n",
        "rand_spectrogram = random.sample(ids, int(spectrogram_load*len(ids)))\n",
        "spectrogram_dir = [(data_dir+\"/\"+\"train_eegs/\"+str(x[0])+\".parquet\") for x in rand_spectrogram]\n",
        "x_spectrogram = [pd.read_parquet(file) for file in spectrogram_dir]\n",
        "y_spectrogram = [x[3] for x in rand_spectrogram]\n",
        "x_spectrogram[0]"
      ],
      "metadata": {
        "colab": {
          "base_uri": "https://localhost:8080/",
          "height": 443
        },
        "id": "7IvtpsFahABH",
        "outputId": "c49b85bd-e053-4fcd-fc6e-65fd3a8e44f7"
      },
      "execution_count": null,
      "outputs": [
        {
          "output_type": "execute_result",
          "data": {
            "text/plain": [
              "                Fp1           F3           C3          P3          F7  \\\n",
              "0      34843.738281  1583.869995 -5224.790039  630.039978  554.539978   \n",
              "1      34843.738281  1575.890015 -5207.509766  628.179993  550.289978   \n",
              "2      34843.738281  1564.989990 -5189.970215  625.520020  545.770020   \n",
              "3      34843.738281  1563.930054 -5174.279785  623.130005  544.440002   \n",
              "4      34843.738281  1558.079956 -5160.729980  619.140015  543.109985   \n",
              "...             ...          ...          ...         ...         ...   \n",
              "18395     15.950000   -32.430000   -72.040001  -11.960000  -35.360001   \n",
              "18396     35.090000   -23.930000   -69.650002  -10.370000  -32.700001   \n",
              "18397     18.080000   -30.840000   -72.839996  -13.030000  -36.419998   \n",
              "18398     11.170000   -33.230000   -73.110001  -13.820000  -38.549999   \n",
              "18399     31.370001   -26.320000   -72.040001  -17.010000  -34.560001   \n",
              "\n",
              "                T3           T5           O1           Fz           Cz  \\\n",
              "0     -3043.850098  6059.529785  7211.410156  3394.229980 -2029.150024   \n",
              "1     -3033.750000  6042.250000  7190.140137  3382.530029 -2019.579956   \n",
              "2     -3022.320068  6024.970215  7169.399902  3366.320068 -2010.270020   \n",
              "3     -3014.080078  6006.890137  7147.600098  3358.610107 -2003.359985   \n",
              "4     -3004.239990  5987.479980  7121.020020  3348.770020 -2002.829956   \n",
              "...            ...          ...          ...          ...          ...   \n",
              "18395   -22.600000   -26.580000    31.370001    35.619999    -2.660000   \n",
              "18396   -18.080000   -27.650000    29.510000    49.980000     7.980000   \n",
              "18397   -17.010000   -29.510000    27.910000    38.549999    -2.920000   \n",
              "18398   -21.799999   -30.309999    25.790001    34.029999    -6.380000   \n",
              "18399   -13.820000   -32.430000    21.530001    42.270000    -7.980000   \n",
              "\n",
              "               Pz          Fp2           F4           C4           P4  \\\n",
              "0      904.119995  5453.680176  4379.689941 -1351.260010  1970.400024   \n",
              "1      903.049988  5432.680176  4368.000000 -1344.609985  1968.800049   \n",
              "2      900.659973  5402.370117  4352.839844 -1338.500000  1965.880005   \n",
              "3      896.409973  5394.399902  4339.020020 -1336.640015  1956.310059   \n",
              "4      891.619995  5382.700195  4324.399902 -1336.900024  1948.599976   \n",
              "...           ...          ...          ...          ...          ...   \n",
              "18395   67.260002     8.240000    12.230000    35.360001    32.169998   \n",
              "18396   68.050003    27.910000    23.930000    38.279999    31.629999   \n",
              "18397   64.330002    13.030000    18.610001    33.759998    28.180000   \n",
              "18398   61.939999     6.110000    19.940001    34.029999    26.320000   \n",
              "18399   59.020000    22.059999    22.600000    35.090000    24.459999   \n",
              "\n",
              "                F8           T4           T6           O2        EKG  \n",
              "0      2977.659912 -1713.599976 -5411.680176 -3213.989990  44.930000  \n",
              "1      2968.090088 -1708.550049 -5391.470215 -3201.500000  55.560001  \n",
              "2      2956.919922 -1701.099976 -5371.000000 -3189.000000  52.099998  \n",
              "3      2943.370117 -1700.569946 -5355.319824 -3181.560059  42.000000  \n",
              "4      2931.669922 -1698.979980 -5338.839844 -3173.580078  51.840000  \n",
              "...            ...          ...          ...          ...        ...  \n",
              "18395    45.189999    18.080000    38.009998    61.939999  13.290000  \n",
              "18396    53.970001    17.809999    36.689999    60.610001   7.710000  \n",
              "18397    46.520000    15.680000    35.360001    57.950001  11.970000  \n",
              "18398    48.380001    19.410000    35.360001    56.889999   0.270000  \n",
              "18399    42.000000    18.870001    33.230000    52.369999  -6.910000  \n",
              "\n",
              "[18400 rows x 20 columns]"
            ],
            "text/html": [
              "\n",
              "  <div id=\"df-423cd411-cb13-4749-991f-e958e71f080a\" class=\"colab-df-container\">\n",
              "    <div>\n",
              "<style scoped>\n",
              "    .dataframe tbody tr th:only-of-type {\n",
              "        vertical-align: middle;\n",
              "    }\n",
              "\n",
              "    .dataframe tbody tr th {\n",
              "        vertical-align: top;\n",
              "    }\n",
              "\n",
              "    .dataframe thead th {\n",
              "        text-align: right;\n",
              "    }\n",
              "</style>\n",
              "<table border=\"1\" class=\"dataframe\">\n",
              "  <thead>\n",
              "    <tr style=\"text-align: right;\">\n",
              "      <th></th>\n",
              "      <th>Fp1</th>\n",
              "      <th>F3</th>\n",
              "      <th>C3</th>\n",
              "      <th>P3</th>\n",
              "      <th>F7</th>\n",
              "      <th>T3</th>\n",
              "      <th>T5</th>\n",
              "      <th>O1</th>\n",
              "      <th>Fz</th>\n",
              "      <th>Cz</th>\n",
              "      <th>Pz</th>\n",
              "      <th>Fp2</th>\n",
              "      <th>F4</th>\n",
              "      <th>C4</th>\n",
              "      <th>P4</th>\n",
              "      <th>F8</th>\n",
              "      <th>T4</th>\n",
              "      <th>T6</th>\n",
              "      <th>O2</th>\n",
              "      <th>EKG</th>\n",
              "    </tr>\n",
              "  </thead>\n",
              "  <tbody>\n",
              "    <tr>\n",
              "      <th>0</th>\n",
              "      <td>34843.738281</td>\n",
              "      <td>1583.869995</td>\n",
              "      <td>-5224.790039</td>\n",
              "      <td>630.039978</td>\n",
              "      <td>554.539978</td>\n",
              "      <td>-3043.850098</td>\n",
              "      <td>6059.529785</td>\n",
              "      <td>7211.410156</td>\n",
              "      <td>3394.229980</td>\n",
              "      <td>-2029.150024</td>\n",
              "      <td>904.119995</td>\n",
              "      <td>5453.680176</td>\n",
              "      <td>4379.689941</td>\n",
              "      <td>-1351.260010</td>\n",
              "      <td>1970.400024</td>\n",
              "      <td>2977.659912</td>\n",
              "      <td>-1713.599976</td>\n",
              "      <td>-5411.680176</td>\n",
              "      <td>-3213.989990</td>\n",
              "      <td>44.930000</td>\n",
              "    </tr>\n",
              "    <tr>\n",
              "      <th>1</th>\n",
              "      <td>34843.738281</td>\n",
              "      <td>1575.890015</td>\n",
              "      <td>-5207.509766</td>\n",
              "      <td>628.179993</td>\n",
              "      <td>550.289978</td>\n",
              "      <td>-3033.750000</td>\n",
              "      <td>6042.250000</td>\n",
              "      <td>7190.140137</td>\n",
              "      <td>3382.530029</td>\n",
              "      <td>-2019.579956</td>\n",
              "      <td>903.049988</td>\n",
              "      <td>5432.680176</td>\n",
              "      <td>4368.000000</td>\n",
              "      <td>-1344.609985</td>\n",
              "      <td>1968.800049</td>\n",
              "      <td>2968.090088</td>\n",
              "      <td>-1708.550049</td>\n",
              "      <td>-5391.470215</td>\n",
              "      <td>-3201.500000</td>\n",
              "      <td>55.560001</td>\n",
              "    </tr>\n",
              "    <tr>\n",
              "      <th>2</th>\n",
              "      <td>34843.738281</td>\n",
              "      <td>1564.989990</td>\n",
              "      <td>-5189.970215</td>\n",
              "      <td>625.520020</td>\n",
              "      <td>545.770020</td>\n",
              "      <td>-3022.320068</td>\n",
              "      <td>6024.970215</td>\n",
              "      <td>7169.399902</td>\n",
              "      <td>3366.320068</td>\n",
              "      <td>-2010.270020</td>\n",
              "      <td>900.659973</td>\n",
              "      <td>5402.370117</td>\n",
              "      <td>4352.839844</td>\n",
              "      <td>-1338.500000</td>\n",
              "      <td>1965.880005</td>\n",
              "      <td>2956.919922</td>\n",
              "      <td>-1701.099976</td>\n",
              "      <td>-5371.000000</td>\n",
              "      <td>-3189.000000</td>\n",
              "      <td>52.099998</td>\n",
              "    </tr>\n",
              "    <tr>\n",
              "      <th>3</th>\n",
              "      <td>34843.738281</td>\n",
              "      <td>1563.930054</td>\n",
              "      <td>-5174.279785</td>\n",
              "      <td>623.130005</td>\n",
              "      <td>544.440002</td>\n",
              "      <td>-3014.080078</td>\n",
              "      <td>6006.890137</td>\n",
              "      <td>7147.600098</td>\n",
              "      <td>3358.610107</td>\n",
              "      <td>-2003.359985</td>\n",
              "      <td>896.409973</td>\n",
              "      <td>5394.399902</td>\n",
              "      <td>4339.020020</td>\n",
              "      <td>-1336.640015</td>\n",
              "      <td>1956.310059</td>\n",
              "      <td>2943.370117</td>\n",
              "      <td>-1700.569946</td>\n",
              "      <td>-5355.319824</td>\n",
              "      <td>-3181.560059</td>\n",
              "      <td>42.000000</td>\n",
              "    </tr>\n",
              "    <tr>\n",
              "      <th>4</th>\n",
              "      <td>34843.738281</td>\n",
              "      <td>1558.079956</td>\n",
              "      <td>-5160.729980</td>\n",
              "      <td>619.140015</td>\n",
              "      <td>543.109985</td>\n",
              "      <td>-3004.239990</td>\n",
              "      <td>5987.479980</td>\n",
              "      <td>7121.020020</td>\n",
              "      <td>3348.770020</td>\n",
              "      <td>-2002.829956</td>\n",
              "      <td>891.619995</td>\n",
              "      <td>5382.700195</td>\n",
              "      <td>4324.399902</td>\n",
              "      <td>-1336.900024</td>\n",
              "      <td>1948.599976</td>\n",
              "      <td>2931.669922</td>\n",
              "      <td>-1698.979980</td>\n",
              "      <td>-5338.839844</td>\n",
              "      <td>-3173.580078</td>\n",
              "      <td>51.840000</td>\n",
              "    </tr>\n",
              "    <tr>\n",
              "      <th>...</th>\n",
              "      <td>...</td>\n",
              "      <td>...</td>\n",
              "      <td>...</td>\n",
              "      <td>...</td>\n",
              "      <td>...</td>\n",
              "      <td>...</td>\n",
              "      <td>...</td>\n",
              "      <td>...</td>\n",
              "      <td>...</td>\n",
              "      <td>...</td>\n",
              "      <td>...</td>\n",
              "      <td>...</td>\n",
              "      <td>...</td>\n",
              "      <td>...</td>\n",
              "      <td>...</td>\n",
              "      <td>...</td>\n",
              "      <td>...</td>\n",
              "      <td>...</td>\n",
              "      <td>...</td>\n",
              "      <td>...</td>\n",
              "    </tr>\n",
              "    <tr>\n",
              "      <th>18395</th>\n",
              "      <td>15.950000</td>\n",
              "      <td>-32.430000</td>\n",
              "      <td>-72.040001</td>\n",
              "      <td>-11.960000</td>\n",
              "      <td>-35.360001</td>\n",
              "      <td>-22.600000</td>\n",
              "      <td>-26.580000</td>\n",
              "      <td>31.370001</td>\n",
              "      <td>35.619999</td>\n",
              "      <td>-2.660000</td>\n",
              "      <td>67.260002</td>\n",
              "      <td>8.240000</td>\n",
              "      <td>12.230000</td>\n",
              "      <td>35.360001</td>\n",
              "      <td>32.169998</td>\n",
              "      <td>45.189999</td>\n",
              "      <td>18.080000</td>\n",
              "      <td>38.009998</td>\n",
              "      <td>61.939999</td>\n",
              "      <td>13.290000</td>\n",
              "    </tr>\n",
              "    <tr>\n",
              "      <th>18396</th>\n",
              "      <td>35.090000</td>\n",
              "      <td>-23.930000</td>\n",
              "      <td>-69.650002</td>\n",
              "      <td>-10.370000</td>\n",
              "      <td>-32.700001</td>\n",
              "      <td>-18.080000</td>\n",
              "      <td>-27.650000</td>\n",
              "      <td>29.510000</td>\n",
              "      <td>49.980000</td>\n",
              "      <td>7.980000</td>\n",
              "      <td>68.050003</td>\n",
              "      <td>27.910000</td>\n",
              "      <td>23.930000</td>\n",
              "      <td>38.279999</td>\n",
              "      <td>31.629999</td>\n",
              "      <td>53.970001</td>\n",
              "      <td>17.809999</td>\n",
              "      <td>36.689999</td>\n",
              "      <td>60.610001</td>\n",
              "      <td>7.710000</td>\n",
              "    </tr>\n",
              "    <tr>\n",
              "      <th>18397</th>\n",
              "      <td>18.080000</td>\n",
              "      <td>-30.840000</td>\n",
              "      <td>-72.839996</td>\n",
              "      <td>-13.030000</td>\n",
              "      <td>-36.419998</td>\n",
              "      <td>-17.010000</td>\n",
              "      <td>-29.510000</td>\n",
              "      <td>27.910000</td>\n",
              "      <td>38.549999</td>\n",
              "      <td>-2.920000</td>\n",
              "      <td>64.330002</td>\n",
              "      <td>13.030000</td>\n",
              "      <td>18.610001</td>\n",
              "      <td>33.759998</td>\n",
              "      <td>28.180000</td>\n",
              "      <td>46.520000</td>\n",
              "      <td>15.680000</td>\n",
              "      <td>35.360001</td>\n",
              "      <td>57.950001</td>\n",
              "      <td>11.970000</td>\n",
              "    </tr>\n",
              "    <tr>\n",
              "      <th>18398</th>\n",
              "      <td>11.170000</td>\n",
              "      <td>-33.230000</td>\n",
              "      <td>-73.110001</td>\n",
              "      <td>-13.820000</td>\n",
              "      <td>-38.549999</td>\n",
              "      <td>-21.799999</td>\n",
              "      <td>-30.309999</td>\n",
              "      <td>25.790001</td>\n",
              "      <td>34.029999</td>\n",
              "      <td>-6.380000</td>\n",
              "      <td>61.939999</td>\n",
              "      <td>6.110000</td>\n",
              "      <td>19.940001</td>\n",
              "      <td>34.029999</td>\n",
              "      <td>26.320000</td>\n",
              "      <td>48.380001</td>\n",
              "      <td>19.410000</td>\n",
              "      <td>35.360001</td>\n",
              "      <td>56.889999</td>\n",
              "      <td>0.270000</td>\n",
              "    </tr>\n",
              "    <tr>\n",
              "      <th>18399</th>\n",
              "      <td>31.370001</td>\n",
              "      <td>-26.320000</td>\n",
              "      <td>-72.040001</td>\n",
              "      <td>-17.010000</td>\n",
              "      <td>-34.560001</td>\n",
              "      <td>-13.820000</td>\n",
              "      <td>-32.430000</td>\n",
              "      <td>21.530001</td>\n",
              "      <td>42.270000</td>\n",
              "      <td>-7.980000</td>\n",
              "      <td>59.020000</td>\n",
              "      <td>22.059999</td>\n",
              "      <td>22.600000</td>\n",
              "      <td>35.090000</td>\n",
              "      <td>24.459999</td>\n",
              "      <td>42.000000</td>\n",
              "      <td>18.870001</td>\n",
              "      <td>33.230000</td>\n",
              "      <td>52.369999</td>\n",
              "      <td>-6.910000</td>\n",
              "    </tr>\n",
              "  </tbody>\n",
              "</table>\n",
              "<p>18400 rows × 20 columns</p>\n",
              "</div>\n",
              "    <div class=\"colab-df-buttons\">\n",
              "\n",
              "  <div class=\"colab-df-container\">\n",
              "    <button class=\"colab-df-convert\" onclick=\"convertToInteractive('df-423cd411-cb13-4749-991f-e958e71f080a')\"\n",
              "            title=\"Convert this dataframe to an interactive table.\"\n",
              "            style=\"display:none;\">\n",
              "\n",
              "  <svg xmlns=\"http://www.w3.org/2000/svg\" height=\"24px\" viewBox=\"0 -960 960 960\">\n",
              "    <path d=\"M120-120v-720h720v720H120Zm60-500h600v-160H180v160Zm220 220h160v-160H400v160Zm0 220h160v-160H400v160ZM180-400h160v-160H180v160Zm440 0h160v-160H620v160ZM180-180h160v-160H180v160Zm440 0h160v-160H620v160Z\"/>\n",
              "  </svg>\n",
              "    </button>\n",
              "\n",
              "  <style>\n",
              "    .colab-df-container {\n",
              "      display:flex;\n",
              "      gap: 12px;\n",
              "    }\n",
              "\n",
              "    .colab-df-convert {\n",
              "      background-color: #E8F0FE;\n",
              "      border: none;\n",
              "      border-radius: 50%;\n",
              "      cursor: pointer;\n",
              "      display: none;\n",
              "      fill: #1967D2;\n",
              "      height: 32px;\n",
              "      padding: 0 0 0 0;\n",
              "      width: 32px;\n",
              "    }\n",
              "\n",
              "    .colab-df-convert:hover {\n",
              "      background-color: #E2EBFA;\n",
              "      box-shadow: 0px 1px 2px rgba(60, 64, 67, 0.3), 0px 1px 3px 1px rgba(60, 64, 67, 0.15);\n",
              "      fill: #174EA6;\n",
              "    }\n",
              "\n",
              "    .colab-df-buttons div {\n",
              "      margin-bottom: 4px;\n",
              "    }\n",
              "\n",
              "    [theme=dark] .colab-df-convert {\n",
              "      background-color: #3B4455;\n",
              "      fill: #D2E3FC;\n",
              "    }\n",
              "\n",
              "    [theme=dark] .colab-df-convert:hover {\n",
              "      background-color: #434B5C;\n",
              "      box-shadow: 0px 1px 3px 1px rgba(0, 0, 0, 0.15);\n",
              "      filter: drop-shadow(0px 1px 2px rgba(0, 0, 0, 0.3));\n",
              "      fill: #FFFFFF;\n",
              "    }\n",
              "  </style>\n",
              "\n",
              "    <script>\n",
              "      const buttonEl =\n",
              "        document.querySelector('#df-423cd411-cb13-4749-991f-e958e71f080a button.colab-df-convert');\n",
              "      buttonEl.style.display =\n",
              "        google.colab.kernel.accessAllowed ? 'block' : 'none';\n",
              "\n",
              "      async function convertToInteractive(key) {\n",
              "        const element = document.querySelector('#df-423cd411-cb13-4749-991f-e958e71f080a');\n",
              "        const dataTable =\n",
              "          await google.colab.kernel.invokeFunction('convertToInteractive',\n",
              "                                                    [key], {});\n",
              "        if (!dataTable) return;\n",
              "\n",
              "        const docLinkHtml = 'Like what you see? Visit the ' +\n",
              "          '<a target=\"_blank\" href=https://colab.research.google.com/notebooks/data_table.ipynb>data table notebook</a>'\n",
              "          + ' to learn more about interactive tables.';\n",
              "        element.innerHTML = '';\n",
              "        dataTable['output_type'] = 'display_data';\n",
              "        await google.colab.output.renderOutput(dataTable, element);\n",
              "        const docLink = document.createElement('div');\n",
              "        docLink.innerHTML = docLinkHtml;\n",
              "        element.appendChild(docLink);\n",
              "      }\n",
              "    </script>\n",
              "  </div>\n",
              "\n",
              "\n",
              "<div id=\"df-53ce6b40-845e-442b-b867-6cd8f56b134a\">\n",
              "  <button class=\"colab-df-quickchart\" onclick=\"quickchart('df-53ce6b40-845e-442b-b867-6cd8f56b134a')\"\n",
              "            title=\"Suggest charts\"\n",
              "            style=\"display:none;\">\n",
              "\n",
              "<svg xmlns=\"http://www.w3.org/2000/svg\" height=\"24px\"viewBox=\"0 0 24 24\"\n",
              "     width=\"24px\">\n",
              "    <g>\n",
              "        <path d=\"M19 3H5c-1.1 0-2 .9-2 2v14c0 1.1.9 2 2 2h14c1.1 0 2-.9 2-2V5c0-1.1-.9-2-2-2zM9 17H7v-7h2v7zm4 0h-2V7h2v10zm4 0h-2v-4h2v4z\"/>\n",
              "    </g>\n",
              "</svg>\n",
              "  </button>\n",
              "\n",
              "<style>\n",
              "  .colab-df-quickchart {\n",
              "      --bg-color: #E8F0FE;\n",
              "      --fill-color: #1967D2;\n",
              "      --hover-bg-color: #E2EBFA;\n",
              "      --hover-fill-color: #174EA6;\n",
              "      --disabled-fill-color: #AAA;\n",
              "      --disabled-bg-color: #DDD;\n",
              "  }\n",
              "\n",
              "  [theme=dark] .colab-df-quickchart {\n",
              "      --bg-color: #3B4455;\n",
              "      --fill-color: #D2E3FC;\n",
              "      --hover-bg-color: #434B5C;\n",
              "      --hover-fill-color: #FFFFFF;\n",
              "      --disabled-bg-color: #3B4455;\n",
              "      --disabled-fill-color: #666;\n",
              "  }\n",
              "\n",
              "  .colab-df-quickchart {\n",
              "    background-color: var(--bg-color);\n",
              "    border: none;\n",
              "    border-radius: 50%;\n",
              "    cursor: pointer;\n",
              "    display: none;\n",
              "    fill: var(--fill-color);\n",
              "    height: 32px;\n",
              "    padding: 0;\n",
              "    width: 32px;\n",
              "  }\n",
              "\n",
              "  .colab-df-quickchart:hover {\n",
              "    background-color: var(--hover-bg-color);\n",
              "    box-shadow: 0 1px 2px rgba(60, 64, 67, 0.3), 0 1px 3px 1px rgba(60, 64, 67, 0.15);\n",
              "    fill: var(--button-hover-fill-color);\n",
              "  }\n",
              "\n",
              "  .colab-df-quickchart-complete:disabled,\n",
              "  .colab-df-quickchart-complete:disabled:hover {\n",
              "    background-color: var(--disabled-bg-color);\n",
              "    fill: var(--disabled-fill-color);\n",
              "    box-shadow: none;\n",
              "  }\n",
              "\n",
              "  .colab-df-spinner {\n",
              "    border: 2px solid var(--fill-color);\n",
              "    border-color: transparent;\n",
              "    border-bottom-color: var(--fill-color);\n",
              "    animation:\n",
              "      spin 1s steps(1) infinite;\n",
              "  }\n",
              "\n",
              "  @keyframes spin {\n",
              "    0% {\n",
              "      border-color: transparent;\n",
              "      border-bottom-color: var(--fill-color);\n",
              "      border-left-color: var(--fill-color);\n",
              "    }\n",
              "    20% {\n",
              "      border-color: transparent;\n",
              "      border-left-color: var(--fill-color);\n",
              "      border-top-color: var(--fill-color);\n",
              "    }\n",
              "    30% {\n",
              "      border-color: transparent;\n",
              "      border-left-color: var(--fill-color);\n",
              "      border-top-color: var(--fill-color);\n",
              "      border-right-color: var(--fill-color);\n",
              "    }\n",
              "    40% {\n",
              "      border-color: transparent;\n",
              "      border-right-color: var(--fill-color);\n",
              "      border-top-color: var(--fill-color);\n",
              "    }\n",
              "    60% {\n",
              "      border-color: transparent;\n",
              "      border-right-color: var(--fill-color);\n",
              "    }\n",
              "    80% {\n",
              "      border-color: transparent;\n",
              "      border-right-color: var(--fill-color);\n",
              "      border-bottom-color: var(--fill-color);\n",
              "    }\n",
              "    90% {\n",
              "      border-color: transparent;\n",
              "      border-bottom-color: var(--fill-color);\n",
              "    }\n",
              "  }\n",
              "</style>\n",
              "\n",
              "  <script>\n",
              "    async function quickchart(key) {\n",
              "      const quickchartButtonEl =\n",
              "        document.querySelector('#' + key + ' button');\n",
              "      quickchartButtonEl.disabled = true;  // To prevent multiple clicks.\n",
              "      quickchartButtonEl.classList.add('colab-df-spinner');\n",
              "      try {\n",
              "        const charts = await google.colab.kernel.invokeFunction(\n",
              "            'suggestCharts', [key], {});\n",
              "      } catch (error) {\n",
              "        console.error('Error during call to suggestCharts:', error);\n",
              "      }\n",
              "      quickchartButtonEl.classList.remove('colab-df-spinner');\n",
              "      quickchartButtonEl.classList.add('colab-df-quickchart-complete');\n",
              "    }\n",
              "    (() => {\n",
              "      let quickchartButtonEl =\n",
              "        document.querySelector('#df-53ce6b40-845e-442b-b867-6cd8f56b134a button');\n",
              "      quickchartButtonEl.style.display =\n",
              "        google.colab.kernel.accessAllowed ? 'block' : 'none';\n",
              "    })();\n",
              "  </script>\n",
              "</div>\n",
              "    </div>\n",
              "  </div>\n"
            ],
            "application/vnd.google.colaboratory.intrinsic+json": {
              "type": "dataframe",
              "summary": "{\n  \"name\": \"x_spectrogram[0]\",\n  \"rows\": 18400,\n  \"fields\": [\n    {\n      \"column\": \"Fp1\",\n      \"properties\": {\n        \"dtype\": \"float32\",\n        \"num_unique_values\": 2313,\n        \"samples\": [\n          166.67999267578125,\n          2457.93994140625,\n          56.619998931884766\n        ],\n        \"semantic_type\": \"\",\n        \"description\": \"\"\n      }\n    },\n    {\n      \"column\": \"F3\",\n      \"properties\": {\n        \"dtype\": \"float32\",\n        \"num_unique_values\": 1298,\n        \"samples\": [\n          3.990000009536743,\n          181.8300018310547,\n          -57.41999816894531\n        ],\n        \"semantic_type\": \"\",\n        \"description\": \"\"\n      }\n    },\n    {\n      \"column\": \"C3\",\n      \"properties\": {\n        \"dtype\": \"float32\",\n        \"num_unique_values\": 1632,\n        \"samples\": [\n          -666.719970703125,\n          -9.569999694824219,\n          -997.4299926757812\n        ],\n        \"semantic_type\": \"\",\n        \"description\": \"\"\n      }\n    },\n    {\n      \"column\": \"P3\",\n      \"properties\": {\n        \"dtype\": \"float32\",\n        \"num_unique_values\": 926,\n        \"samples\": [\n          120.41999816894531,\n          11.430000305175781,\n          555.3400268554688\n        ],\n        \"semantic_type\": \"\",\n        \"description\": \"\"\n      }\n    },\n    {\n      \"column\": \"F7\",\n      \"properties\": {\n        \"dtype\": \"float32\",\n        \"num_unique_values\": 858,\n        \"samples\": [\n          -91.44999694824219,\n          -6.650000095367432,\n          299.07000732421875\n        ],\n        \"semantic_type\": \"\",\n        \"description\": \"\"\n      }\n    },\n    {\n      \"column\": \"T3\",\n      \"properties\": {\n        \"dtype\": \"float32\",\n        \"num_unique_values\": 1407,\n        \"samples\": [\n          -1055.9100341796875,\n          -216.9199981689453,\n          -53.70000076293945\n        ],\n        \"semantic_type\": \"\",\n        \"description\": \"\"\n      }\n    },\n    {\n      \"column\": \"T5\",\n      \"properties\": {\n        \"dtype\": \"float32\",\n        \"num_unique_values\": 1694,\n        \"samples\": [\n          -32.70000076293945,\n          -1.8600000143051147,\n          -57.95000076293945\n        ],\n        \"semantic_type\": \"\",\n        \"description\": \"\"\n      }\n    },\n    {\n      \"column\": \"O1\",\n      \"properties\": {\n        \"dtype\": \"float32\",\n        \"num_unique_values\": 1879,\n        \"samples\": [\n          222.50999450683594,\n          -6.909999847412109,\n          94.37000274658203\n        ],\n        \"semantic_type\": \"\",\n        \"description\": \"\"\n      }\n    },\n    {\n      \"column\": \"Fz\",\n      \"properties\": {\n        \"dtype\": \"float32\",\n        \"num_unique_values\": 1609,\n        \"samples\": [\n          3072.030029296875,\n          2411.159912109375,\n          291.3599853515625\n        ],\n        \"semantic_type\": \"\",\n        \"description\": \"\"\n      }\n    },\n    {\n      \"column\": \"Cz\",\n      \"properties\": {\n        \"dtype\": \"float32\",\n        \"num_unique_values\": 1476,\n        \"samples\": [\n          -161.6300048828125,\n          -1099.239990234375,\n          -11.430000305175781\n        ],\n        \"semantic_type\": \"\",\n        \"description\": \"\"\n      }\n    },\n    {\n      \"column\": \"Pz\",\n      \"properties\": {\n        \"dtype\": \"float32\",\n        \"num_unique_values\": 1047,\n        \"samples\": [\n          229.9499969482422,\n          52.900001525878906,\n          -52.099998474121094\n        ],\n        \"semantic_type\": \"\",\n        \"description\": \"\"\n      }\n    },\n    {\n      \"column\": \"Fp2\",\n      \"properties\": {\n        \"dtype\": \"float32\",\n        \"num_unique_values\": 1899,\n        \"samples\": [\n          70.70999908447266,\n          3831.530029296875,\n          921.6599731445312\n        ],\n        \"semantic_type\": \"\",\n        \"description\": \"\"\n      }\n    },\n    {\n      \"column\": \"F4\",\n      \"properties\": {\n        \"dtype\": \"float32\",\n        \"num_unique_values\": 1883,\n        \"samples\": [\n          27.3799991607666,\n          84.01000213623047,\n          433.8500061035156\n        ],\n        \"semantic_type\": \"\",\n        \"description\": \"\"\n      }\n    },\n    {\n      \"column\": \"C4\",\n      \"properties\": {\n        \"dtype\": \"float32\",\n        \"num_unique_values\": 1444,\n        \"samples\": [\n          -391.04998779296875,\n          -504.29998779296875,\n          -40.13999938964844\n        ],\n        \"semantic_type\": \"\",\n        \"description\": \"\"\n      }\n    },\n    {\n      \"column\": \"P4\",\n      \"properties\": {\n        \"dtype\": \"float32\",\n        \"num_unique_values\": 1478,\n        \"samples\": [\n          105.54000091552734,\n          774.1199951171875,\n          506.95001220703125\n        ],\n        \"semantic_type\": \"\",\n        \"description\": \"\"\n      }\n    },\n    {\n      \"column\": \"F8\",\n      \"properties\": {\n        \"dtype\": \"float32\",\n        \"num_unique_values\": 1699,\n        \"samples\": [\n          301.20001220703125,\n          2068.489990234375,\n          1955.780029296875\n        ],\n        \"semantic_type\": \"\",\n        \"description\": \"\"\n      }\n    },\n    {\n      \"column\": \"T4\",\n      \"properties\": {\n        \"dtype\": \"float32\",\n        \"num_unique_values\": 1695,\n        \"samples\": [\n          -100.22000122070312,\n          -23.389999389648438,\n          21.270000457763672\n        ],\n        \"semantic_type\": \"\",\n        \"description\": \"\"\n      }\n    },\n    {\n      \"column\": \"T6\",\n      \"properties\": {\n        \"dtype\": \"float32\",\n        \"num_unique_values\": 1896,\n        \"samples\": [\n          -106.5999984741211,\n          -806.8200073242188,\n          -202.0399932861328\n        ],\n        \"semantic_type\": \"\",\n        \"description\": \"\"\n      }\n    },\n    {\n      \"column\": \"O2\",\n      \"properties\": {\n        \"dtype\": \"float32\",\n        \"num_unique_values\": 1606,\n        \"samples\": [\n          -665.6599731445312,\n          -89.8499984741211,\n          -1906.8599853515625\n        ],\n        \"semantic_type\": \"\",\n        \"description\": \"\"\n      }\n    },\n    {\n      \"column\": \"EKG\",\n      \"properties\": {\n        \"dtype\": \"float32\",\n        \"num_unique_values\": 1332,\n        \"samples\": [\n          122.0199966430664,\n          91.70999908447266,\n          199.11000061035156\n        ],\n        \"semantic_type\": \"\",\n        \"description\": \"\"\n      }\n    }\n  ]\n}"
            }
          },
          "metadata": {},
          "execution_count": 9
        }
      ]
    },
    {
      "cell_type": "code",
      "source": [
        "rand_eeg = random.sample(ids, int(eeg_load*len(ids)))\n",
        "eeg_dir = [(data_dir+\"/\"+\"train_eegs/\"+str(x[0])+\".parquet\") for x in rand_eeg]\n",
        "x_eeg = [pd.read_parquet(file) for file in eeg_dir]\n",
        "y_eeg = [x[3] for x in rand_eeg]\n",
        "x_eeg[0]"
      ],
      "metadata": {
        "colab": {
          "base_uri": "https://localhost:8080/",
          "height": 443
        },
        "id": "vqSZdUzMhvQE",
        "outputId": "79c28118-7a38-4401-b47e-7aa8ed2ddbc5"
      },
      "execution_count": null,
      "outputs": [
        {
          "output_type": "execute_result",
          "data": {
            "text/plain": [
              "             Fp1         F3         C3         P3         F7         T3  \\\n",
              "0      -8.470000 -28.389999  -3.950000   2.180000  -7.250000 -12.790000   \n",
              "1      -7.390000 -33.459999 -16.910000 -13.120000 -14.430000 -27.629999   \n",
              "2     -20.580000 -57.369999 -37.500000 -41.349998 -32.950001 -51.770000   \n",
              "3      -6.330000 -36.950001 -14.490000 -10.880000 -12.610000 -22.719999   \n",
              "4      -0.360000 -30.020000 -11.190000  -3.210000  -7.220000 -15.010000   \n",
              "...          ...        ...        ...        ...        ...        ...   \n",
              "12395  39.720001  12.870000  -2.020000 -26.580000  10.630000 -18.660000   \n",
              "12396  21.670000  -6.420000 -13.450000 -43.009998  -5.160000 -34.110001   \n",
              "12397  32.470001  14.240000  10.690000  -6.890000  13.320000  -0.910000   \n",
              "12398  17.160000  -2.690000  -4.540000 -18.410000  -4.520000 -16.330000   \n",
              "12399 -11.590000 -37.680000 -34.080002 -55.110001 -35.310001 -51.619999   \n",
              "\n",
              "              T5         O1         Fz         Cz         Pz        Fp2  \\\n",
              "0      17.580000   6.880000  -2.100000  31.440001   3.670000 -38.250000   \n",
              "1       3.650000   2.580000  -5.670000  23.400000   3.110000 -33.990002   \n",
              "2     -23.410000 -28.219999 -25.500000  -4.460000 -37.230000 -52.330002   \n",
              "3       4.900000  -5.750000  -6.910000  18.190001 -15.890000 -36.680000   \n",
              "4      12.420000   8.230000  -0.940000  24.830000   2.200000 -24.230000   \n",
              "...          ...        ...        ...        ...        ...        ...   \n",
              "12395 -17.459999 -18.049999  40.770000  33.869999 -14.140000  10.360000   \n",
              "12396 -31.740000 -40.029999  22.139999  12.920000 -47.020000 -10.170000   \n",
              "12397   1.400000  -8.440000  40.889999  39.790001 -13.810000   7.170000   \n",
              "12398  -8.240000  -9.590000  24.670000  29.030001 -10.560000  -0.330000   \n",
              "12399 -42.380001 -42.480000  -6.700000  -3.460000 -49.610001 -30.480000   \n",
              "\n",
              "              F4         C4         P4         F8         T4         T6  \\\n",
              "0     -30.410000   4.350000  26.100000 -19.820000 -33.840000  32.590000   \n",
              "1     -11.540000  -3.030000  29.250000 -26.860001 -44.959999  13.750000   \n",
              "2     -78.220001 -19.920000   0.830000 -45.040001 -66.180000 -16.160000   \n",
              "3     -45.450001  -4.290000   9.420000 -22.270000 -39.200001  19.600000   \n",
              "4      -3.380000  -6.820000  19.430000 -16.790001 -33.950001  23.469999   \n",
              "...          ...        ...        ...        ...        ...        ...   \n",
              "12395   1.450000  -1.870000  -3.480000  -0.340000 -37.180000  -7.230000   \n",
              "12396 -61.529999 -16.650000 -31.549999 -11.520000 -49.650002 -22.840000   \n",
              "12397  -7.250000   1.680000 -12.390000  16.709999 -15.920000  18.709999   \n",
              "12398   3.070000  -7.650000  -5.500000   7.690000 -21.870001   7.950000   \n",
              "12399 -68.629997 -27.700001 -27.440001 -18.170000 -47.360001 -23.600000   \n",
              "\n",
              "              O2        EKG  \n",
              "0      21.480000  39.340000  \n",
              "1       5.520000  91.959999  \n",
              "2     -20.219999  43.869999  \n",
              "3       4.300000  20.350000  \n",
              "4       6.670000  83.519997  \n",
              "...          ...        ...  \n",
              "12395 -29.070000  52.060001  \n",
              "12396 -44.840000 -11.230000  \n",
              "12397 -13.970000 -14.480000  \n",
              "12398 -19.260000  37.419998  \n",
              "12399 -43.099998   3.170000  \n",
              "\n",
              "[12400 rows x 20 columns]"
            ],
            "text/html": [
              "\n",
              "  <div id=\"df-6d9ad6e0-3ed3-466f-ba24-b55c3e5a8669\" class=\"colab-df-container\">\n",
              "    <div>\n",
              "<style scoped>\n",
              "    .dataframe tbody tr th:only-of-type {\n",
              "        vertical-align: middle;\n",
              "    }\n",
              "\n",
              "    .dataframe tbody tr th {\n",
              "        vertical-align: top;\n",
              "    }\n",
              "\n",
              "    .dataframe thead th {\n",
              "        text-align: right;\n",
              "    }\n",
              "</style>\n",
              "<table border=\"1\" class=\"dataframe\">\n",
              "  <thead>\n",
              "    <tr style=\"text-align: right;\">\n",
              "      <th></th>\n",
              "      <th>Fp1</th>\n",
              "      <th>F3</th>\n",
              "      <th>C3</th>\n",
              "      <th>P3</th>\n",
              "      <th>F7</th>\n",
              "      <th>T3</th>\n",
              "      <th>T5</th>\n",
              "      <th>O1</th>\n",
              "      <th>Fz</th>\n",
              "      <th>Cz</th>\n",
              "      <th>Pz</th>\n",
              "      <th>Fp2</th>\n",
              "      <th>F4</th>\n",
              "      <th>C4</th>\n",
              "      <th>P4</th>\n",
              "      <th>F8</th>\n",
              "      <th>T4</th>\n",
              "      <th>T6</th>\n",
              "      <th>O2</th>\n",
              "      <th>EKG</th>\n",
              "    </tr>\n",
              "  </thead>\n",
              "  <tbody>\n",
              "    <tr>\n",
              "      <th>0</th>\n",
              "      <td>-8.470000</td>\n",
              "      <td>-28.389999</td>\n",
              "      <td>-3.950000</td>\n",
              "      <td>2.180000</td>\n",
              "      <td>-7.250000</td>\n",
              "      <td>-12.790000</td>\n",
              "      <td>17.580000</td>\n",
              "      <td>6.880000</td>\n",
              "      <td>-2.100000</td>\n",
              "      <td>31.440001</td>\n",
              "      <td>3.670000</td>\n",
              "      <td>-38.250000</td>\n",
              "      <td>-30.410000</td>\n",
              "      <td>4.350000</td>\n",
              "      <td>26.100000</td>\n",
              "      <td>-19.820000</td>\n",
              "      <td>-33.840000</td>\n",
              "      <td>32.590000</td>\n",
              "      <td>21.480000</td>\n",
              "      <td>39.340000</td>\n",
              "    </tr>\n",
              "    <tr>\n",
              "      <th>1</th>\n",
              "      <td>-7.390000</td>\n",
              "      <td>-33.459999</td>\n",
              "      <td>-16.910000</td>\n",
              "      <td>-13.120000</td>\n",
              "      <td>-14.430000</td>\n",
              "      <td>-27.629999</td>\n",
              "      <td>3.650000</td>\n",
              "      <td>2.580000</td>\n",
              "      <td>-5.670000</td>\n",
              "      <td>23.400000</td>\n",
              "      <td>3.110000</td>\n",
              "      <td>-33.990002</td>\n",
              "      <td>-11.540000</td>\n",
              "      <td>-3.030000</td>\n",
              "      <td>29.250000</td>\n",
              "      <td>-26.860001</td>\n",
              "      <td>-44.959999</td>\n",
              "      <td>13.750000</td>\n",
              "      <td>5.520000</td>\n",
              "      <td>91.959999</td>\n",
              "    </tr>\n",
              "    <tr>\n",
              "      <th>2</th>\n",
              "      <td>-20.580000</td>\n",
              "      <td>-57.369999</td>\n",
              "      <td>-37.500000</td>\n",
              "      <td>-41.349998</td>\n",
              "      <td>-32.950001</td>\n",
              "      <td>-51.770000</td>\n",
              "      <td>-23.410000</td>\n",
              "      <td>-28.219999</td>\n",
              "      <td>-25.500000</td>\n",
              "      <td>-4.460000</td>\n",
              "      <td>-37.230000</td>\n",
              "      <td>-52.330002</td>\n",
              "      <td>-78.220001</td>\n",
              "      <td>-19.920000</td>\n",
              "      <td>0.830000</td>\n",
              "      <td>-45.040001</td>\n",
              "      <td>-66.180000</td>\n",
              "      <td>-16.160000</td>\n",
              "      <td>-20.219999</td>\n",
              "      <td>43.869999</td>\n",
              "    </tr>\n",
              "    <tr>\n",
              "      <th>3</th>\n",
              "      <td>-6.330000</td>\n",
              "      <td>-36.950001</td>\n",
              "      <td>-14.490000</td>\n",
              "      <td>-10.880000</td>\n",
              "      <td>-12.610000</td>\n",
              "      <td>-22.719999</td>\n",
              "      <td>4.900000</td>\n",
              "      <td>-5.750000</td>\n",
              "      <td>-6.910000</td>\n",
              "      <td>18.190001</td>\n",
              "      <td>-15.890000</td>\n",
              "      <td>-36.680000</td>\n",
              "      <td>-45.450001</td>\n",
              "      <td>-4.290000</td>\n",
              "      <td>9.420000</td>\n",
              "      <td>-22.270000</td>\n",
              "      <td>-39.200001</td>\n",
              "      <td>19.600000</td>\n",
              "      <td>4.300000</td>\n",
              "      <td>20.350000</td>\n",
              "    </tr>\n",
              "    <tr>\n",
              "      <th>4</th>\n",
              "      <td>-0.360000</td>\n",
              "      <td>-30.020000</td>\n",
              "      <td>-11.190000</td>\n",
              "      <td>-3.210000</td>\n",
              "      <td>-7.220000</td>\n",
              "      <td>-15.010000</td>\n",
              "      <td>12.420000</td>\n",
              "      <td>8.230000</td>\n",
              "      <td>-0.940000</td>\n",
              "      <td>24.830000</td>\n",
              "      <td>2.200000</td>\n",
              "      <td>-24.230000</td>\n",
              "      <td>-3.380000</td>\n",
              "      <td>-6.820000</td>\n",
              "      <td>19.430000</td>\n",
              "      <td>-16.790001</td>\n",
              "      <td>-33.950001</td>\n",
              "      <td>23.469999</td>\n",
              "      <td>6.670000</td>\n",
              "      <td>83.519997</td>\n",
              "    </tr>\n",
              "    <tr>\n",
              "      <th>...</th>\n",
              "      <td>...</td>\n",
              "      <td>...</td>\n",
              "      <td>...</td>\n",
              "      <td>...</td>\n",
              "      <td>...</td>\n",
              "      <td>...</td>\n",
              "      <td>...</td>\n",
              "      <td>...</td>\n",
              "      <td>...</td>\n",
              "      <td>...</td>\n",
              "      <td>...</td>\n",
              "      <td>...</td>\n",
              "      <td>...</td>\n",
              "      <td>...</td>\n",
              "      <td>...</td>\n",
              "      <td>...</td>\n",
              "      <td>...</td>\n",
              "      <td>...</td>\n",
              "      <td>...</td>\n",
              "      <td>...</td>\n",
              "    </tr>\n",
              "    <tr>\n",
              "      <th>12395</th>\n",
              "      <td>39.720001</td>\n",
              "      <td>12.870000</td>\n",
              "      <td>-2.020000</td>\n",
              "      <td>-26.580000</td>\n",
              "      <td>10.630000</td>\n",
              "      <td>-18.660000</td>\n",
              "      <td>-17.459999</td>\n",
              "      <td>-18.049999</td>\n",
              "      <td>40.770000</td>\n",
              "      <td>33.869999</td>\n",
              "      <td>-14.140000</td>\n",
              "      <td>10.360000</td>\n",
              "      <td>1.450000</td>\n",
              "      <td>-1.870000</td>\n",
              "      <td>-3.480000</td>\n",
              "      <td>-0.340000</td>\n",
              "      <td>-37.180000</td>\n",
              "      <td>-7.230000</td>\n",
              "      <td>-29.070000</td>\n",
              "      <td>52.060001</td>\n",
              "    </tr>\n",
              "    <tr>\n",
              "      <th>12396</th>\n",
              "      <td>21.670000</td>\n",
              "      <td>-6.420000</td>\n",
              "      <td>-13.450000</td>\n",
              "      <td>-43.009998</td>\n",
              "      <td>-5.160000</td>\n",
              "      <td>-34.110001</td>\n",
              "      <td>-31.740000</td>\n",
              "      <td>-40.029999</td>\n",
              "      <td>22.139999</td>\n",
              "      <td>12.920000</td>\n",
              "      <td>-47.020000</td>\n",
              "      <td>-10.170000</td>\n",
              "      <td>-61.529999</td>\n",
              "      <td>-16.650000</td>\n",
              "      <td>-31.549999</td>\n",
              "      <td>-11.520000</td>\n",
              "      <td>-49.650002</td>\n",
              "      <td>-22.840000</td>\n",
              "      <td>-44.840000</td>\n",
              "      <td>-11.230000</td>\n",
              "    </tr>\n",
              "    <tr>\n",
              "      <th>12397</th>\n",
              "      <td>32.470001</td>\n",
              "      <td>14.240000</td>\n",
              "      <td>10.690000</td>\n",
              "      <td>-6.890000</td>\n",
              "      <td>13.320000</td>\n",
              "      <td>-0.910000</td>\n",
              "      <td>1.400000</td>\n",
              "      <td>-8.440000</td>\n",
              "      <td>40.889999</td>\n",
              "      <td>39.790001</td>\n",
              "      <td>-13.810000</td>\n",
              "      <td>7.170000</td>\n",
              "      <td>-7.250000</td>\n",
              "      <td>1.680000</td>\n",
              "      <td>-12.390000</td>\n",
              "      <td>16.709999</td>\n",
              "      <td>-15.920000</td>\n",
              "      <td>18.709999</td>\n",
              "      <td>-13.970000</td>\n",
              "      <td>-14.480000</td>\n",
              "    </tr>\n",
              "    <tr>\n",
              "      <th>12398</th>\n",
              "      <td>17.160000</td>\n",
              "      <td>-2.690000</td>\n",
              "      <td>-4.540000</td>\n",
              "      <td>-18.410000</td>\n",
              "      <td>-4.520000</td>\n",
              "      <td>-16.330000</td>\n",
              "      <td>-8.240000</td>\n",
              "      <td>-9.590000</td>\n",
              "      <td>24.670000</td>\n",
              "      <td>29.030001</td>\n",
              "      <td>-10.560000</td>\n",
              "      <td>-0.330000</td>\n",
              "      <td>3.070000</td>\n",
              "      <td>-7.650000</td>\n",
              "      <td>-5.500000</td>\n",
              "      <td>7.690000</td>\n",
              "      <td>-21.870001</td>\n",
              "      <td>7.950000</td>\n",
              "      <td>-19.260000</td>\n",
              "      <td>37.419998</td>\n",
              "    </tr>\n",
              "    <tr>\n",
              "      <th>12399</th>\n",
              "      <td>-11.590000</td>\n",
              "      <td>-37.680000</td>\n",
              "      <td>-34.080002</td>\n",
              "      <td>-55.110001</td>\n",
              "      <td>-35.310001</td>\n",
              "      <td>-51.619999</td>\n",
              "      <td>-42.380001</td>\n",
              "      <td>-42.480000</td>\n",
              "      <td>-6.700000</td>\n",
              "      <td>-3.460000</td>\n",
              "      <td>-49.610001</td>\n",
              "      <td>-30.480000</td>\n",
              "      <td>-68.629997</td>\n",
              "      <td>-27.700001</td>\n",
              "      <td>-27.440001</td>\n",
              "      <td>-18.170000</td>\n",
              "      <td>-47.360001</td>\n",
              "      <td>-23.600000</td>\n",
              "      <td>-43.099998</td>\n",
              "      <td>3.170000</td>\n",
              "    </tr>\n",
              "  </tbody>\n",
              "</table>\n",
              "<p>12400 rows × 20 columns</p>\n",
              "</div>\n",
              "    <div class=\"colab-df-buttons\">\n",
              "\n",
              "  <div class=\"colab-df-container\">\n",
              "    <button class=\"colab-df-convert\" onclick=\"convertToInteractive('df-6d9ad6e0-3ed3-466f-ba24-b55c3e5a8669')\"\n",
              "            title=\"Convert this dataframe to an interactive table.\"\n",
              "            style=\"display:none;\">\n",
              "\n",
              "  <svg xmlns=\"http://www.w3.org/2000/svg\" height=\"24px\" viewBox=\"0 -960 960 960\">\n",
              "    <path d=\"M120-120v-720h720v720H120Zm60-500h600v-160H180v160Zm220 220h160v-160H400v160Zm0 220h160v-160H400v160ZM180-400h160v-160H180v160Zm440 0h160v-160H620v160ZM180-180h160v-160H180v160Zm440 0h160v-160H620v160Z\"/>\n",
              "  </svg>\n",
              "    </button>\n",
              "\n",
              "  <style>\n",
              "    .colab-df-container {\n",
              "      display:flex;\n",
              "      gap: 12px;\n",
              "    }\n",
              "\n",
              "    .colab-df-convert {\n",
              "      background-color: #E8F0FE;\n",
              "      border: none;\n",
              "      border-radius: 50%;\n",
              "      cursor: pointer;\n",
              "      display: none;\n",
              "      fill: #1967D2;\n",
              "      height: 32px;\n",
              "      padding: 0 0 0 0;\n",
              "      width: 32px;\n",
              "    }\n",
              "\n",
              "    .colab-df-convert:hover {\n",
              "      background-color: #E2EBFA;\n",
              "      box-shadow: 0px 1px 2px rgba(60, 64, 67, 0.3), 0px 1px 3px 1px rgba(60, 64, 67, 0.15);\n",
              "      fill: #174EA6;\n",
              "    }\n",
              "\n",
              "    .colab-df-buttons div {\n",
              "      margin-bottom: 4px;\n",
              "    }\n",
              "\n",
              "    [theme=dark] .colab-df-convert {\n",
              "      background-color: #3B4455;\n",
              "      fill: #D2E3FC;\n",
              "    }\n",
              "\n",
              "    [theme=dark] .colab-df-convert:hover {\n",
              "      background-color: #434B5C;\n",
              "      box-shadow: 0px 1px 3px 1px rgba(0, 0, 0, 0.15);\n",
              "      filter: drop-shadow(0px 1px 2px rgba(0, 0, 0, 0.3));\n",
              "      fill: #FFFFFF;\n",
              "    }\n",
              "  </style>\n",
              "\n",
              "    <script>\n",
              "      const buttonEl =\n",
              "        document.querySelector('#df-6d9ad6e0-3ed3-466f-ba24-b55c3e5a8669 button.colab-df-convert');\n",
              "      buttonEl.style.display =\n",
              "        google.colab.kernel.accessAllowed ? 'block' : 'none';\n",
              "\n",
              "      async function convertToInteractive(key) {\n",
              "        const element = document.querySelector('#df-6d9ad6e0-3ed3-466f-ba24-b55c3e5a8669');\n",
              "        const dataTable =\n",
              "          await google.colab.kernel.invokeFunction('convertToInteractive',\n",
              "                                                    [key], {});\n",
              "        if (!dataTable) return;\n",
              "\n",
              "        const docLinkHtml = 'Like what you see? Visit the ' +\n",
              "          '<a target=\"_blank\" href=https://colab.research.google.com/notebooks/data_table.ipynb>data table notebook</a>'\n",
              "          + ' to learn more about interactive tables.';\n",
              "        element.innerHTML = '';\n",
              "        dataTable['output_type'] = 'display_data';\n",
              "        await google.colab.output.renderOutput(dataTable, element);\n",
              "        const docLink = document.createElement('div');\n",
              "        docLink.innerHTML = docLinkHtml;\n",
              "        element.appendChild(docLink);\n",
              "      }\n",
              "    </script>\n",
              "  </div>\n",
              "\n",
              "\n",
              "<div id=\"df-d6c834ef-c20c-42fb-8bdc-8bc36eed93cd\">\n",
              "  <button class=\"colab-df-quickchart\" onclick=\"quickchart('df-d6c834ef-c20c-42fb-8bdc-8bc36eed93cd')\"\n",
              "            title=\"Suggest charts\"\n",
              "            style=\"display:none;\">\n",
              "\n",
              "<svg xmlns=\"http://www.w3.org/2000/svg\" height=\"24px\"viewBox=\"0 0 24 24\"\n",
              "     width=\"24px\">\n",
              "    <g>\n",
              "        <path d=\"M19 3H5c-1.1 0-2 .9-2 2v14c0 1.1.9 2 2 2h14c1.1 0 2-.9 2-2V5c0-1.1-.9-2-2-2zM9 17H7v-7h2v7zm4 0h-2V7h2v10zm4 0h-2v-4h2v4z\"/>\n",
              "    </g>\n",
              "</svg>\n",
              "  </button>\n",
              "\n",
              "<style>\n",
              "  .colab-df-quickchart {\n",
              "      --bg-color: #E8F0FE;\n",
              "      --fill-color: #1967D2;\n",
              "      --hover-bg-color: #E2EBFA;\n",
              "      --hover-fill-color: #174EA6;\n",
              "      --disabled-fill-color: #AAA;\n",
              "      --disabled-bg-color: #DDD;\n",
              "  }\n",
              "\n",
              "  [theme=dark] .colab-df-quickchart {\n",
              "      --bg-color: #3B4455;\n",
              "      --fill-color: #D2E3FC;\n",
              "      --hover-bg-color: #434B5C;\n",
              "      --hover-fill-color: #FFFFFF;\n",
              "      --disabled-bg-color: #3B4455;\n",
              "      --disabled-fill-color: #666;\n",
              "  }\n",
              "\n",
              "  .colab-df-quickchart {\n",
              "    background-color: var(--bg-color);\n",
              "    border: none;\n",
              "    border-radius: 50%;\n",
              "    cursor: pointer;\n",
              "    display: none;\n",
              "    fill: var(--fill-color);\n",
              "    height: 32px;\n",
              "    padding: 0;\n",
              "    width: 32px;\n",
              "  }\n",
              "\n",
              "  .colab-df-quickchart:hover {\n",
              "    background-color: var(--hover-bg-color);\n",
              "    box-shadow: 0 1px 2px rgba(60, 64, 67, 0.3), 0 1px 3px 1px rgba(60, 64, 67, 0.15);\n",
              "    fill: var(--button-hover-fill-color);\n",
              "  }\n",
              "\n",
              "  .colab-df-quickchart-complete:disabled,\n",
              "  .colab-df-quickchart-complete:disabled:hover {\n",
              "    background-color: var(--disabled-bg-color);\n",
              "    fill: var(--disabled-fill-color);\n",
              "    box-shadow: none;\n",
              "  }\n",
              "\n",
              "  .colab-df-spinner {\n",
              "    border: 2px solid var(--fill-color);\n",
              "    border-color: transparent;\n",
              "    border-bottom-color: var(--fill-color);\n",
              "    animation:\n",
              "      spin 1s steps(1) infinite;\n",
              "  }\n",
              "\n",
              "  @keyframes spin {\n",
              "    0% {\n",
              "      border-color: transparent;\n",
              "      border-bottom-color: var(--fill-color);\n",
              "      border-left-color: var(--fill-color);\n",
              "    }\n",
              "    20% {\n",
              "      border-color: transparent;\n",
              "      border-left-color: var(--fill-color);\n",
              "      border-top-color: var(--fill-color);\n",
              "    }\n",
              "    30% {\n",
              "      border-color: transparent;\n",
              "      border-left-color: var(--fill-color);\n",
              "      border-top-color: var(--fill-color);\n",
              "      border-right-color: var(--fill-color);\n",
              "    }\n",
              "    40% {\n",
              "      border-color: transparent;\n",
              "      border-right-color: var(--fill-color);\n",
              "      border-top-color: var(--fill-color);\n",
              "    }\n",
              "    60% {\n",
              "      border-color: transparent;\n",
              "      border-right-color: var(--fill-color);\n",
              "    }\n",
              "    80% {\n",
              "      border-color: transparent;\n",
              "      border-right-color: var(--fill-color);\n",
              "      border-bottom-color: var(--fill-color);\n",
              "    }\n",
              "    90% {\n",
              "      border-color: transparent;\n",
              "      border-bottom-color: var(--fill-color);\n",
              "    }\n",
              "  }\n",
              "</style>\n",
              "\n",
              "  <script>\n",
              "    async function quickchart(key) {\n",
              "      const quickchartButtonEl =\n",
              "        document.querySelector('#' + key + ' button');\n",
              "      quickchartButtonEl.disabled = true;  // To prevent multiple clicks.\n",
              "      quickchartButtonEl.classList.add('colab-df-spinner');\n",
              "      try {\n",
              "        const charts = await google.colab.kernel.invokeFunction(\n",
              "            'suggestCharts', [key], {});\n",
              "      } catch (error) {\n",
              "        console.error('Error during call to suggestCharts:', error);\n",
              "      }\n",
              "      quickchartButtonEl.classList.remove('colab-df-spinner');\n",
              "      quickchartButtonEl.classList.add('colab-df-quickchart-complete');\n",
              "    }\n",
              "    (() => {\n",
              "      let quickchartButtonEl =\n",
              "        document.querySelector('#df-d6c834ef-c20c-42fb-8bdc-8bc36eed93cd button');\n",
              "      quickchartButtonEl.style.display =\n",
              "        google.colab.kernel.accessAllowed ? 'block' : 'none';\n",
              "    })();\n",
              "  </script>\n",
              "</div>\n",
              "    </div>\n",
              "  </div>\n"
            ],
            "application/vnd.google.colaboratory.intrinsic+json": {
              "type": "dataframe",
              "summary": "{\n  \"name\": \"x_eeg[0]\",\n  \"rows\": 12400,\n  \"fields\": [\n    {\n      \"column\": \"Fp1\",\n      \"properties\": {\n        \"dtype\": \"float32\",\n        \"num_unique_values\": 7079,\n        \"samples\": [\n          9.350000381469727,\n          -1.2000000476837158,\n          -11.029999732971191\n        ],\n        \"semantic_type\": \"\",\n        \"description\": \"\"\n      }\n    },\n    {\n      \"column\": \"F3\",\n      \"properties\": {\n        \"dtype\": \"float32\",\n        \"num_unique_values\": 7346,\n        \"samples\": [\n          -13.449999809265137,\n          -32.15999984741211,\n          -11.199999809265137\n        ],\n        \"semantic_type\": \"\",\n        \"description\": \"\"\n      }\n    },\n    {\n      \"column\": \"C3\",\n      \"properties\": {\n        \"dtype\": \"float32\",\n        \"num_unique_values\": 6729,\n        \"samples\": [\n          31.889999389648438,\n          -9.279999732971191,\n          -59.70000076293945\n        ],\n        \"semantic_type\": \"\",\n        \"description\": \"\"\n      }\n    },\n    {\n      \"column\": \"P3\",\n      \"properties\": {\n        \"dtype\": \"float32\",\n        \"num_unique_values\": 7146,\n        \"samples\": [\n          -59.380001068115234,\n          28.059999465942383,\n          -43.90999984741211\n        ],\n        \"semantic_type\": \"\",\n        \"description\": \"\"\n      }\n    },\n    {\n      \"column\": \"F7\",\n      \"properties\": {\n        \"dtype\": \"float32\",\n        \"num_unique_values\": 6568,\n        \"samples\": [\n          29.8799991607666,\n          20.889999389648438,\n          28.309999465942383\n        ],\n        \"semantic_type\": \"\",\n        \"description\": \"\"\n      }\n    },\n    {\n      \"column\": \"T3\",\n      \"properties\": {\n        \"dtype\": \"float32\",\n        \"num_unique_values\": 6210,\n        \"samples\": [\n          -60.849998474121094,\n          0.6200000047683716,\n          -43.04999923706055\n        ],\n        \"semantic_type\": \"\",\n        \"description\": \"\"\n      }\n    },\n    {\n      \"column\": \"T5\",\n      \"properties\": {\n        \"dtype\": \"float32\",\n        \"num_unique_values\": 6020,\n        \"samples\": [\n          26.43000030517578,\n          16.940000534057617,\n          -11.850000381469727\n        ],\n        \"semantic_type\": \"\",\n        \"description\": \"\"\n      }\n    },\n    {\n      \"column\": \"O1\",\n      \"properties\": {\n        \"dtype\": \"float32\",\n        \"num_unique_values\": 6678,\n        \"samples\": [\n          8.260000228881836,\n          -68.38999938964844,\n          -27.049999237060547\n        ],\n        \"semantic_type\": \"\",\n        \"description\": \"\"\n      }\n    },\n    {\n      \"column\": \"Fz\",\n      \"properties\": {\n        \"dtype\": \"float32\",\n        \"num_unique_values\": 7422,\n        \"samples\": [\n          -11.739999771118164,\n          7.630000114440918,\n          25.979999542236328\n        ],\n        \"semantic_type\": \"\",\n        \"description\": \"\"\n      }\n    },\n    {\n      \"column\": \"Cz\",\n      \"properties\": {\n        \"dtype\": \"float32\",\n        \"num_unique_values\": 7465,\n        \"samples\": [\n          45.7599983215332,\n          -9.3100004196167,\n          -45.9900016784668\n        ],\n        \"semantic_type\": \"\",\n        \"description\": \"\"\n      }\n    },\n    {\n      \"column\": \"Pz\",\n      \"properties\": {\n        \"dtype\": \"float32\",\n        \"num_unique_values\": 7741,\n        \"samples\": [\n          9.890000343322754,\n          -21.020000457763672,\n          -34.58000183105469\n        ],\n        \"semantic_type\": \"\",\n        \"description\": \"\"\n      }\n    },\n    {\n      \"column\": \"Fp2\",\n      \"properties\": {\n        \"dtype\": \"float32\",\n        \"num_unique_values\": 7369,\n        \"samples\": [\n          69.6500015258789,\n          -29.950000762939453,\n          15.890000343322754\n        ],\n        \"semantic_type\": \"\",\n        \"description\": \"\"\n      }\n    },\n    {\n      \"column\": \"F4\",\n      \"properties\": {\n        \"dtype\": \"float32\",\n        \"num_unique_values\": 8326,\n        \"samples\": [\n          -52.790000915527344,\n          4.820000171661377,\n          -45.220001220703125\n        ],\n        \"semantic_type\": \"\",\n        \"description\": \"\"\n      }\n    },\n    {\n      \"column\": \"C4\",\n      \"properties\": {\n        \"dtype\": \"float32\",\n        \"num_unique_values\": 7142,\n        \"samples\": [\n          -55.77000045776367,\n          -89.91999816894531,\n          -47.150001525878906\n        ],\n        \"semantic_type\": \"\",\n        \"description\": \"\"\n      }\n    },\n    {\n      \"column\": \"P4\",\n      \"properties\": {\n        \"dtype\": \"float32\",\n        \"num_unique_values\": 7419,\n        \"samples\": [\n          9.050000190734863,\n          6.900000095367432,\n          59.689998626708984\n        ],\n        \"semantic_type\": \"\",\n        \"description\": \"\"\n      }\n    },\n    {\n      \"column\": \"F8\",\n      \"properties\": {\n        \"dtype\": \"float32\",\n        \"num_unique_values\": 7009,\n        \"samples\": [\n          -1.0,\n          13.670000076293945,\n          -4.619999885559082\n        ],\n        \"semantic_type\": \"\",\n        \"description\": \"\"\n      }\n    },\n    {\n      \"column\": \"T4\",\n      \"properties\": {\n        \"dtype\": \"float32\",\n        \"num_unique_values\": 6720,\n        \"samples\": [\n          -20.719999313354492,\n          -53.56999969482422,\n          -29.450000762939453\n        ],\n        \"semantic_type\": \"\",\n        \"description\": \"\"\n      }\n    },\n    {\n      \"column\": \"T6\",\n      \"properties\": {\n        \"dtype\": \"float32\",\n        \"num_unique_values\": 7118,\n        \"samples\": [\n          -13.529999732971191,\n          -10.680000305175781,\n          37.4900016784668\n        ],\n        \"semantic_type\": \"\",\n        \"description\": \"\"\n      }\n    },\n    {\n      \"column\": \"O2\",\n      \"properties\": {\n        \"dtype\": \"float32\",\n        \"num_unique_values\": 7366,\n        \"samples\": [\n          20.889999389648438,\n          -25.100000381469727,\n          -24.3700008392334\n        ],\n        \"semantic_type\": \"\",\n        \"description\": \"\"\n      }\n    },\n    {\n      \"column\": \"EKG\",\n      \"properties\": {\n        \"dtype\": \"float32\",\n        \"num_unique_values\": 9228,\n        \"samples\": [\n          52.52000045776367,\n          34.79999923706055,\n          -5.590000152587891\n        ],\n        \"semantic_type\": \"\",\n        \"description\": \"\"\n      }\n    }\n  ]\n}"
            }
          },
          "metadata": {},
          "execution_count": 10
        }
      ]
    },
    {
      "cell_type": "code",
      "source": [
        "def get_array_1stdim(train_datatype):\n",
        "  '''Get the first dimension data into an array. train_datatype should be egg or spectrogram'''\n",
        "  list_1stdim = []\n",
        "\n",
        "  for elem in train_datatype:\n",
        "    list_1stdim.append(elem.shape[0])\n",
        "\n",
        "  return np.array(list_1stdim)"
      ],
      "metadata": {
        "id": "4zMJ8gc7mc7r"
      },
      "execution_count": null,
      "outputs": []
    },
    {
      "cell_type": "code",
      "source": [
        "# Histogram\n",
        "def get_array_1stdim(train_datatype):\n",
        "  '''Get the first dimension data into an array. train_datatype should be egg or spectrogram'''\n",
        "  list_1stdim = []\n",
        "\n",
        "  for elem in train_datatype:\n",
        "    list_1stdim.append(elem.shape[0])\n",
        "\n",
        "  return np.array(list_1stdim)\n",
        "\n",
        "def make_hist(array_1stdim, title):\n",
        "  '''Plotting a histogram of the first dim data'''\n",
        "  plt.hist(array_1stdim, bins=100, range=[0, 12000], color='skyblue', edgecolor='black')\n",
        "  # plt.hist(array_1stdim, bins=100, color='skyblue', edgecolor='black')\n",
        "\n",
        "  plt.xlabel('Values')\n",
        "  plt.ylabel('Frequency')\n",
        "  plt.title('Distribution of the First Dimension ' + title)\n",
        "\n",
        "  plt.show()"
      ],
      "metadata": {
        "id": "9bwdLUP7mdlZ"
      },
      "execution_count": null,
      "outputs": []
    },
    {
      "cell_type": "code",
      "source": [
        "make_hist(get_array_1stdim(x_eeg), \"EEG\")"
      ],
      "metadata": {
        "colab": {
          "base_uri": "https://localhost:8080/",
          "height": 472
        },
        "id": "_NfwDRW7vu1D",
        "outputId": "676afce8-ff03-4a31-ad0d-8844406ec17d"
      },
      "execution_count": null,
      "outputs": [
        {
          "output_type": "display_data",
          "data": {
            "text/plain": [
              "<Figure size 640x480 with 1 Axes>"
            ],
            "image/png": "[encoded data removed]"
          },
          "metadata": {}
        }
      ]
    },
    {
      "cell_type": "code",
      "source": [
        "make_hist(get_array_1stdim(x_spectrogram), \"Spectrogram\")"
      ],
      "metadata": {
        "colab": {
          "base_uri": "https://localhost:8080/",
          "height": 472
        },
        "id": "nFhycEG3nAXV",
        "outputId": "310133aa-affa-4f73-8b9d-9fcc196d0885"
      },
      "execution_count": null,
      "outputs": [
        {
          "output_type": "display_data",
          "data": {
            "text/plain": [
              "<Figure size 640x480 with 1 Axes>"
            ],
            "image/png": "[encoded data removed]"
          },
          "metadata": {}
        }
      ]
    },
    {
      "cell_type": "code",
      "source": [
        "def trim(value, x, y):\n",
        "  new_x = []\n",
        "  new_y = []\n",
        "\n",
        "  # make new train\n",
        "  for i in range(len(x)):\n",
        "    if x[i].shape[0] <= value:\n",
        "      new_x.append(x[i])\n",
        "      new_y.append(y[i])\n",
        "\n",
        "  return new_x, new_y"
      ],
      "metadata": {
        "id": "mp_55MLimitQ"
      },
      "execution_count": null,
      "outputs": []
    },
    {
      "cell_type": "code",
      "source": [
        "x_eeg, y_eeg = trim(10000, x_eeg, y_eeg)"
      ],
      "metadata": {
        "id": "0NzYagySwpLB"
      },
      "execution_count": null,
      "outputs": []
    },
    {
      "cell_type": "code",
      "source": [
        "print(x_eeg[0], y_eeg[0])"
      ],
      "metadata": {
        "colab": {
          "base_uri": "https://localhost:8080/"
        },
        "id": "Re2kAl6xZB5s",
        "outputId": "3e1f96c9-bf26-48b5-a08f-e0538929f5c0"
      },
      "execution_count": null,
      "outputs": [
        {
          "output_type": "stream",
          "name": "stdout",
          "text": [
            "            Fp1         F3     C3         P3         F7         T3         T5  \\\n",
            "0     14.410000 -22.420000  -9.53 -16.620001  11.220000  -2.800000  10.180000   \n",
            "1      7.460000 -29.080000 -15.01 -22.950001   2.780000  -8.290000   3.400000   \n",
            "2     18.910000 -20.370001 -12.10 -16.370001  14.650000  -5.290000   7.410000   \n",
            "3     18.129999 -19.469999  -9.61 -15.630000  14.980000  -3.340000   9.600000   \n",
            "4      7.140000 -27.959999 -14.49 -22.660000   3.570000  -7.960000   3.500000   \n",
            "...         ...        ...    ...        ...        ...        ...        ...   \n",
            "9995  -1.890000 -29.610001  10.04  30.000000  -6.570000  -7.910000  34.189999   \n",
            "9996 -14.930000 -38.950001   3.87  21.400000 -19.530001 -15.330000  26.730000   \n",
            "9997  -7.380000 -35.299999   2.96  21.049999 -12.440000 -16.100000  26.549999   \n",
            "9998  -4.520000 -30.420000   6.02  20.910000  -8.290000 -13.290000  28.770000   \n",
            "9999 -16.780001 -40.860001  -2.67   7.060000 -22.209999 -21.299999  17.580000   \n",
            "\n",
            "             O1     Fz         Cz         Pz        Fp2         F4    C4  \\\n",
            "0     -7.330000   5.67  11.370000  -3.470000  -6.070000 -20.750000 -2.22   \n",
            "1    -14.100000   3.73   4.510000  -9.040000 -12.980000 -27.940001 -6.39   \n",
            "2     -8.130000   5.08  11.650000  -4.470000  -0.110000 -17.420000 -2.84   \n",
            "3     -5.950000   5.68  12.720000  -2.670000  -2.210000 -17.139999 -2.39   \n",
            "4    -13.110000   4.63   5.480000  -7.640000 -14.090000 -28.160000 -5.93   \n",
            "...         ...    ...        ...        ...        ...        ...   ...   \n",
            "9995  37.150002  -7.47  27.660000  35.959999 -21.190001 -31.170000 -4.01   \n",
            "9996  28.950001 -10.48  19.190001  28.870001 -33.650002 -41.680000 -7.61   \n",
            "9997  30.299999 -11.60  23.590000  27.940001 -23.670000 -32.849998 -3.65   \n",
            "9998  32.869999  -8.72  28.760000  30.580000 -21.309999 -26.770000  0.54   \n",
            "9999  19.860001  -9.98  18.889999  20.959999 -35.320000 -37.500000 -4.06   \n",
            "\n",
            "             P4         F8         T4         T6         O2         EKG  \n",
            "0     13.830000  15.240000 -12.410000  15.120000   2.200000   33.630001  \n",
            "1      6.360000   6.060000 -18.520000   8.820000  -2.080000   38.689999  \n",
            "2     15.360000  19.030001  -8.950000  16.440001   3.730000   30.830000  \n",
            "3     15.660000  18.290001  -9.690000  17.059999   3.350000   29.299999  \n",
            "4      6.110000   5.880000 -19.129999   8.570000  -1.940000   37.689999  \n",
            "...         ...        ...        ...        ...        ...         ...  \n",
            "9995  37.650002  -6.780000 -18.680000  34.700001  34.779999 -103.209999  \n",
            "9996  30.389999 -19.469999 -27.760000  27.170000  31.490000 -102.459999  \n",
            "9997  38.599998  -9.990000 -19.480000  34.029999  35.029999 -113.989998  \n",
            "9998  43.669998  -5.310000 -14.760000  39.570000  35.610001 -122.239998  \n",
            "9999  31.660000 -19.570000 -26.049999  28.910000  26.959999 -121.610001  \n",
            "\n",
            "[10000 rows x 20 columns] 5\n"
          ]
        }
      ]
    },
    {
      "cell_type": "code",
      "source": [
        "print(len(x_eeg))"
      ],
      "metadata": {
        "colab": {
          "base_uri": "https://localhost:8080/"
        },
        "id": "_H31x--zab8_",
        "outputId": "8850c09d-79f0-44c5-8d8b-254ad10e2ecb"
      },
      "execution_count": null,
      "outputs": [
        {
          "output_type": "stream",
          "name": "stdout",
          "text": [
            "1882\n"
          ]
        }
      ]
    },
    {
      "cell_type": "code",
      "source": [
        "x_spectrogram, y_spectrogram = trim(10000, x_spectrogram, y_spectrogram)"
      ],
      "metadata": {
        "id": "VfygQMDdwq5s"
      },
      "execution_count": null,
      "outputs": []
    },
    {
      "cell_type": "markdown",
      "source": [
        "# **Splitting Train-Test Dataset - EEG**"
      ],
      "metadata": {
        "id": "T9QE2VWc4Fz9"
      }
    },
    {
      "cell_type": "code",
      "source": [
        "for L in x_eeg:\n",
        "  L.fillna(0,inplace=True)"
      ],
      "metadata": {
        "id": "zuDRUAgypAcX"
      },
      "execution_count": null,
      "outputs": []
    },
    {
      "cell_type": "code",
      "source": [
        "train_ratio  = 0.8\n",
        "train_length = len(x_eeg) # length of the training data\n",
        "print(train_length)\n",
        "train_split  = int(train_length*train_ratio) # where to split the training and validation data\n",
        "print(train_split)\n",
        "temp_x_train_eeg, temp_y_train_eeg = x_eeg[:train_split], y_eeg[:train_split]\n",
        "print(len(temp_x_train_eeg), len(temp_y_train_eeg))\n",
        "x_test_eeg, y_test_eeg = x_eeg[train_split:], y_eeg[train_split:]\n",
        "print(len(x_test_eeg), len(y_test_eeg))"
      ],
      "metadata": {
        "colab": {
          "base_uri": "https://localhost:8080/"
        },
        "id": "W-coaCdWdFoV",
        "outputId": "5841f97d-b6f7-48d9-8bc5-5e10fb0f2288"
      },
      "execution_count": null,
      "outputs": [
        {
          "output_type": "stream",
          "name": "stdout",
          "text": [
            "1882\n",
            "1505\n",
            "1505 1505\n",
            "377 377\n"
          ]
        }
      ]
    },
    {
      "cell_type": "code",
      "source": [
        "train_ratio  = 0.8\n",
        "train_length = len(temp_x_train_eeg) # length of the training data\n",
        "print(train_length)\n",
        "train_split  = int(train_length*train_ratio) # where to split the training and validation data\n",
        "print(train_split)\n",
        "x_train_eeg, y_train_eeg = temp_x_train_eeg[:train_split], temp_y_train_eeg[:train_split]\n",
        "print(len(x_train_eeg), len(y_train_eeg))\n",
        "x_valid_eeg, y_valid_eeg = temp_x_train_eeg[train_split:], temp_y_train_eeg[train_split:]\n",
        "print(len(x_valid_eeg), len(y_valid_eeg))"
      ],
      "metadata": {
        "colab": {
          "base_uri": "https://localhost:8080/"
        },
        "id": "xhNXXHiDeaFg",
        "outputId": "09fb3a98-09c7-4824-a7c0-d8db92b87ccd"
      },
      "execution_count": null,
      "outputs": [
        {
          "output_type": "stream",
          "name": "stdout",
          "text": [
            "1505\n",
            "1204\n",
            "1204 1204\n",
            "301 301\n"
          ]
        }
      ]
    },
    {
      "cell_type": "code",
      "source": [
        "x_valid_eeg[0]"
      ],
      "metadata": {
        "colab": {
          "base_uri": "https://localhost:8080/",
          "height": 443
        },
        "id": "3sU6V4jQo9jy",
        "outputId": "7e887816-3bb1-475c-8c16-9d89800f9d35"
      },
      "execution_count": null,
      "outputs": [
        {
          "output_type": "execute_result",
          "data": {
            "text/plain": [
              "        Fp1     F3     C3     P3         F7         T3    T5         O1  \\\n",
              "0     11.59   4.18  -3.30  -3.50  22.969999  13.180000 -1.47   4.300000   \n",
              "1     13.88   8.10   2.97  -0.10  18.980000  13.310000  1.03   8.420000   \n",
              "2     10.60   3.63  -5.73  -5.18  23.840000   5.940000 -9.26 -28.299999   \n",
              "3     21.00  18.48   8.30   5.41  30.160000   8.590000  2.62   2.330000   \n",
              "4     13.08   3.66  -9.21 -15.51  26.250000   2.760000 -8.66  -1.360000   \n",
              "...     ...    ...    ...    ...        ...        ...   ...        ...   \n",
              "9995  -6.55 -15.10  -6.66  -7.88 -18.580000  -1.520000 -4.40   7.680000   \n",
              "9996  13.08   6.28   6.96   6.64  -6.200000  -1.970000 -0.59 -13.030000   \n",
              "9997   5.33 -11.13   1.03  -2.43  -0.210000  -9.140000 -3.51  -5.210000   \n",
              "9998  -9.89  -4.55 -10.23 -16.09 -15.060000 -19.030001 -2.16  17.660000   \n",
              "9999  -1.45 -11.34  -5.69  -2.53 -14.080000  -8.070000  4.41 -11.470000   \n",
              "\n",
              "         Fz     Cz         Pz    Fp2     F4         C4     P4         F8  \\\n",
              "0    -15.12  -5.92  -8.070000  -3.80  -9.58 -17.559999  -3.02 -13.120000   \n",
              "1    -12.56  -1.95  -6.890000  -2.04  -9.01 -20.580000  -5.40 -12.040000   \n",
              "2    -15.30  -3.94  -7.480000  -3.64  -6.87 -10.790000  -2.03 -23.049999   \n",
              "3     -2.00  11.20   5.390000   6.16   5.22  -2.980000   8.96  -1.090000   \n",
              "4    -13.62  -5.32 -17.559999  -3.40  -4.91 -20.030001 -11.64  -7.670000   \n",
              "...     ...    ...        ...    ...    ...        ...    ...        ...   \n",
              "9995 -14.26 -11.01  -6.280000 -13.98 -11.05 -15.010000 -11.11 -14.390000   \n",
              "9996  -1.57   2.31  10.080000  12.03   4.35   4.610000  12.09  -5.370000   \n",
              "9997  -7.66  -3.38   2.780000  13.85   4.71  -5.590000   5.63   5.040000   \n",
              "9998  -9.44  -9.04  -3.150000   3.70   2.62  -8.220000   0.37   4.370000   \n",
              "9999 -11.57 -10.81  -4.200000   3.31  -2.02  -2.800000  -1.14 -14.800000   \n",
              "\n",
              "         T4         T6         O2        EKG  \n",
              "0      3.15  -6.000000   3.650000  -0.010000  \n",
              "1     -5.16  -8.880000   5.260000   1.460000  \n",
              "2    -11.88  -5.290000  -3.900000  19.240000  \n",
              "3      6.32   1.140000  13.500000  43.119999  \n",
              "4     -7.14 -13.080000 -10.380000  25.760000  \n",
              "...     ...        ...        ...        ...  \n",
              "9995  -9.86 -12.470000   7.600000 -30.200001  \n",
              "9996   5.99  19.790001  37.220001 -20.410000  \n",
              "9997   9.99   9.110000  20.330000 -15.160000  \n",
              "9998   6.48   5.800000  21.480000 -23.010000  \n",
              "9999  -0.60   5.440000   3.240000 -19.799999  \n",
              "\n",
              "[10000 rows x 20 columns]"
            ],
            "text/html": [
              "\n",
              "  <div id=\"df-244fc64b-a48c-4431-9401-3740a8f060b5\" class=\"colab-df-container\">\n",
              "    <div>\n",
              "<style scoped>\n",
              "    .dataframe tbody tr th:only-of-type {\n",
              "        vertical-align: middle;\n",
              "    }\n",
              "\n",
              "    .dataframe tbody tr th {\n",
              "        vertical-align: top;\n",
              "    }\n",
              "\n",
              "    .dataframe thead th {\n",
              "        text-align: right;\n",
              "    }\n",
              "</style>\n",
              "<table border=\"1\" class=\"dataframe\">\n",
              "  <thead>\n",
              "    <tr style=\"text-align: right;\">\n",
              "      <th></th>\n",
              "      <th>Fp1</th>\n",
              "      <th>F3</th>\n",
              "      <th>C3</th>\n",
              "      <th>P3</th>\n",
              "      <th>F7</th>\n",
              "      <th>T3</th>\n",
              "      <th>T5</th>\n",
              "      <th>O1</th>\n",
              "      <th>Fz</th>\n",
              "      <th>Cz</th>\n",
              "      <th>Pz</th>\n",
              "      <th>Fp2</th>\n",
              "      <th>F4</th>\n",
              "      <th>C4</th>\n",
              "      <th>P4</th>\n",
              "      <th>F8</th>\n",
              "      <th>T4</th>\n",
              "      <th>T6</th>\n",
              "      <th>O2</th>\n",
              "      <th>EKG</th>\n",
              "    </tr>\n",
              "  </thead>\n",
              "  <tbody>\n",
              "    <tr>\n",
              "      <th>0</th>\n",
              "      <td>11.59</td>\n",
              "      <td>4.18</td>\n",
              "      <td>-3.30</td>\n",
              "      <td>-3.50</td>\n",
              "      <td>22.969999</td>\n",
              "      <td>13.180000</td>\n",
              "      <td>-1.47</td>\n",
              "      <td>4.300000</td>\n",
              "      <td>-15.12</td>\n",
              "      <td>-5.92</td>\n",
              "      <td>-8.070000</td>\n",
              "      <td>-3.80</td>\n",
              "      <td>-9.58</td>\n",
              "      <td>-17.559999</td>\n",
              "      <td>-3.02</td>\n",
              "      <td>-13.120000</td>\n",
              "      <td>3.15</td>\n",
              "      <td>-6.000000</td>\n",
              "      <td>3.650000</td>\n",
              "      <td>-0.010000</td>\n",
              "    </tr>\n",
              "    <tr>\n",
              "      <th>1</th>\n",
              "      <td>13.88</td>\n",
              "      <td>8.10</td>\n",
              "      <td>2.97</td>\n",
              "      <td>-0.10</td>\n",
              "      <td>18.980000</td>\n",
              "      <td>13.310000</td>\n",
              "      <td>1.03</td>\n",
              "      <td>8.420000</td>\n",
              "      <td>-12.56</td>\n",
              "      <td>-1.95</td>\n",
              "      <td>-6.890000</td>\n",
              "      <td>-2.04</td>\n",
              "      <td>-9.01</td>\n",
              "      <td>-20.580000</td>\n",
              "      <td>-5.40</td>\n",
              "      <td>-12.040000</td>\n",
              "      <td>-5.16</td>\n",
              "      <td>-8.880000</td>\n",
              "      <td>5.260000</td>\n",
              "      <td>1.460000</td>\n",
              "    </tr>\n",
              "    <tr>\n",
              "      <th>2</th>\n",
              "      <td>10.60</td>\n",
              "      <td>3.63</td>\n",
              "      <td>-5.73</td>\n",
              "      <td>-5.18</td>\n",
              "      <td>23.840000</td>\n",
              "      <td>5.940000</td>\n",
              "      <td>-9.26</td>\n",
              "      <td>-28.299999</td>\n",
              "      <td>-15.30</td>\n",
              "      <td>-3.94</td>\n",
              "      <td>-7.480000</td>\n",
              "      <td>-3.64</td>\n",
              "      <td>-6.87</td>\n",
              "      <td>-10.790000</td>\n",
              "      <td>-2.03</td>\n",
              "      <td>-23.049999</td>\n",
              "      <td>-11.88</td>\n",
              "      <td>-5.290000</td>\n",
              "      <td>-3.900000</td>\n",
              "      <td>19.240000</td>\n",
              "    </tr>\n",
              "    <tr>\n",
              "      <th>3</th>\n",
              "      <td>21.00</td>\n",
              "      <td>18.48</td>\n",
              "      <td>8.30</td>\n",
              "      <td>5.41</td>\n",
              "      <td>30.160000</td>\n",
              "      <td>8.590000</td>\n",
              "      <td>2.62</td>\n",
              "      <td>2.330000</td>\n",
              "      <td>-2.00</td>\n",
              "      <td>11.20</td>\n",
              "      <td>5.390000</td>\n",
              "      <td>6.16</td>\n",
              "      <td>5.22</td>\n",
              "      <td>-2.980000</td>\n",
              "      <td>8.96</td>\n",
              "      <td>-1.090000</td>\n",
              "      <td>6.32</td>\n",
              "      <td>1.140000</td>\n",
              "      <td>13.500000</td>\n",
              "      <td>43.119999</td>\n",
              "    </tr>\n",
              "    <tr>\n",
              "      <th>4</th>\n",
              "      <td>13.08</td>\n",
              "      <td>3.66</td>\n",
              "      <td>-9.21</td>\n",
              "      <td>-15.51</td>\n",
              "      <td>26.250000</td>\n",
              "      <td>2.760000</td>\n",
              "      <td>-8.66</td>\n",
              "      <td>-1.360000</td>\n",
              "      <td>-13.62</td>\n",
              "      <td>-5.32</td>\n",
              "      <td>-17.559999</td>\n",
              "      <td>-3.40</td>\n",
              "      <td>-4.91</td>\n",
              "      <td>-20.030001</td>\n",
              "      <td>-11.64</td>\n",
              "      <td>-7.670000</td>\n",
              "      <td>-7.14</td>\n",
              "      <td>-13.080000</td>\n",
              "      <td>-10.380000</td>\n",
              "      <td>25.760000</td>\n",
              "    </tr>\n",
              "    <tr>\n",
              "      <th>...</th>\n",
              "      <td>...</td>\n",
              "      <td>...</td>\n",
              "      <td>...</td>\n",
              "      <td>...</td>\n",
              "      <td>...</td>\n",
              "      <td>...</td>\n",
              "      <td>...</td>\n",
              "      <td>...</td>\n",
              "      <td>...</td>\n",
              "      <td>...</td>\n",
              "      <td>...</td>\n",
              "      <td>...</td>\n",
              "      <td>...</td>\n",
              "      <td>...</td>\n",
              "      <td>...</td>\n",
              "      <td>...</td>\n",
              "      <td>...</td>\n",
              "      <td>...</td>\n",
              "      <td>...</td>\n",
              "      <td>...</td>\n",
              "    </tr>\n",
              "    <tr>\n",
              "      <th>9995</th>\n",
              "      <td>-6.55</td>\n",
              "      <td>-15.10</td>\n",
              "      <td>-6.66</td>\n",
              "      <td>-7.88</td>\n",
              "      <td>-18.580000</td>\n",
              "      <td>-1.520000</td>\n",
              "      <td>-4.40</td>\n",
              "      <td>7.680000</td>\n",
              "      <td>-14.26</td>\n",
              "      <td>-11.01</td>\n",
              "      <td>-6.280000</td>\n",
              "      <td>-13.98</td>\n",
              "      <td>-11.05</td>\n",
              "      <td>-15.010000</td>\n",
              "      <td>-11.11</td>\n",
              "      <td>-14.390000</td>\n",
              "      <td>-9.86</td>\n",
              "      <td>-12.470000</td>\n",
              "      <td>7.600000</td>\n",
              "      <td>-30.200001</td>\n",
              "    </tr>\n",
              "    <tr>\n",
              "      <th>9996</th>\n",
              "      <td>13.08</td>\n",
              "      <td>6.28</td>\n",
              "      <td>6.96</td>\n",
              "      <td>6.64</td>\n",
              "      <td>-6.200000</td>\n",
              "      <td>-1.970000</td>\n",
              "      <td>-0.59</td>\n",
              "      <td>-13.030000</td>\n",
              "      <td>-1.57</td>\n",
              "      <td>2.31</td>\n",
              "      <td>10.080000</td>\n",
              "      <td>12.03</td>\n",
              "      <td>4.35</td>\n",
              "      <td>4.610000</td>\n",
              "      <td>12.09</td>\n",
              "      <td>-5.370000</td>\n",
              "      <td>5.99</td>\n",
              "      <td>19.790001</td>\n",
              "      <td>37.220001</td>\n",
              "      <td>-20.410000</td>\n",
              "    </tr>\n",
              "    <tr>\n",
              "      <th>9997</th>\n",
              "      <td>5.33</td>\n",
              "      <td>-11.13</td>\n",
              "      <td>1.03</td>\n",
              "      <td>-2.43</td>\n",
              "      <td>-0.210000</td>\n",
              "      <td>-9.140000</td>\n",
              "      <td>-3.51</td>\n",
              "      <td>-5.210000</td>\n",
              "      <td>-7.66</td>\n",
              "      <td>-3.38</td>\n",
              "      <td>2.780000</td>\n",
              "      <td>13.85</td>\n",
              "      <td>4.71</td>\n",
              "      <td>-5.590000</td>\n",
              "      <td>5.63</td>\n",
              "      <td>5.040000</td>\n",
              "      <td>9.99</td>\n",
              "      <td>9.110000</td>\n",
              "      <td>20.330000</td>\n",
              "      <td>-15.160000</td>\n",
              "    </tr>\n",
              "    <tr>\n",
              "      <th>9998</th>\n",
              "      <td>-9.89</td>\n",
              "      <td>-4.55</td>\n",
              "      <td>-10.23</td>\n",
              "      <td>-16.09</td>\n",
              "      <td>-15.060000</td>\n",
              "      <td>-19.030001</td>\n",
              "      <td>-2.16</td>\n",
              "      <td>17.660000</td>\n",
              "      <td>-9.44</td>\n",
              "      <td>-9.04</td>\n",
              "      <td>-3.150000</td>\n",
              "      <td>3.70</td>\n",
              "      <td>2.62</td>\n",
              "      <td>-8.220000</td>\n",
              "      <td>0.37</td>\n",
              "      <td>4.370000</td>\n",
              "      <td>6.48</td>\n",
              "      <td>5.800000</td>\n",
              "      <td>21.480000</td>\n",
              "      <td>-23.010000</td>\n",
              "    </tr>\n",
              "    <tr>\n",
              "      <th>9999</th>\n",
              "      <td>-1.45</td>\n",
              "      <td>-11.34</td>\n",
              "      <td>-5.69</td>\n",
              "      <td>-2.53</td>\n",
              "      <td>-14.080000</td>\n",
              "      <td>-8.070000</td>\n",
              "      <td>4.41</td>\n",
              "      <td>-11.470000</td>\n",
              "      <td>-11.57</td>\n",
              "      <td>-10.81</td>\n",
              "      <td>-4.200000</td>\n",
              "      <td>3.31</td>\n",
              "      <td>-2.02</td>\n",
              "      <td>-2.800000</td>\n",
              "      <td>-1.14</td>\n",
              "      <td>-14.800000</td>\n",
              "      <td>-0.60</td>\n",
              "      <td>5.440000</td>\n",
              "      <td>3.240000</td>\n",
              "      <td>-19.799999</td>\n",
              "    </tr>\n",
              "  </tbody>\n",
              "</table>\n",
              "<p>10000 rows × 20 columns</p>\n",
              "</div>\n",
              "    <div class=\"colab-df-buttons\">\n",
              "\n",
              "  <div class=\"colab-df-container\">\n",
              "    <button class=\"colab-df-convert\" onclick=\"convertToInteractive('df-244fc64b-a48c-4431-9401-3740a8f060b5')\"\n",
              "            title=\"Convert this dataframe to an interactive table.\"\n",
              "            style=\"display:none;\">\n",
              "\n",
              "  <svg xmlns=\"http://www.w3.org/2000/svg\" height=\"24px\" viewBox=\"0 -960 960 960\">\n",
              "    <path d=\"M120-120v-720h720v720H120Zm60-500h600v-160H180v160Zm220 220h160v-160H400v160Zm0 220h160v-160H400v160ZM180-400h160v-160H180v160Zm440 0h160v-160H620v160ZM180-180h160v-160H180v160Zm440 0h160v-160H620v160Z\"/>\n",
              "  </svg>\n",
              "    </button>\n",
              "\n",
              "  <style>\n",
              "    .colab-df-container {\n",
              "      display:flex;\n",
              "      gap: 12px;\n",
              "    }\n",
              "\n",
              "    .colab-df-convert {\n",
              "      background-color: #E8F0FE;\n",
              "      border: none;\n",
              "      border-radius: 50%;\n",
              "      cursor: pointer;\n",
              "      display: none;\n",
              "      fill: #1967D2;\n",
              "      height: 32px;\n",
              "      padding: 0 0 0 0;\n",
              "      width: 32px;\n",
              "    }\n",
              "\n",
              "    .colab-df-convert:hover {\n",
              "      background-color: #E2EBFA;\n",
              "      box-shadow: 0px 1px 2px rgba(60, 64, 67, 0.3), 0px 1px 3px 1px rgba(60, 64, 67, 0.15);\n",
              "      fill: #174EA6;\n",
              "    }\n",
              "\n",
              "    .colab-df-buttons div {\n",
              "      margin-bottom: 4px;\n",
              "    }\n",
              "\n",
              "    [theme=dark] .colab-df-convert {\n",
              "      background-color: #3B4455;\n",
              "      fill: #D2E3FC;\n",
              "    }\n",
              "\n",
              "    [theme=dark] .colab-df-convert:hover {\n",
              "      background-color: #434B5C;\n",
              "      box-shadow: 0px 1px 3px 1px rgba(0, 0, 0, 0.15);\n",
              "      filter: drop-shadow(0px 1px 2px rgba(0, 0, 0, 0.3));\n",
              "      fill: #FFFFFF;\n",
              "    }\n",
              "  </style>\n",
              "\n",
              "    <script>\n",
              "      const buttonEl =\n",
              "        document.querySelector('#df-244fc64b-a48c-4431-9401-3740a8f060b5 button.colab-df-convert');\n",
              "      buttonEl.style.display =\n",
              "        google.colab.kernel.accessAllowed ? 'block' : 'none';\n",
              "\n",
              "      async function convertToInteractive(key) {\n",
              "        const element = document.querySelector('#df-244fc64b-a48c-4431-9401-3740a8f060b5');\n",
              "        const dataTable =\n",
              "          await google.colab.kernel.invokeFunction('convertToInteractive',\n",
              "                                                    [key], {});\n",
              "        if (!dataTable) return;\n",
              "\n",
              "        const docLinkHtml = 'Like what you see? Visit the ' +\n",
              "          '<a target=\"_blank\" href=https://colab.research.google.com/notebooks/data_table.ipynb>data table notebook</a>'\n",
              "          + ' to learn more about interactive tables.';\n",
              "        element.innerHTML = '';\n",
              "        dataTable['output_type'] = 'display_data';\n",
              "        await google.colab.output.renderOutput(dataTable, element);\n",
              "        const docLink = document.createElement('div');\n",
              "        docLink.innerHTML = docLinkHtml;\n",
              "        element.appendChild(docLink);\n",
              "      }\n",
              "    </script>\n",
              "  </div>\n",
              "\n",
              "\n",
              "<div id=\"df-3719be78-f49c-4784-80d1-abf1aa4bb593\">\n",
              "  <button class=\"colab-df-quickchart\" onclick=\"quickchart('df-3719be78-f49c-4784-80d1-abf1aa4bb593')\"\n",
              "            title=\"Suggest charts\"\n",
              "            style=\"display:none;\">\n",
              "\n",
              "<svg xmlns=\"http://www.w3.org/2000/svg\" height=\"24px\"viewBox=\"0 0 24 24\"\n",
              "     width=\"24px\">\n",
              "    <g>\n",
              "        <path d=\"M19 3H5c-1.1 0-2 .9-2 2v14c0 1.1.9 2 2 2h14c1.1 0 2-.9 2-2V5c0-1.1-.9-2-2-2zM9 17H7v-7h2v7zm4 0h-2V7h2v10zm4 0h-2v-4h2v4z\"/>\n",
              "    </g>\n",
              "</svg>\n",
              "  </button>\n",
              "\n",
              "<style>\n",
              "  .colab-df-quickchart {\n",
              "      --bg-color: #E8F0FE;\n",
              "      --fill-color: #1967D2;\n",
              "      --hover-bg-color: #E2EBFA;\n",
              "      --hover-fill-color: #174EA6;\n",
              "      --disabled-fill-color: #AAA;\n",
              "      --disabled-bg-color: #DDD;\n",
              "  }\n",
              "\n",
              "  [theme=dark] .colab-df-quickchart {\n",
              "      --bg-color: #3B4455;\n",
              "      --fill-color: #D2E3FC;\n",
              "      --hover-bg-color: #434B5C;\n",
              "      --hover-fill-color: #FFFFFF;\n",
              "      --disabled-bg-color: #3B4455;\n",
              "      --disabled-fill-color: #666;\n",
              "  }\n",
              "\n",
              "  .colab-df-quickchart {\n",
              "    background-color: var(--bg-color);\n",
              "    border: none;\n",
              "    border-radius: 50%;\n",
              "    cursor: pointer;\n",
              "    display: none;\n",
              "    fill: var(--fill-color);\n",
              "    height: 32px;\n",
              "    padding: 0;\n",
              "    width: 32px;\n",
              "  }\n",
              "\n",
              "  .colab-df-quickchart:hover {\n",
              "    background-color: var(--hover-bg-color);\n",
              "    box-shadow: 0 1px 2px rgba(60, 64, 67, 0.3), 0 1px 3px 1px rgba(60, 64, 67, 0.15);\n",
              "    fill: var(--button-hover-fill-color);\n",
              "  }\n",
              "\n",
              "  .colab-df-quickchart-complete:disabled,\n",
              "  .colab-df-quickchart-complete:disabled:hover {\n",
              "    background-color: var(--disabled-bg-color);\n",
              "    fill: var(--disabled-fill-color);\n",
              "    box-shadow: none;\n",
              "  }\n",
              "\n",
              "  .colab-df-spinner {\n",
              "    border: 2px solid var(--fill-color);\n",
              "    border-color: transparent;\n",
              "    border-bottom-color: var(--fill-color);\n",
              "    animation:\n",
              "      spin 1s steps(1) infinite;\n",
              "  }\n",
              "\n",
              "  @keyframes spin {\n",
              "    0% {\n",
              "      border-color: transparent;\n",
              "      border-bottom-color: var(--fill-color);\n",
              "      border-left-color: var(--fill-color);\n",
              "    }\n",
              "    20% {\n",
              "      border-color: transparent;\n",
              "      border-left-color: var(--fill-color);\n",
              "      border-top-color: var(--fill-color);\n",
              "    }\n",
              "    30% {\n",
              "      border-color: transparent;\n",
              "      border-left-color: var(--fill-color);\n",
              "      border-top-color: var(--fill-color);\n",
              "      border-right-color: var(--fill-color);\n",
              "    }\n",
              "    40% {\n",
              "      border-color: transparent;\n",
              "      border-right-color: var(--fill-color);\n",
              "      border-top-color: var(--fill-color);\n",
              "    }\n",
              "    60% {\n",
              "      border-color: transparent;\n",
              "      border-right-color: var(--fill-color);\n",
              "    }\n",
              "    80% {\n",
              "      border-color: transparent;\n",
              "      border-right-color: var(--fill-color);\n",
              "      border-bottom-color: var(--fill-color);\n",
              "    }\n",
              "    90% {\n",
              "      border-color: transparent;\n",
              "      border-bottom-color: var(--fill-color);\n",
              "    }\n",
              "  }\n",
              "</style>\n",
              "\n",
              "  <script>\n",
              "    async function quickchart(key) {\n",
              "      const quickchartButtonEl =\n",
              "        document.querySelector('#' + key + ' button');\n",
              "      quickchartButtonEl.disabled = true;  // To prevent multiple clicks.\n",
              "      quickchartButtonEl.classList.add('colab-df-spinner');\n",
              "      try {\n",
              "        const charts = await google.colab.kernel.invokeFunction(\n",
              "            'suggestCharts', [key], {});\n",
              "      } catch (error) {\n",
              "        console.error('Error during call to suggestCharts:', error);\n",
              "      }\n",
              "      quickchartButtonEl.classList.remove('colab-df-spinner');\n",
              "      quickchartButtonEl.classList.add('colab-df-quickchart-complete');\n",
              "    }\n",
              "    (() => {\n",
              "      let quickchartButtonEl =\n",
              "        document.querySelector('#df-3719be78-f49c-4784-80d1-abf1aa4bb593 button');\n",
              "      quickchartButtonEl.style.display =\n",
              "        google.colab.kernel.accessAllowed ? 'block' : 'none';\n",
              "    })();\n",
              "  </script>\n",
              "</div>\n",
              "    </div>\n",
              "  </div>\n"
            ],
            "application/vnd.google.colaboratory.intrinsic+json": {
              "type": "dataframe",
              "summary": "{\n  \"name\": \"x_valid_eeg[0]\",\n  \"rows\": 10000,\n  \"fields\": [\n    {\n      \"column\": \"Fp1\",\n      \"properties\": {\n        \"dtype\": \"float32\",\n        \"num_unique_values\": 5501,\n        \"samples\": [\n          -90.91000366210938,\n          -54.09000015258789,\n          42.33000183105469\n        ],\n        \"semantic_type\": \"\",\n        \"description\": \"\"\n      }\n    },\n    {\n      \"column\": \"F3\",\n      \"properties\": {\n        \"dtype\": \"float32\",\n        \"num_unique_values\": 5162,\n        \"samples\": [\n          -15.130000114440918,\n          -25.049999237060547,\n          -1.5700000524520874\n        ],\n        \"semantic_type\": \"\",\n        \"description\": \"\"\n      }\n    },\n    {\n      \"column\": \"C3\",\n      \"properties\": {\n        \"dtype\": \"float32\",\n        \"num_unique_values\": 4780,\n        \"samples\": [\n          37.189998626708984,\n          -13.430000305175781,\n          -7.289999961853027\n        ],\n        \"semantic_type\": \"\",\n        \"description\": \"\"\n      }\n    },\n    {\n      \"column\": \"P3\",\n      \"properties\": {\n        \"dtype\": \"float32\",\n        \"num_unique_values\": 4677,\n        \"samples\": [\n          17.690000534057617,\n          22.6299991607666,\n          -13.289999961853027\n        ],\n        \"semantic_type\": \"\",\n        \"description\": \"\"\n      }\n    },\n    {\n      \"column\": \"F7\",\n      \"properties\": {\n        \"dtype\": \"float32\",\n        \"num_unique_values\": 5464,\n        \"samples\": [\n          26.65999984741211,\n          -33.5099983215332,\n          27.0\n        ],\n        \"semantic_type\": \"\",\n        \"description\": \"\"\n      }\n    },\n    {\n      \"column\": \"T3\",\n      \"properties\": {\n        \"dtype\": \"float32\",\n        \"num_unique_values\": 4258,\n        \"samples\": [\n          -2.5999999046325684,\n          -5.230000019073486,\n          -9.90999984741211\n        ],\n        \"semantic_type\": \"\",\n        \"description\": \"\"\n      }\n    },\n    {\n      \"column\": \"T5\",\n      \"properties\": {\n        \"dtype\": \"float32\",\n        \"num_unique_values\": 4527,\n        \"samples\": [\n          -15.300000190734863,\n          16.510000228881836,\n          13.539999961853027\n        ],\n        \"semantic_type\": \"\",\n        \"description\": \"\"\n      }\n    },\n    {\n      \"column\": \"O1\",\n      \"properties\": {\n        \"dtype\": \"float32\",\n        \"num_unique_values\": 5792,\n        \"samples\": [\n          -35.2400016784668,\n          16.799999237060547,\n          14.3100004196167\n        ],\n        \"semantic_type\": \"\",\n        \"description\": \"\"\n      }\n    },\n    {\n      \"column\": \"Fz\",\n      \"properties\": {\n        \"dtype\": \"float32\",\n        \"num_unique_values\": 5134,\n        \"samples\": [\n          -9.130000114440918,\n          1.0199999809265137,\n          -25.81999969482422\n        ],\n        \"semantic_type\": \"\",\n        \"description\": \"\"\n      }\n    },\n    {\n      \"column\": \"Cz\",\n      \"properties\": {\n        \"dtype\": \"float32\",\n        \"num_unique_values\": 4948,\n        \"samples\": [\n          -32.68000030517578,\n          6.03000020980835,\n          21.920000076293945\n        ],\n        \"semantic_type\": \"\",\n        \"description\": \"\"\n      }\n    },\n    {\n      \"column\": \"Pz\",\n      \"properties\": {\n        \"dtype\": \"float32\",\n        \"num_unique_values\": 4920,\n        \"samples\": [\n          21.579999923706055,\n          -13.140000343322754,\n          -10.359999656677246\n        ],\n        \"semantic_type\": \"\",\n        \"description\": \"\"\n      }\n    },\n    {\n      \"column\": \"Fp2\",\n      \"properties\": {\n        \"dtype\": \"float32\",\n        \"num_unique_values\": 5532,\n        \"samples\": [\n          47.29999923706055,\n          -37.720001220703125,\n          -3.319999933242798\n        ],\n        \"semantic_type\": \"\",\n        \"description\": \"\"\n      }\n    },\n    {\n      \"column\": \"F4\",\n      \"properties\": {\n        \"dtype\": \"float32\",\n        \"num_unique_values\": 5099,\n        \"samples\": [\n          -1.3899999856948853,\n          -14.899999618530273,\n          17.989999771118164\n        ],\n        \"semantic_type\": \"\",\n        \"description\": \"\"\n      }\n    },\n    {\n      \"column\": \"C4\",\n      \"properties\": {\n        \"dtype\": \"float32\",\n        \"num_unique_values\": 5319,\n        \"samples\": [\n          -28.239999771118164,\n          -28.229999542236328,\n          -27.440000534057617\n        ],\n        \"semantic_type\": \"\",\n        \"description\": \"\"\n      }\n    },\n    {\n      \"column\": \"P4\",\n      \"properties\": {\n        \"dtype\": \"float32\",\n        \"num_unique_values\": 4795,\n        \"samples\": [\n          -2.509999990463257,\n          18.06999969482422,\n          -11.210000038146973\n        ],\n        \"semantic_type\": \"\",\n        \"description\": \"\"\n      }\n    },\n    {\n      \"column\": \"F8\",\n      \"properties\": {\n        \"dtype\": \"float32\",\n        \"num_unique_values\": 5438,\n        \"samples\": [\n          -30.850000381469727,\n          -10.260000228881836,\n          -33.72999954223633\n        ],\n        \"semantic_type\": \"\",\n        \"description\": \"\"\n      }\n    },\n    {\n      \"column\": \"T4\",\n      \"properties\": {\n        \"dtype\": \"float32\",\n        \"num_unique_values\": 4644,\n        \"samples\": [\n          0.03999999910593033,\n          1.2400000095367432,\n          0.25999999046325684\n        ],\n        \"semantic_type\": \"\",\n        \"description\": \"\"\n      }\n    },\n    {\n      \"column\": \"T6\",\n      \"properties\": {\n        \"dtype\": \"float32\",\n        \"num_unique_values\": 4775,\n        \"samples\": [\n          30.670000076293945,\n          4.610000133514404,\n          12.3100004196167\n        ],\n        \"semantic_type\": \"\",\n        \"description\": \"\"\n      }\n    },\n    {\n      \"column\": \"O2\",\n      \"properties\": {\n        \"dtype\": \"float32\",\n        \"num_unique_values\": 6142,\n        \"samples\": [\n          0.8199999928474426,\n          -7.110000133514404,\n          30.15999984741211\n        ],\n        \"semantic_type\": \"\",\n        \"description\": \"\"\n      }\n    },\n    {\n      \"column\": \"EKG\",\n      \"properties\": {\n        \"dtype\": \"float32\",\n        \"num_unique_values\": 7625,\n        \"samples\": [\n          -13.680000305175781,\n          78.44000244140625,\n          1.2899999618530273\n        ],\n        \"semantic_type\": \"\",\n        \"description\": \"\"\n      }\n    }\n  ]\n}"
            }
          },
          "metadata": {},
          "execution_count": 22
        }
      ]
    },
    {
      "cell_type": "code",
      "source": [
        "x_train_eeg = np.array(x_train_eeg)\n",
        "x_test_eeg = np.array(x_test_eeg)\n",
        "x_valid_eeg = np.array(x_valid_eeg)\n",
        "\n",
        "y_train_eeg = np.array(y_train_eeg)\n",
        "y_test_eeg = np.array(y_test_eeg)\n",
        "y_valid_eeg = np.array(y_valid_eeg)"
      ],
      "metadata": {
        "id": "o2AhgOfKryqv"
      },
      "execution_count": null,
      "outputs": []
    },
    {
      "cell_type": "code",
      "source": [
        "mean = x_train_eeg.mean(axis=0)\n",
        "std  = x_train_eeg.std(axis=0)\n",
        "x_train_eeg = (x_train_eeg-mean)/std\n",
        "x_valid_eeg = (x_valid_eeg-mean)/std\n",
        "x_test_eeg  = (x_test_eeg-mean)/std"
      ],
      "metadata": {
        "id": "_OngNmHa31fu"
      },
      "execution_count": null,
      "outputs": []
    },
    {
      "cell_type": "code",
      "source": [
        "print(mean,std)"
      ],
      "metadata": {
        "colab": {
          "base_uri": "https://localhost:8080/"
        },
        "id": "Fx32f-GRY11j",
        "outputId": "b35bb500-d144-4187-a572-071b1cd45607"
      },
      "execution_count": null,
      "outputs": [
        {
          "output_type": "stream",
          "name": "stdout",
          "text": [
            "[[207.3455    176.20868   157.59987   ... 142.49452   132.41951\n",
            "   63.431965 ]\n",
            " [178.06122   132.35307    96.76392   ...  80.55476   117.30495\n",
            "   -1.7935771]\n",
            " [205.26445   164.26596   141.1319    ... 144.2856    166.17372\n",
            "   30.358067 ]\n",
            " ...\n",
            " [106.183334   86.38317    63.723637  ... 121.15852    80.65953\n",
            "  107.40106  ]\n",
            " [148.22394    73.21596    67.526276  ... 112.53884    94.68927\n",
            "   43.229424 ]\n",
            " [150.33496   139.94052   102.6425    ... 106.33961    94.93149\n",
            "   43.052254 ]] [[2209.5688 2059.6548 1994.7501 ... 1711.351  1976.3656 1982.7502]\n",
            " [2274.5488 1783.0271 1712.6877 ... 1436.9897 1801.7368 2352.1025]\n",
            " [2211.6384 1751.8279 1704.3922 ... 1379.3594 1524.0497 1604.8749]\n",
            " ...\n",
            " [1912.7913 1886.1792 1545.1134 ... 1831.6779 1872.8982 2211.9568]\n",
            " [1929.0334 1695.0394 1591.6241 ... 1871.3303 1912.4066 2071.5576]\n",
            " [1963.6304 1904.7374 1560.0568 ... 1578.3151 1628.1019 1444.8071]]\n"
          ]
        }
      ]
    },
    {
      "cell_type": "code",
      "source": [
        "thing = y_train_eeg.tolist()\n",
        "values, counts = np.unique(thing, return_counts=True)\n",
        "print(list(zip(values, counts)))"
      ],
      "metadata": {
        "colab": {
          "base_uri": "https://localhost:8080/"
        },
        "id": "xmenZSFSj7fI",
        "outputId": "809b108b-fe57-4363-e675-6bcc3ba78dd4"
      },
      "execution_count": null,
      "outputs": [
        {
          "output_type": "stream",
          "name": "stdout",
          "text": [
            "[0 1 2 3 4 5]\n",
            "[ 83 153 145  40  94 689]\n"
          ]
        }
      ]
    },
    {
      "cell_type": "code",
      "source": [
        "nb_classes = len(np.unique(y_train_eeg))\n",
        "print(nb_classes)\n",
        "y_train_eeg = to_categorical(y_train_eeg, nb_classes)\n",
        "y_valid_eeg = to_categorical(y_valid_eeg, nb_classes)\n",
        "y_test_eeg  = to_categorical(y_test_eeg, nb_classes)"
      ],
      "metadata": {
        "id": "uT9uTNbL32C2",
        "colab": {
          "base_uri": "https://localhost:8080/"
        },
        "outputId": "50882f02-1aa9-415a-864d-b18d71a5f29c"
      },
      "execution_count": null,
      "outputs": [
        {
          "output_type": "stream",
          "name": "stdout",
          "text": [
            "6\n"
          ]
        }
      ]
    },
    {
      "cell_type": "markdown",
      "source": [
        "# **Training the Model - EEG**"
      ],
      "metadata": {
        "id": "cdKMFfOSs0Hj"
      }
    },
    {
      "cell_type": "code",
      "source": [
        "x_train_eeg.shape"
      ],
      "metadata": {
        "colab": {
          "base_uri": "https://localhost:8080/"
        },
        "id": "K3IttsBMs4Z_",
        "outputId": "087b326c-3909-4717-ac2a-6db925fe60a2"
      },
      "execution_count": null,
      "outputs": [
        {
          "output_type": "execute_result",
          "data": {
            "text/plain": [
              "(1204, 10000, 20)"
            ]
          },
          "metadata": {},
          "execution_count": 30
        }
      ]
    },
    {
      "cell_type": "code",
      "source": [
        "y_train_eeg.shape"
      ],
      "metadata": {
        "colab": {
          "base_uri": "https://localhost:8080/"
        },
        "id": "3pIpNYLmz_Of",
        "outputId": "0f1c19df-0ebe-43cf-c23a-4f4a235c7b68"
      },
      "execution_count": null,
      "outputs": [
        {
          "output_type": "execute_result",
          "data": {
            "text/plain": [
              "(1204, 6)"
            ]
          },
          "metadata": {},
          "execution_count": 31
        }
      ]
    },
    {
      "cell_type": "code",
      "source": [
        "# Early Stopping Method\n",
        "es = EarlyStopping(patience = 5, monitor = 'val_accuracy', restore_best_weights=True)\n",
        "rate = 0.1"
      ],
      "metadata": {
        "id": "fpmUzskQtD4c"
      },
      "execution_count": null,
      "outputs": []
    },
    {
      "cell_type": "code",
      "source": [
        "nb_filter       = 3   # number of filter/kernels in the convolutional layers\n",
        "filter_length   = 48  # length of the filter/kernel in the convolutional layers\n",
        "window_size     = x_train_eeg.shape[1] # the window size defined by the dataset\n",
        "nb_features     = x_train_eeg.shape[2] # the number of features of the input data (number of dimensions)\n",
        "nb_outputs      = y_train_eeg.shape[1] # the number of outputs (defined by the target data)"
      ],
      "metadata": {
        "id": "c7XXTgbptItD"
      },
      "execution_count": null,
      "outputs": []
    },
    {
      "cell_type": "code",
      "source": [
        "model = Sequential()\n",
        "\n",
        "# First convolutional block\n",
        "model.add(Conv1D(filters=nb_filter*3, kernel_size=filter_length, activation='relu', kernel_initializer='he_normal', input_shape=(window_size, nb_features)))\n",
        "model.add(BatchNormalization())\n",
        "model.add(MaxPooling1D(pool_size=2, strides=2, padding=\"valid\"))\n",
        "model.add(Dropout(rate))\n",
        "\n",
        "# Second convolutional block\n",
        "model.add(Conv1D(filters=nb_filter*3, kernel_size=filter_length, activation='relu', kernel_initializer='he_normal'))\n",
        "model.add(BatchNormalization())\n",
        "model.add(MaxPooling1D(pool_size=2, strides=2))\n",
        "model.add(Dropout(rate))\n",
        "\n",
        "# Third convolutional block (additional layer)\n",
        "model.add(Conv1D(filters=nb_filter*3, kernel_size=filter_length, activation='relu', kernel_initializer='he_normal'))\n",
        "model.add(BatchNormalization())\n",
        "model.add(MaxPooling1D(pool_size=2, strides=2))\n",
        "model.add(Dropout(rate))\n",
        "\n",
        "# Flatten and fully connected layers\n",
        "model.add(Flatten())\n",
        "model.add(Dense(128, activation='relu', kernel_initializer='he_normal', kernel_regularizer=tf.keras.regularizers.l2(0.01)))\n",
        "model.add(Dropout(rate))\n",
        "model.add(Dense(nb_outputs, activation='softmax', kernel_initializer='he_normal', kernel_regularizer=tf.keras.regularizers.l2(0.01)))"
      ],
      "metadata": {
        "id": "-XOkoKZltMoQ"
      },
      "execution_count": null,
      "outputs": []
    },
    {
      "cell_type": "code",
      "source": [
        "model.summary()"
      ],
      "metadata": {
        "colab": {
          "base_uri": "https://localhost:8080/"
        },
        "id": "_PPaSgbEXNMh",
        "outputId": "6d125f88-f903-42d7-aadd-be0edc277b94"
      },
      "execution_count": null,
      "outputs": [
        {
          "output_type": "stream",
          "name": "stdout",
          "text": [
            "Model: \"sequential_5\"\n",
            "_________________________________________________________________\n",
            " Layer (type)                Output Shape              Param #   \n",
            "=================================================================\n",
            " conv1d_15 (Conv1D)          (None, 9953, 9)           8649      \n",
            "                                                                 \n",
            " batch_normalization_15 (Ba  (None, 9953, 9)           36        \n",
            " tchNormalization)                                               \n",
            "                                                                 \n",
            " max_pooling1d_15 (MaxPooli  (None, 4976, 9)           0         \n",
            " ng1D)                                                           \n",
            "                                                                 \n",
            " dropout_20 (Dropout)        (None, 4976, 9)           0         \n",
            "                                                                 \n",
            " conv1d_16 (Conv1D)          (None, 4929, 3)           1299      \n",
            "                                                                 \n",
            " batch_normalization_16 (Ba  (None, 4929, 3)           12        \n",
            " tchNormalization)                                               \n",
            "                                                                 \n",
            " max_pooling1d_16 (MaxPooli  (None, 2464, 3)           0         \n",
            " ng1D)                                                           \n",
            "                                                                 \n",
            " dropout_21 (Dropout)        (None, 2464, 3)           0         \n",
            "                                                                 \n",
            " conv1d_17 (Conv1D)          (None, 2417, 3)           435       \n",
            "                                                                 \n",
            " batch_normalization_17 (Ba  (None, 2417, 3)           12        \n",
            " tchNormalization)                                               \n",
            "                                                                 \n",
            " max_pooling1d_17 (MaxPooli  (None, 1208, 3)           0         \n",
            " ng1D)                                                           \n",
            "                                                                 \n",
            " dropout_22 (Dropout)        (None, 1208, 3)           0         \n",
            "                                                                 \n",
            " flatten_5 (Flatten)         (None, 3624)              0         \n",
            "                                                                 \n",
            " dense_10 (Dense)            (None, 128)               464000    \n",
            "                                                                 \n",
            " dropout_23 (Dropout)        (None, 128)               0         \n",
            "                                                                 \n",
            " dense_11 (Dense)            (None, 6)                 774       \n",
            "                                                                 \n",
            "=================================================================\n",
            "Total params: 475217 (1.81 MB)\n",
            "Trainable params: 475187 (1.81 MB)\n",
            "Non-trainable params: 30 (120.00 Byte)\n",
            "_________________________________________________________________\n"
          ]
        }
      ]
    },
    {
      "cell_type": "code",
      "source": [
        "model.compile(loss='categorical_crossentropy', optimizer='adam', metrics=['accuracy'])"
      ],
      "metadata": {
        "id": "pDeRbfa6tOuw"
      },
      "execution_count": null,
      "outputs": []
    },
    {
      "cell_type": "code",
      "source": [
        "network_history = model.fit(x_train_eeg, y_train_eeg,\n",
        "                            validation_data=(x_valid_eeg,y_valid_eeg),\n",
        "                            batch_size=16,\n",
        "                            epochs=100,\n",
        "                            verbose=1,\n",
        "                            callbacks=[es])"
      ],
      "metadata": {
        "id": "0DSODqYctQii",
        "colab": {
          "base_uri": "https://localhost:8080/"
        },
        "outputId": "8e400408-f81d-404f-f70a-bcc5b2e75485"
      },
      "execution_count": null,
      "outputs": [
        {
          "output_type": "stream",
          "name": "stdout",
          "text": [
            "Epoch 1/100\n",
            "76/76 [==============================] - 6s 35ms/step - loss: 4.9459 - accuracy: 0.4551 - val_loss: 4.1661 - val_accuracy: 0.4817\n",
            "Epoch 2/100\n",
            "76/76 [==============================] - 2s 21ms/step - loss: 3.7883 - accuracy: 0.5349 - val_loss: 3.9494 - val_accuracy: 0.4751\n",
            "Epoch 3/100\n",
            "76/76 [==============================] - 2s 23ms/step - loss: 3.3019 - accuracy: 0.5573 - val_loss: 3.6295 - val_accuracy: 0.5449\n",
            "Epoch 4/100\n",
            "76/76 [==============================] - 2s 21ms/step - loss: 2.7863 - accuracy: 0.5939 - val_loss: 2.9960 - val_accuracy: 0.5183\n",
            "Epoch 5/100\n",
            "76/76 [==============================] - 2s 21ms/step - loss: 2.4480 - accuracy: 0.6113 - val_loss: 3.4214 - val_accuracy: 0.5482\n",
            "Epoch 6/100\n",
            "76/76 [==============================] - 2s 23ms/step - loss: 2.2456 - accuracy: 0.6686 - val_loss: 3.6002 - val_accuracy: 0.4884\n",
            "Epoch 7/100\n",
            "76/76 [==============================] - 2s 28ms/step - loss: 2.1637 - accuracy: 0.6703 - val_loss: 2.7026 - val_accuracy: 0.5183\n",
            "Epoch 8/100\n",
            "76/76 [==============================] - 2s 23ms/step - loss: 1.9596 - accuracy: 0.7085 - val_loss: 2.8699 - val_accuracy: 0.5482\n",
            "Epoch 9/100\n",
            "76/76 [==============================] - 2s 21ms/step - loss: 1.8758 - accuracy: 0.7375 - val_loss: 3.0590 - val_accuracy: 0.5282\n",
            "Epoch 10/100\n",
            "76/76 [==============================] - 2s 21ms/step - loss: 1.8089 - accuracy: 0.7699 - val_loss: 2.6775 - val_accuracy: 0.5083\n"
          ]
        }
      ]
    },
    {
      "cell_type": "code",
      "source": [
        "# Assuming 'history' is the variable that holds the training history\n",
        "history = network_history\n",
        "\n",
        "# Plotting training & validation accuracy values\n",
        "plt.figure(figsize=(14, 5))\n",
        "\n",
        "plt.subplot(1, 2, 1)\n",
        "plt.plot(history.history['accuracy'])\n",
        "plt.plot(history.history['val_accuracy'])\n",
        "plt.title('Model accuracy')\n",
        "plt.xlabel('Epoch')\n",
        "plt.ylabel('Accuracy')\n",
        "plt.legend(['Train', 'Validation'], loc='upper left')\n",
        "\n",
        "# Plotting training & validation loss values\n",
        "plt.subplot(1, 2, 2)\n",
        "plt.plot(history.history['loss'])\n",
        "plt.plot(history.history['val_loss'])\n",
        "plt.title('Model loss')\n",
        "plt.xlabel('Epoch')\n",
        "plt.ylabel('Loss')\n",
        "plt.legend(['Train', 'Validation'], loc='upper left')\n",
        "\n",
        "plt.show()"
      ],
      "metadata": {
        "colab": {
          "base_uri": "https://localhost:8080/",
          "height": 487
        },
        "id": "cYgolyE7N5ga",
        "outputId": "f2200c50-51c1-45fb-f21e-bdca07b68f87"
      },
      "execution_count": null,
      "outputs": [
        {
          "output_type": "display_data",
          "data": {
            "text/plain": [
              "<Figure size 1400x500 with 2 Axes>"
            ],
            "image/png": "[encoded data removed]"
          },
          "metadata": {}
        }
      ]
    },
    {
      "cell_type": "markdown",
      "source": [
        "# **Evaluation - EEG**"
      ],
      "metadata": {
        "id": "YBRW4-r7V6yO"
      }
    },
    {
      "cell_type": "code",
      "source": [
        "x_test_eeg.shape"
      ],
      "metadata": {
        "colab": {
          "base_uri": "https://localhost:8080/"
        },
        "id": "FHcodLbTm08d",
        "outputId": "eb957499-8ea4-4b65-aa2c-bcdef8529233"
      },
      "execution_count": null,
      "outputs": [
        {
          "output_type": "execute_result",
          "data": {
            "text/plain": [
              "(377, 10000, 20)"
            ]
          },
          "metadata": {},
          "execution_count": 107
        }
      ]
    },
    {
      "cell_type": "code",
      "source": [
        "y_test_eeg.shape"
      ],
      "metadata": {
        "colab": {
          "base_uri": "https://localhost:8080/"
        },
        "id": "wqr_-vJBm5Pw",
        "outputId": "d9f38d36-fe0a-437b-b879-d6896cf66777"
      },
      "execution_count": null,
      "outputs": [
        {
          "output_type": "execute_result",
          "data": {
            "text/plain": [
              "(377, 6)"
            ]
          },
          "metadata": {},
          "execution_count": 108
        }
      ]
    },
    {
      "cell_type": "code",
      "source": [
        "eval = model.evaluate(x_test_eeg,y_test_eeg)\n",
        "print(\"Test loss:\",eval[0])\n",
        "print(\"Test accuracy:\",eval[1])"
      ],
      "metadata": {
        "colab": {
          "base_uri": "https://localhost:8080/"
        },
        "id": "WcTr-m1AmWFG",
        "outputId": "d286513b-8a6a-4e7c-a132-a0733c57cf82"
      },
      "execution_count": null,
      "outputs": [
        {
          "output_type": "stream",
          "name": "stdout",
          "text": [
            "12/12 [==============================] - 0s 21ms/step - loss: 2.9321 - accuracy: 0.6313\n",
            "Test loss: 2.9320952892303467\n",
            "Test accuracy: 0.6312997341156006\n"
          ]
        }
      ]
    },
    {
      "cell_type": "code",
      "source": [
        "preds = model.predict(x_test_eeg)"
      ],
      "metadata": {
        "colab": {
          "base_uri": "https://localhost:8080/"
        },
        "id": "PML8HfCssG4-",
        "outputId": "620b4d56-cc4e-4397-f6b2-176495e6a43b"
      },
      "execution_count": null,
      "outputs": [
        {
          "output_type": "stream",
          "name": "stdout",
          "text": [
            "12/12 [==============================] - 1s 25ms/step\n"
          ]
        }
      ]
    },
    {
      "cell_type": "code",
      "source": [
        "print(classification_report(np.argmax(y_test_eeg,1),np.argmax(preds,1)))"
      ],
      "metadata": {
        "colab": {
          "base_uri": "https://localhost:8080/"
        },
        "id": "u6SBv1Y7sIZ-",
        "outputId": "cde2cb48-ed47-43e1-d84a-8a062c20abba"
      },
      "execution_count": null,
      "outputs": [
        {
          "output_type": "stream",
          "name": "stdout",
          "text": [
            "              precision    recall  f1-score   support\n",
            "\n",
            "           0       0.25      0.09      0.13        23\n",
            "           1       0.29      0.05      0.08        42\n",
            "           2       0.00      0.00      0.00        29\n",
            "           3       0.00      0.00      0.00         7\n",
            "           4       0.00      0.00      0.00        24\n",
            "           5       0.66      0.93      0.77       252\n",
            "\n",
            "    accuracy                           0.63       377\n",
            "   macro avg       0.20      0.18      0.16       377\n",
            "weighted avg       0.49      0.63      0.53       377\n",
            "\n"
          ]
        },
        {
          "output_type": "stream",
          "name": "stderr",
          "text": [
            "/usr/local/lib/python3.10/dist-packages/sklearn/metrics/_classification.py:1344: UndefinedMetricWarning: Precision and F-score are ill-defined and being set to 0.0 in labels with no predicted samples. Use `zero_division` parameter to control this behavior.\n",
            "  _warn_prf(average, modifier, msg_start, len(result))\n",
            "/usr/local/lib/python3.10/dist-packages/sklearn/metrics/_classification.py:1344: UndefinedMetricWarning: Precision and F-score are ill-defined and being set to 0.0 in labels with no predicted samples. Use `zero_division` parameter to control this behavior.\n",
            "  _warn_prf(average, modifier, msg_start, len(result))\n",
            "/usr/local/lib/python3.10/dist-packages/sklearn/metrics/_classification.py:1344: UndefinedMetricWarning: Precision and F-score are ill-defined and being set to 0.0 in labels with no predicted samples. Use `zero_division` parameter to control this behavior.\n",
            "  _warn_prf(average, modifier, msg_start, len(result))\n"
          ]
        }
      ]
    },
    {
      "cell_type": "code",
      "source": [
        "balanced_accuracy_score(np.argmax(y_test_eeg,1),np.argmax(preds,1))"
      ],
      "metadata": {
        "colab": {
          "base_uri": "https://localhost:8080/"
        },
        "id": "sRDVTj4hsJnG",
        "outputId": "79bc1fa2-559e-4c8f-a45c-df0eb15031df"
      },
      "execution_count": null,
      "outputs": [
        {
          "output_type": "execute_result",
          "data": {
            "text/plain": [
              "0.17719116632160112"
            ]
          },
          "metadata": {},
          "execution_count": 112
        }
      ]
    },
    {
      "cell_type": "code",
      "source": [
        "conf=confusion_matrix(np.argmax(y_test_eeg,1),np.argmax(preds,1))\n",
        "sns.heatmap(conf, annot=True, fmt='d', vmax=100)"
      ],
      "metadata": {
        "colab": {
          "base_uri": "https://localhost:8080/",
          "height": 452
        },
        "id": "NCNOso92r7aZ",
        "outputId": "4df9e89a-3d30-4654-c33b-14445fd40c9c"
      },
      "execution_count": null,
      "outputs": [
        {
          "output_type": "execute_result",
          "data": {
            "text/plain": [
              "<Axes: >"
            ]
          },
          "metadata": {},
          "execution_count": 102
        },
        {
          "output_type": "display_data",
          "data": {
            "text/plain": [
              "<Figure size 640x480 with 2 Axes>"
            ],
            "image/png": "[encoded data removed]"
          },
          "metadata": {}
        }
      ]
    },
    {
      "cell_type": "markdown",
      "source": [
        "# **Splitting Train-Test Dataset - Spectrogram**"
      ],
      "metadata": {
        "id": "O7RpLL0-s4Dm"
      }
    },
    {
      "cell_type": "code",
      "source": [
        "for L in x_spectrogram:\n",
        "  L.fillna(0,inplace=True)"
      ],
      "metadata": {
        "id": "qUHgRgPEs7wW"
      },
      "execution_count": null,
      "outputs": []
    },
    {
      "cell_type": "code",
      "source": [
        "train_ratio  = 0.8\n",
        "train_length = len(x_spectrogram) # length of the training data\n",
        "print(train_length)\n",
        "train_split  = int(train_length*train_ratio) # where to split the training and validation data\n",
        "print(train_split)\n",
        "temp_x_train_spectrogram, temp_y_train_spectrogram = x_spectrogram[:train_split], y_spectrogram[:train_split]\n",
        "print(len(temp_x_train_spectrogram), len(temp_y_train_spectrogram))\n",
        "x_test_spectrogram, y_test_spectrogram = x_spectrogram[train_split:], y_spectrogram[train_split:]\n",
        "print(len(x_test_spectrogram), len(y_test_spectrogram))"
      ],
      "metadata": {
        "colab": {
          "base_uri": "https://localhost:8080/"
        },
        "id": "xmGmaevstEk7",
        "outputId": "b19f0a57-031b-4491-b154-2ff8deef548e"
      },
      "execution_count": null,
      "outputs": [
        {
          "output_type": "stream",
          "name": "stdout",
          "text": [
            "39\n",
            "31\n",
            "31 31\n",
            "8 8\n"
          ]
        }
      ]
    },
    {
      "cell_type": "code",
      "source": [
        "train_ratio  = 0.8\n",
        "train_length = len(temp_x_train_spectrogram) # length of the training data\n",
        "print(train_length)\n",
        "train_split  = int(train_length*train_ratio) # where to split the training and validation data\n",
        "print(train_split)\n",
        "x_train_spectrogram, y_train_spectrogram = temp_x_train_spectrogram[:train_split], temp_y_train_spectrogram[:train_split]\n",
        "print(len(x_train_spectrogram), len(y_train_spectrogram))\n",
        "x_valid_spectrogram, y_valid_spectrogram = temp_x_train_spectrogram[train_split:], temp_y_train_spectrogram[train_split:]\n",
        "print(len(x_valid_spectrogram), len(y_valid_spectrogram))"
      ],
      "metadata": {
        "colab": {
          "base_uri": "https://localhost:8080/"
        },
        "id": "na0DEDaatWJi",
        "outputId": "f48d6dce-3524-4ec7-c2d6-d2be91d45236"
      },
      "execution_count": null,
      "outputs": [
        {
          "output_type": "stream",
          "name": "stdout",
          "text": [
            "31\n",
            "24\n",
            "24 24\n",
            "7 7\n"
          ]
        }
      ]
    },
    {
      "cell_type": "code",
      "source": [
        "x_train_spectrogram = np.array(x_train_spectrogram)\n",
        "x_test_spectrogram = np.array(x_test_spectrogram)\n",
        "x_valid_spectrogram = np.array(x_valid_spectrogram)\n",
        "\n",
        "y_train_spectrogram = np.array(y_train_spectrogram)\n",
        "y_test_spectrogram = np.array(y_test_spectrogram)\n",
        "y_valid_spectrogram = np.array(y_valid_spectrogram)"
      ],
      "metadata": {
        "id": "FFKhNoRDtsvW"
      },
      "execution_count": null,
      "outputs": []
    },
    {
      "cell_type": "code",
      "source": [
        "thing = y_train_spectrogram.tolist()\n",
        "values, counts = np.unique(thing, return_counts=True)\n",
        "print(list(zip(values, counts)))"
      ],
      "metadata": {
        "id": "VviU5YC2t5bY"
      },
      "execution_count": null,
      "outputs": []
    },
    {
      "cell_type": "code",
      "source": [
        "# nb_classes = len(np.unique(y_train_spectrogram))\n",
        "nb_classes = 6\n",
        "print(nb_classes)\n",
        "y_train_spectrogram = to_categorical(y_train_spectrogram, nb_classes)\n",
        "y_valid_spectrogram = to_categorical(y_valid_spectrogram, nb_classes)\n",
        "y_test_spectrogram  = to_categorical(y_test_spectrogram, nb_classes)"
      ],
      "metadata": {
        "colab": {
          "base_uri": "https://localhost:8080/"
        },
        "id": "-04vGREPt_RX",
        "outputId": "50cb4b14-452a-4c10-8aca-67e76de55955"
      },
      "execution_count": null,
      "outputs": [
        {
          "output_type": "stream",
          "name": "stdout",
          "text": [
            "6\n"
          ]
        }
      ]
    },
    {
      "cell_type": "markdown",
      "source": [
        "# **Training the Model - Spectrogram**"
      ],
      "metadata": {
        "id": "JFT1t_9xxGfr"
      }
    },
    {
      "cell_type": "code",
      "source": [
        "x_train_spectrogram.shape"
      ],
      "metadata": {
        "colab": {
          "base_uri": "https://localhost:8080/"
        },
        "id": "PD_z3t9Qsq51",
        "outputId": "c8c2d632-8a4c-4f91-f962-31c541ddb014"
      },
      "execution_count": null,
      "outputs": [
        {
          "output_type": "execute_result",
          "data": {
            "text/plain": [
              "(24, 10000, 20)"
            ]
          },
          "metadata": {},
          "execution_count": 67
        }
      ]
    },
    {
      "cell_type": "code",
      "source": [
        "y_train_spectrogram.shape"
      ],
      "metadata": {
        "colab": {
          "base_uri": "https://localhost:8080/"
        },
        "id": "XFc-ZbrVsv1H",
        "outputId": "813b62f2-9279-4deb-abb8-8c5a0b1ac92c"
      },
      "execution_count": null,
      "outputs": [
        {
          "output_type": "execute_result",
          "data": {
            "text/plain": [
              "(24, 6)"
            ]
          },
          "metadata": {},
          "execution_count": 68
        }
      ]
    },
    {
      "cell_type": "code",
      "source": [
        "# Early Stopping Method\n",
        "es = EarlyStopping(patience = 5, monitor = 'val_accuracy', restore_best_weights=True)\n",
        "rate = 0.1"
      ],
      "metadata": {
        "id": "FAgQMThGsxgW"
      },
      "execution_count": null,
      "outputs": []
    },
    {
      "cell_type": "code",
      "source": [
        "nb_filter       = 3   # number of filter/kernels in the convolutional layers\n",
        "filter_length   = 5  # length of the filter/kernel in the convolutional layers\n",
        "window_size     = x_train_spectrogram.shape[1] # the window size defined by the dataset\n",
        "nb_features     = x_train_spectrogram.shape[2] # the number of features of the input data (number of dimensions)\n",
        "nb_outputs      = y_train_spectrogram.shape[1] # the number of outputs (defined by the target data)"
      ],
      "metadata": {
        "id": "Dws-Rx12uG_K"
      },
      "execution_count": null,
      "outputs": []
    },
    {
      "cell_type": "code",
      "source": [
        "model = Sequential()\n",
        "\n",
        "# First convolutional block\n",
        "model.add(Conv1D(filters=nb_filter*3, kernel_size=filter_length, activation='relu', kernel_initializer='he_normal', input_shape=(window_size, nb_features)))\n",
        "model.add(BatchNormalization())\n",
        "model.add(MaxPooling1D(pool_size=2, strides=2, padding=\"valid\"))\n",
        "model.add(Dropout(rate))\n",
        "\n",
        "# Second convolutional block\n",
        "model.add(Conv1D(filters=nb_filter*3, kernel_size=filter_length, activation='relu', kernel_initializer='he_normal'))\n",
        "model.add(BatchNormalization())\n",
        "model.add(MaxPooling1D(pool_size=2, strides=2))\n",
        "model.add(Dropout(rate))\n",
        "\n",
        "# Third convolutional block (additional layer)\n",
        "model.add(Conv1D(filters=nb_filter*3, kernel_size=filter_length, activation='relu', kernel_initializer='he_normal'))\n",
        "model.add(BatchNormalization())\n",
        "model.add(MaxPooling1D(pool_size=2, strides=2))\n",
        "model.add(Dropout(rate))\n",
        "\n",
        "# Flatten and fully connected layers\n",
        "model.add(Flatten())\n",
        "model.add(Dense(128, activation='relu', kernel_initializer='he_normal', kernel_regularizer=tf.keras.regularizers.l2(0.01)))\n",
        "model.add(Dropout(rate))\n",
        "model.add(Dense(nb_outputs, activation='softmax', kernel_initializer='he_normal', kernel_regularizer=tf.keras.regularizers.l2(0.01)))"
      ],
      "metadata": {
        "id": "JjM3Hb0fuJR5"
      },
      "execution_count": null,
      "outputs": []
    },
    {
      "cell_type": "code",
      "source": [
        "model.summary()"
      ],
      "metadata": {
        "colab": {
          "base_uri": "https://localhost:8080/"
        },
        "id": "V5wl9CqVbQ9x",
        "outputId": "ba6f16e4-b9a0-4db5-ed9b-286796c02c04"
      },
      "execution_count": null,
      "outputs": [
        {
          "output_type": "stream",
          "name": "stdout",
          "text": [
            "Model: \"sequential_4\"\n",
            "_________________________________________________________________\n",
            " Layer (type)                Output Shape              Param #   \n",
            "=================================================================\n",
            " conv1d_12 (Conv1D)          (None, 9953, 9)           8649      \n",
            "                                                                 \n",
            " batch_normalization_12 (Ba  (None, 9953, 9)           36        \n",
            " tchNormalization)                                               \n",
            "                                                                 \n",
            " max_pooling1d_12 (MaxPooli  (None, 4976, 9)           0         \n",
            " ng1D)                                                           \n",
            "                                                                 \n",
            " dropout_16 (Dropout)        (None, 4976, 9)           0         \n",
            "                                                                 \n",
            " conv1d_13 (Conv1D)          (None, 4929, 9)           3897      \n",
            "                                                                 \n",
            " batch_normalization_13 (Ba  (None, 4929, 9)           36        \n",
            " tchNormalization)                                               \n",
            "                                                                 \n",
            " max_pooling1d_13 (MaxPooli  (None, 2464, 9)           0         \n",
            " ng1D)                                                           \n",
            "                                                                 \n",
            " dropout_17 (Dropout)        (None, 2464, 9)           0         \n",
            "                                                                 \n",
            " conv1d_14 (Conv1D)          (None, 2417, 9)           3897      \n",
            "                                                                 \n",
            " batch_normalization_14 (Ba  (None, 2417, 9)           36        \n",
            " tchNormalization)                                               \n",
            "                                                                 \n",
            " max_pooling1d_14 (MaxPooli  (None, 1208, 9)           0         \n",
            " ng1D)                                                           \n",
            "                                                                 \n",
            " dropout_18 (Dropout)        (None, 1208, 9)           0         \n",
            "                                                                 \n",
            " flatten_4 (Flatten)         (None, 10872)             0         \n",
            "                                                                 \n",
            " dense_8 (Dense)             (None, 128)               1391744   \n",
            "                                                                 \n",
            " dropout_19 (Dropout)        (None, 128)               0         \n",
            "                                                                 \n",
            " dense_9 (Dense)             (None, 6)                 774       \n",
            "                                                                 \n",
            "=================================================================\n",
            "Total params: 1409069 (5.38 MB)\n",
            "Trainable params: 1409015 (5.37 MB)\n",
            "Non-trainable params: 54 (216.00 Byte)\n",
            "_________________________________________________________________\n"
          ]
        }
      ]
    },
    {
      "cell_type": "code",
      "source": [
        "model.compile(loss='categorical_crossentropy', optimizer='adam', metrics=['accuracy'])"
      ],
      "metadata": {
        "id": "0qDH9lRIuNuX"
      },
      "execution_count": null,
      "outputs": []
    },
    {
      "cell_type": "code",
      "source": [
        "network_history = model.fit(x_train_spectrogram, y_train_spectrogram,\n",
        "                            validation_data=(x_valid_spectrogram, y_valid_spectrogram),\n",
        "                            batch_size=16,\n",
        "                            epochs=100,\n",
        "                            verbose=1,\n",
        "                            callbacks=[es])"
      ],
      "metadata": {
        "colab": {
          "base_uri": "https://localhost:8080/"
        },
        "id": "XPWrIvNOuPS7",
        "outputId": "3bfbf3a8-8286-4a65-f687-0bb07bfaee4d"
      },
      "execution_count": null,
      "outputs": [
        {
          "output_type": "stream",
          "name": "stdout",
          "text": [
            "Epoch 1/100\n",
            "2/2 [==============================] - 3s 326ms/step - loss: 7.5503 - accuracy: 0.3750 - val_loss: 12.8861 - val_accuracy: 0.0000e+00\n",
            "Epoch 2/100\n",
            "2/2 [==============================] - 0s 54ms/step - loss: 3.9606 - accuracy: 0.6250 - val_loss: 10.2035 - val_accuracy: 0.4286\n",
            "Epoch 3/100\n",
            "2/2 [==============================] - 0s 47ms/step - loss: 3.9892 - accuracy: 0.5417 - val_loss: 11.2275 - val_accuracy: 0.4286\n",
            "Epoch 4/100\n",
            "2/2 [==============================] - 0s 42ms/step - loss: 4.4967 - accuracy: 0.6667 - val_loss: 9.7665 - val_accuracy: 0.4286\n",
            "Epoch 5/100\n",
            "2/2 [==============================] - 0s 42ms/step - loss: 4.1105 - accuracy: 0.7083 - val_loss: 8.7723 - val_accuracy: 0.4286\n",
            "Epoch 6/100\n",
            "2/2 [==============================] - 0s 45ms/step - loss: 3.9807 - accuracy: 0.7083 - val_loss: 8.1617 - val_accuracy: 0.4286\n",
            "Epoch 7/100\n",
            "2/2 [==============================] - 0s 59ms/step - loss: 3.7245 - accuracy: 0.8333 - val_loss: 7.7684 - val_accuracy: 0.2857\n"
          ]
        }
      ]
    },
    {
      "cell_type": "code",
      "source": [
        "# Assuming 'history' is the variable that holds the training history\n",
        "history = network_history\n",
        "\n",
        "# Plotting training & validation accuracy values\n",
        "plt.figure(figsize=(14, 5))\n",
        "\n",
        "plt.subplot(1, 2, 1)\n",
        "plt.plot(history.history['accuracy'])\n",
        "plt.plot(history.history['val_accuracy'])\n",
        "plt.title('Model accuracy')\n",
        "plt.xlabel('Epoch')\n",
        "plt.ylabel('Accuracy')\n",
        "plt.legend(['Train', 'Validation'], loc='upper left')\n",
        "\n",
        "# Plotting training & validation loss values\n",
        "plt.subplot(1, 2, 2)\n",
        "plt.plot(history.history['loss'])\n",
        "plt.plot(history.history['val_loss'])\n",
        "plt.title('Model loss')\n",
        "plt.xlabel('Epoch')\n",
        "plt.ylabel('Loss')\n",
        "plt.legend(['Train', 'Validation'], loc='upper left')\n",
        "\n",
        "plt.show()"
      ],
      "metadata": {
        "colab": {
          "base_uri": "https://localhost:8080/",
          "height": 487
        },
        "id": "pUfBhPRhT8Jx",
        "outputId": "9cb74668-fa8f-42e0-a3c7-ca99a09bafb8"
      },
      "execution_count": null,
      "outputs": [
        {
          "output_type": "display_data",
          "data": {
            "text/plain": [
              "<Figure size 1400x500 with 2 Axes>"
            ],
            "image/png": "[encoded data removed]"
          },
          "metadata": {}
        }
      ]
    },
    {
      "cell_type": "markdown",
      "source": [
        "# **Evaluation - Spectrogram**"
      ],
      "metadata": {
        "id": "OMQK8kgZV3Yv"
      }
    },
    {
      "cell_type": "code",
      "source": [
        "x_test_spectrogram.shape"
      ],
      "metadata": {
        "colab": {
          "base_uri": "https://localhost:8080/"
        },
        "id": "l0H-DZTMuU_7",
        "outputId": "a74bc3a5-260a-4eb9-fbda-1b2ee27bd044"
      },
      "execution_count": null,
      "outputs": [
        {
          "output_type": "execute_result",
          "data": {
            "text/plain": [
              "(7, 10000, 20)"
            ]
          },
          "metadata": {},
          "execution_count": 70
        }
      ]
    },
    {
      "cell_type": "code",
      "source": [
        "y_test_spectrogram.shape"
      ],
      "metadata": {
        "colab": {
          "base_uri": "https://localhost:8080/"
        },
        "id": "MxIv_YcDud2v",
        "outputId": "474255fa-8190-4a4c-e9a9-1c407549e3f0"
      },
      "execution_count": null,
      "outputs": [
        {
          "output_type": "execute_result",
          "data": {
            "text/plain": [
              "(7, 6)"
            ]
          },
          "metadata": {},
          "execution_count": 71
        }
      ]
    },
    {
      "cell_type": "code",
      "source": [
        "eval = model.evaluate(x_test_spectrogram,y_test_spectrogram)\n",
        "print(\"Test loss:\",eval[0])\n",
        "print(\"Test accuracy:\",eval[1])"
      ],
      "metadata": {
        "colab": {
          "base_uri": "https://localhost:8080/"
        },
        "id": "h1EUbNo9ugW2",
        "outputId": "69952c0d-3d21-43ba-81ba-6013cffa3b0c"
      },
      "execution_count": null,
      "outputs": [
        {
          "output_type": "stream",
          "name": "stdout",
          "text": [
            "1/1 [==============================] - 0s 165ms/step - loss: 5.5685 - accuracy: 0.2857\n",
            "Test loss: 5.5685014724731445\n",
            "Test accuracy: 0.2857142984867096\n"
          ]
        }
      ]
    },
    {
      "cell_type": "code",
      "source": [
        "preds = model.predict(x_test_spectrogram)"
      ],
      "metadata": {
        "colab": {
          "base_uri": "https://localhost:8080/"
        },
        "id": "mGGTjxoqukyk",
        "outputId": "3e18e466-5787-4ae5-80de-91643327a227"
      },
      "execution_count": null,
      "outputs": [
        {
          "output_type": "stream",
          "name": "stdout",
          "text": [
            "1/1 [==============================] - 0s 140ms/step\n"
          ]
        }
      ]
    },
    {
      "cell_type": "code",
      "source": [
        "print(classification_report(np.argmax(y_test_spectrogram,1),np.argmax(preds,1)))"
      ],
      "metadata": {
        "colab": {
          "base_uri": "https://localhost:8080/"
        },
        "id": "c7zaWBeCumMh",
        "outputId": "2043771e-b9ee-4ada-fe60-d9405331fc4d"
      },
      "execution_count": null,
      "outputs": [
        {
          "output_type": "stream",
          "name": "stdout",
          "text": [
            "              precision    recall  f1-score   support\n",
            "\n",
            "           1       0.17      1.00      0.29         1\n",
            "           2       0.00      0.00      0.00         1\n",
            "           5       1.00      0.20      0.33         5\n",
            "\n",
            "    accuracy                           0.29         7\n",
            "   macro avg       0.39      0.40      0.21         7\n",
            "weighted avg       0.74      0.29      0.28         7\n",
            "\n"
          ]
        },
        {
          "output_type": "stream",
          "name": "stderr",
          "text": [
            "/usr/local/lib/python3.10/dist-packages/sklearn/metrics/_classification.py:1344: UndefinedMetricWarning: Precision and F-score are ill-defined and being set to 0.0 in labels with no predicted samples. Use `zero_division` parameter to control this behavior.\n",
            "  _warn_prf(average, modifier, msg_start, len(result))\n",
            "/usr/local/lib/python3.10/dist-packages/sklearn/metrics/_classification.py:1344: UndefinedMetricWarning: Precision and F-score are ill-defined and being set to 0.0 in labels with no predicted samples. Use `zero_division` parameter to control this behavior.\n",
            "  _warn_prf(average, modifier, msg_start, len(result))\n",
            "/usr/local/lib/python3.10/dist-packages/sklearn/metrics/_classification.py:1344: UndefinedMetricWarning: Precision and F-score are ill-defined and being set to 0.0 in labels with no predicted samples. Use `zero_division` parameter to control this behavior.\n",
            "  _warn_prf(average, modifier, msg_start, len(result))\n"
          ]
        }
      ]
    },
    {
      "cell_type": "code",
      "source": [
        "balanced_accuracy_score(np.argmax(y_test_spectrogram,1),np.argmax(preds,1))"
      ],
      "metadata": {
        "colab": {
          "base_uri": "https://localhost:8080/"
        },
        "id": "xsMGttssuqMD",
        "outputId": "01a061e3-4da0-4932-f000-b01d91bd1d8e"
      },
      "execution_count": null,
      "outputs": [
        {
          "output_type": "execute_result",
          "data": {
            "text/plain": [
              "0.39999999999999997"
            ]
          },
          "metadata": {},
          "execution_count": 75
        }
      ]
    },
    {
      "cell_type": "code",
      "source": [
        "conf=confusion_matrix(np.argmax(y_test_spectrogram,1),np.argmax(preds,1))\n",
        "sns.heatmap(conf, annot=True, fmt='d', vmax=100)"
      ],
      "metadata": {
        "colab": {
          "base_uri": "https://localhost:8080/",
          "height": 453
        },
        "id": "nlKhmvIYusn2",
        "outputId": "b1c9ef09-c9a7-4e10-819c-64473f092949"
      },
      "execution_count": null,
      "outputs": [
        {
          "output_type": "execute_result",
          "data": {
            "text/plain": [
              "<Axes: >"
            ]
          },
          "metadata": {},
          "execution_count": 76
        },
        {
          "output_type": "display_data",
          "data": {
            "text/plain": [
              "<Figure size 640x480 with 2 Axes>"
            ],
            "image/png": "[encoded data removed]"
          },
          "metadata": {}
        }
      ]
    }
  ],
  "metadata": {
    "colab": {
      "provenance": [],
      "gpuType": "T4",
      "include_colab_link": true
    },
    "kernelspec": {
      "display_name": "Python 3",
      "name": "python3"
    },
    "language_info": {
      "name": "python"
    },
    "accelerator": "GPU"
  },
  "nbformat": 4,
  "nbformat_minor": 0
}